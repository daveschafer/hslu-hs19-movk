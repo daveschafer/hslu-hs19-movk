{
 "cells": [
  {
   "cell_type": "markdown",
   "metadata": {},
   "source": [
    "# Secret-key or symmetric cryptography Exercise || I.BA_MOVK_MM, Semesterweek 03\n",
    "*Please write down to solution of the exercises in a consise but comprehensible way. Numerical results\n",
    "should be accurate to 4 digits.*"
   ]
  },
  {
   "attachments": {},
   "cell_type": "markdown",
   "metadata": {},
   "source": [
    "## 1. DES S-box S$_{3}$\n",
    "\n",
    "The input to the DES S-box S3 is 110111. What’s the output? Use Wikipedia, google, a book or some other source to ﬁnd the table for S3.\n",
    "\n",
    "**The first and last bit (here 11) refering to the row index 3 and the middle four bits (here 1011) refering to the column index 11. The output is 0011.**\n",
    "**Solution:** The first and last bit (here 11) refering to the row index 3 and the middle four bits (here 1011) refering to the column index 11. The output is ~~0010~~ 1100.\n",
    "\n",
    "<img src=\"img\\des_sbox.png\" style=\"width:700px;\"/>  \n",
    "\n",
    "https://de.wikipedia.org/wiki/Data_Encryption_Standard\n",
    "\n"
   ]
  },
  {
   "cell_type": "markdown",
   "metadata": {},
   "source": [
    "## 2. 3DES\n",
    "\n",
    "What is the effective key size of 3DES and why is it not 168 bits?\n",
    "\n",
    "**Solution**: The effective key length reduces to 112 bit from 168 due to the meet-in-the-middle attack."
   ]
  },
  {
   "cell_type": "markdown",
   "metadata": {},
   "source": [
    "## 3. Differences between AES and Rijndeal\n",
    "\n",
    "What are the differences between the AES candidate Rijndeal and AES with respect to block size, key size and number of rounds?\n",
    "\n",
    "|\t\t\t\t\t| AES   \t\t\t\t\t\t| Rijndal   \t\t\t|\n",
    "|:-------------------|:-------------------------------|:-----------------------|\n",
    "|block size\t\t\t|\t128 Bits\t\t\t\t\t|128, 192, 256 bits\t\t|\n",
    "|key size\t\t\t| flexible 128, 192 and 256 bits|128, 192, 256 bits\t\t|\n",
    "|number of rounds\t| 10, 12 or 14 rounds\t\t\t|10, 12, 14 rounds depending on key length|\n",
    "\n",
    "Rijndael is a block cipher with both a variable block length and a variable key length. The block length and the key length can be independently specified to any multiple of 32 bits, with a minimum of 128 bits and a maximum of 256 bits. It would be possible to define versions of Rijndael with a higher block length or key length, but currently there seems no need for it.\n",
    "\n",
    "The AES fixes the block length to 128 bits, and supports key lengths of 128, 192 or 256 bits only. The extra block and key lengths in Rijndael were not evaluated in the AES selection process, and consequently they are not adopted in the current FIPS standard.\n",
    "\n",
    "Note: AES is a substitution-permutation network (SPN).\n",
    "\n",
    "**Das 'wahre' AES gibt es nur mit 128 bit**"
   ]
  },
  {
   "attachments": {},
   "cell_type": "markdown",
   "metadata": {},
   "source": [
    "## 4. AES S-box\n",
    "\n",
    "If we input the byte 11011101 into the AES S-box, what’s the output? Use the table in slides!\n",
    "\n",
    "We split 11011101 in half, this gives us 1101 / 1101\n",
    "\n",
    "1101 = 13 and therefore the output is C1\n",
    "\n",
    "\n",
    "<img src=\"img\\aes_sbox.png\" style=\"width:400px;\"/>  \n",
    "\n",
    "https://en.wikipedia.org/wiki/Rijndael_S-box\n",
    "\n",
    "\n",
    "Spaltenindex (erste 4 Bit): **1101**1101 == Spalte 13  \n",
    "Reihenindex (nächste 4 Bit): 1101**1101** == Reihe 13  "
   ]
  },
  {
   "cell_type": "markdown",
   "metadata": {},
   "source": [
    "## 5. Other Block ciphers\n",
    "\n",
    "Compare DES, 3DES and AES with other block ciphers like IDEA, Blowﬁsh, Twoﬁsch, RC5, RC6, Serpent and three more of Your choice. Make a table that shows key size, effective key size, block size, number of rounds, relative velocity of a hard- or software implementation."
   ]
  },
  {
   "cell_type": "markdown",
   "metadata": {},
   "source": [
    "|\t\t\t\t      | DES    | 3DES             | AES             | IDEA     | Blowfish    | Twofish          | RC5         |  RC6             | Serpent           | KLEIN          | TWINE          | Zorro    |\n",
    "|:------------------- |:-------|:-----------------|:----------------|:---------|:------------|:-----------------|:------------|:-----------------|:------------------|:---------------|:---------------|:---------|\n",
    "|key size\t\t\t  | 64bits | 168,112,56 bits  | 256,192,128 bits | 128 bits | 32-448 bits | 256,192,128 bits | 1-2040 bits | 256,192,128 bits | 256,192, 128 bits | 64,80,96 bits  | 80 or 128 bits | 128 bits |    \n",
    "|block size           | 64bits | 64bits           | 128 bits        | 64 bits  | 64 bits     | 128 bits         | 32, 64 or 128 bits | 128 bits  | 128 bits          | 64 bits        | 64             | 128 bits |   \n",
    "|number of rounds\t  | 16     | 48               | 14, 12 or 10 (depends on key) | 8.5      | 16            | 16                   | 1 - 255            |     20                    | 32                       | 12, 16 or 20     | 36             | 24     |  "
   ]
  },
  {
   "cell_type": "markdown",
   "metadata": {},
   "source": [
    "## 6. Modes of operation\n",
    "\n",
    "You should be able to produce sketches of the 5 modes of operation and You should be able to write down the \n",
    "equations, relating, IVs (if any), plaintext block, key, ciphertext block, encryption and decryption, XOR. \n",
    "You should also understand the inﬂuence of a one-bit error in the ciphertext block."
   ]
  },
  {
   "attachments": {},
   "cell_type": "markdown",
   "metadata": {},
   "source": [
    "### ECB (Electronic CodeBook Mode)\n",
    "\n",
    "- **Encryption Equation:** $c_{k} = E(k,m_{k})$\n",
    "- **Decryption Equation:** $m_{k} = D(k, c_{k})$\n",
    "- **IV:** Nein\n",
    "- **One Bit Error Influence:** Errors in one ciphertext block do not propagate.\n",
    "\n",
    "<img src=\"img\\ecb.png\" style=\"width:700px;\"/>  "
   ]
  },
  {
   "attachments": {},
   "cell_type": "markdown",
   "metadata": {},
   "source": [
    "### CBC (CipherBlock Chaining Mode)\n",
    "- **Encryption Equation:** $c_{k} = E(k,m_{k} \\oplus c_{k-1});$\n",
    "- **Decryption Equation:** $m-{k} = D(k, c_{k}) \\oplus c-{k-1},$\n",
    "- **IV:** Ja\n",
    "- **One Bit Error Influence:** Errors in one block propagate to two blocks (one bit error in cj affects all bits in $m-{j}$ and one bit in $m-{j+1}$).\n",
    "\n",
    "\n",
    "<img src=\"img\\cbc.png\" style=\"width:700px;\"/>  \n"
   ]
  },
  {
   "attachments": {},
   "cell_type": "markdown",
   "metadata": {},
   "source": [
    "### CFB (Cipher Feedback Mode)\n",
    "- **Encryption Equation:** $c_{i} = m_{i} \\oplus E(k, c_{i-1})$\n",
    "- **Decryption Equation:** $m_{i} = c_{i} \\oplus E(k, c_{i-1})$\n",
    "- **IV:** ja, $c_{0}$ (should be a nonce)\n",
    "- **One Bit Error Influence:** An error of one bit in block $c_{2}$ influences $m_{2}$ at this one bit and produces garbage in the next clear text block $m_{3}$ when decrypting\n",
    "\n",
    "\n",
    "<img src=\"img\\cfb.png\" style=\"width:700px;\"/>  "
   ]
  },
  {
   "attachments": {},
   "cell_type": "markdown",
   "metadata": {},
   "source": [
    "### OFB (Output Feedback Mode)\n",
    "- **Encryption Equation:** $c_{i} = m_{i} \\oplus E(k, c_{i-1}) \\rightarrow c_{i} = m_{i} \\oplus z_{i}$\n",
    "- **Decryption Equation:** $c_{i} = m_{i} \\oplus E(k, c_{i-1}) \\rightarrow m_{i} = c_{i} \\oplus z_{i}$\n",
    "- **IV:** ja, $z_{0}$\n",
    "- **One Bit Error Influence:** there can be no tolerance for error propagation, as there are no chaining dependencies\n",
    "\n",
    "<img src=\"img\\ofb.png\" style=\"width:700px;\"/>  "
   ]
  },
  {
   "attachments": {},
   "cell_type": "markdown",
   "metadata": {},
   "source": [
    "### CTR (Counter Mode)\n",
    "- **Encryption Equation:**  $z_{i} = IV \\oplus i \\rightarrow y_{i} = x_{i} \\oplus E_{k}(z_{i})$\n",
    "- **Decryption Equation:**  $z_{i} = IV \\oplus i \\rightarrow x_{i} = y_{i} \\oplus E_{k}(z_{i})$\n",
    "- **IV:** ja, $z_{0}$ (should be a nonce)\n",
    "- **One Bit Error Influence:** There is no error propagation. If a 1 bit error in transmission, then there will be a 1 bit error in the same position, in the corresponding plaintext\n",
    "\n",
    "\n",
    "<img src=\"img\\ctr.png\" style=\"width:700px;\"/>  "
   ]
  },
  {
   "cell_type": "markdown",
   "metadata": {},
   "source": [
    "## 7. RC4\n",
    "\n",
    "Use python in Jupyter Notebook to programm RC4. Do some research on RC4 and ﬁnd out, \n",
    "why it should not be used any more! \n",
    "Siehe auch Webbrowser: Endgültig Schluss mit RC4 und Der Lange Abschied von RC4.\n"
   ]
  },
  {
   "cell_type": "code",
   "execution_count": 1,
   "metadata": {},
   "outputs": [
    {
     "name": "stdout",
     "output_type": "stream",
     "text": [
      "plaintext1: \n",
      "A3FE1BEDD8\n",
      "plaintext2: \n",
      "7CAB1ECB56"
     ]
    }
   ],
   "source": [
    "#Source: https://github.com/bozhu/RC4-Python/blob/master/rc4.py and patched for python3\n",
    "\n",
    "def KSA(key):\n",
    "    keylength = len(key)\n",
    "\n",
    "    S = range(256)\n",
    "\n",
    "    j = 0\n",
    "    for i in range(256):\n",
    "        j = (j + S[i] + key[i % keylength]) % 256\n",
    "        S = list(S)\n",
    "        S[i], S[j] = S[j], S[i]  # swap\n",
    "\n",
    "    return S\n",
    "\n",
    "\n",
    "def PRGA(S):\n",
    "    i = 0\n",
    "    j = 0\n",
    "    while True:\n",
    "        i = (i + 1) % 256\n",
    "        j = (j + S[i]) % 256\n",
    "        S[i], S[j] = S[j], S[i]  # swap\n",
    "\n",
    "        K = S[(S[i] + S[j]) % 256]\n",
    "        yield K\n",
    "\n",
    "\n",
    "def RC4(key):\n",
    "    S = KSA(key)\n",
    "    return PRGA(S)\n",
    "\n",
    "\n",
    "if __name__ == '__main__':\n",
    "    # test vectors are from http://en.wikipedia.org/wiki/RC4\n",
    "\n",
    "    # ciphertext should be BBF316E8D940AF0AD3\n",
    "    key = 'Key'\n",
    "    plaintext1 = 'Hallo'\n",
    "    plaintext2 = 'HallO'\n",
    "    \n",
    "\n",
    "    # ciphertext should be 1021BF0420\n",
    "    #key = 'Wiki'\n",
    "    #plaintext = 'pedia'\n",
    "\n",
    "    # ciphertext should be 45A01F645FC35B383552544B9BF5\n",
    "    #key = 'Secret'\n",
    "    #plaintext = 'Attack at dawn'\n",
    "\n",
    "    def convert_key(s):\n",
    "        return [ord(c) for c in s]\n",
    "    key = convert_key(key)\n",
    "\n",
    "    keystream = RC4(key)\n",
    "\n",
    "    import sys\n",
    "    print(\"plaintext1: \")\n",
    "    for c in plaintext1:\n",
    "        sys.stdout.write(\"%02X\" % (ord(c) ^ next(keystream)))\n",
    "    \n",
    "    print()\n",
    "    print(\"plaintext2: \") \n",
    "    for c in plaintext2:\n",
    "        sys.stdout.write(\"%02X\" % (ord(c) ^ next(keystream)))\n",
    "        \n",
    "    print"
   ]
  },
  {
   "cell_type": "markdown",
   "metadata": {},
   "source": [
    "RC4 should not be used anymore because it produces forseen ciphertext on similar plaintext. It is therefore vulnerable for known plaintext-attacks. This is especially easy for attacks while connecting to a network (WPE) because the high standartisation of the exchanged network packets."
   ]
  },
  {
   "cell_type": "markdown",
   "metadata": {},
   "source": [
    "## 8. Trivium\n",
    "\n",
    "Use python in Jupyter Notebook to programm Trivium. This is not an easy task: do it in groups of two! \n",
    "Use 0x00000000000000000000000000000000 for the key, IV, and plaintext for initial testing. \n",
    "The expected ciphertext for this should be 0xFBE0BF265859051B517A2E4E239FC97F. In the algorithm on slide “Trivium — Initialization”, the + represents XOR (which in python is “^”), · represents logical AND (which in python is “&”). The key-stream is\n",
    "\n",
    "z$_{i}$ =t$_{1}$+t$_{2}$+t$_{3}$\n",
    "\n",
    "and the ith byte of the ciphertext c$_{i}$ of the plaintext m$_{i}$ is \n",
    "\n",
    "c$_{i}$ = z$_{i}$ ⊕ m$_{i}$ \n",
    "\n",
    "The following site https://asecuritysite.com/encryption/trivium might be of some help!\n"
   ]
  },
  {
   "cell_type": "code",
   "execution_count": 2,
   "metadata": {},
   "outputs": [
    {
     "name": "stdout",
     "output_type": "stream",
     "text": [
      "Key: 00000000000000000000000000000000\n",
      "IV:  00000000000000000000000000000000\n",
      "Stream: 00000000000000000000000000000000\n"
     ]
    }
   ],
   "source": [
    "from collections import deque\n",
    "from itertools import repeat\n",
    "from sys import version_info\n",
    "\n",
    "\n",
    "class Trivium:\n",
    "    def __init__(self, key, iv):\n",
    "        \"\"\"in the beginning we need to transform the key as well as the IV.\n",
    "        Afterwards we initialize the state.\"\"\"\n",
    "        self.state = None\n",
    "        self.counter = 0\n",
    "        self.key = key  # self._setLength(key)\n",
    "        self.iv = iv  # self._setLength(iv)\n",
    "\n",
    "        # Initialize state\n",
    "        # len 100\n",
    "        init_list = list(map(int, list(self.key)))\n",
    "        init_list += list(repeat(0, 20))\n",
    "        # len 84\n",
    "        init_list += list(map(int, list(self.iv)))\n",
    "        init_list += list(repeat(0, 4))\n",
    "        # len 111\n",
    "        init_list += list(repeat(0, 108))\n",
    "        init_list += list([1, 1, 1])\n",
    "        self.state = deque(init_list)\n",
    "\n",
    "        # Do 4 full cycles, drop output\n",
    "        for i in range(4*288):\n",
    "            self._gen_keystream()\n",
    "\n",
    "    def encrypt(self, message):\n",
    "        all_chiper = []\n",
    "\n",
    "        for i in range(len(msg)):\n",
    "            hex_plain = hex(ord(msg[i]))\n",
    "            \n",
    "            keystream = self.keystream(8)\n",
    "            keystream = '0b' + ''.join(str(i) for i in keystream[::-1])\n",
    "            keystream = BitArray(keystream)\n",
    "            keystream.byteswap()\n",
    "            \n",
    "            plain = BitArray(hex_plain)\n",
    "            plain.byteswap()\n",
    "\n",
    "            cipher = [x ^ y for x, y in zip(map(int, list(plain)), map(int, list(keystream)))]\n",
    "            all_chiper += cipher\n",
    "\n",
    "            cipher = '0b' + ''.join(str(i) for i in cipher)\n",
    "            cipher = BitArray(cipher)\n",
    "            cipher.byteswap()\n",
    "\n",
    "            print ('{: ^15}{: ^15}{: ^15}{: ^15}{:^15}'.format(hex_plain, plain.bin, keystream.bin, cipher.bin, '0x' + cipher.hex.upper()))\n",
    "\n",
    "        return all_chiper\n",
    "\n",
    "\n",
    "    def decrypt(self, cipher):\n",
    "        \"\"\"To be implemented\"\"\"\n",
    "        pass\n",
    "\n",
    "    def keystream(self):\n",
    "        \"\"\"output keystream\n",
    "        only use this when you know what you are doing!!\"\"\"\n",
    "        while self.counter < 2**64:\n",
    "            self.counter += 1\n",
    "            yield self._gen_keystream()\n",
    "\n",
    "    def _setLength(self, input_data):\n",
    "        \"\"\"we cut off after 80 bits, alternatively we pad these with zeros.\"\"\"\n",
    "        input_data = \"{0:080b}\".format(input_data)\n",
    "        if len(input_data) > 80:\n",
    "            input_data = input_data[:(len(input_data)-81):-1]\n",
    "        else:\n",
    "            input_data = input_data[::-1]\n",
    "        return input_data\n",
    "\n",
    "    def _gen_keystream(self):\n",
    "        \"\"\"this method generates triviums keystream\"\"\"\n",
    "\n",
    "        a_1 = self.state[90] & self.state[91]\n",
    "        a_2 = self.state[181] & self.state[182]\n",
    "        a_3 = self.state[292] & self.state[293]\n",
    "\n",
    "        t_1 = self.state[65] ^ self.state[92]\n",
    "        t_2 = self.state[168] ^ self.state[183]\n",
    "        t_3 = self.state[249] ^ self.state[294]\n",
    "\n",
    "        out = t_1 ^ t_2 ^ t_3\n",
    "\n",
    "        s_1 = a_1 ^ self.state[177] ^ t_1\n",
    "        s_2 = a_2 ^ self.state[270] ^ t_2\n",
    "        s_3 = a_3 ^ self.state[68] ^ t_3\n",
    "\n",
    "        self.state.rotate(1)\n",
    "\n",
    "        self.state[0] = s_3\n",
    "        self.state[100] = s_1\n",
    "        self.state[184] = s_2\n",
    "\n",
    "        return out\n",
    "import sys\n",
    "\n",
    "k1=\"00000000000000000000000000000000\"\n",
    "i1=\"00000000000000000000000000000000\"\n",
    "\n",
    "print (\"Key: \"+k1)\n",
    "print (\"IV:  \"+i1)\n",
    "\n",
    "def main():\n",
    "    KEY = hex_to_bits(k1)[::-1]\n",
    "    IV = hex_to_bits(i1)[::-1]\n",
    "    trivium = Trivium(KEY, IV)\n",
    "\n",
    "    # Check python version\n",
    "    if version_info[0] == 2:\n",
    "        next_key_bit = trivium.keystream().next\n",
    "    elif version_info[0] == 3:\n",
    "        next_key_bit = trivium.keystream().__next__\n",
    "    else:\n",
    "        print(\"invalid python version\")\n",
    "        return\n",
    "\n",
    "    for i in range(1):\n",
    "        keystream = []\n",
    "        for j in range(128):\n",
    "            keystream.append(next_key_bit())\n",
    "        print (\"Stream: \"+bits_to_hex(keystream))\n",
    "\n",
    "# Convert strings of hex to strings of bytes and back, little-endian style\n",
    "_allbytes = dict([(\"%02X\" % i, i) for i in range(256)])\n",
    "\n",
    "\n",
    "def _hex_to_bytes(s):\n",
    "    return [_allbytes[s[i:i+2].upper()] for i in range(0, len(s), 2)]\n",
    "\n",
    "\n",
    "def hex_to_bits(s):\n",
    "    return [(b >> i) & 1 for b in _hex_to_bytes(s)\n",
    "            for i in range(8)]\n",
    "\n",
    "\n",
    "def bits_to_hex(b):\n",
    "    return \"\".join([\"%02X\" % sum([b[i + j] << j for j in range(8)])\n",
    "                    for i in range(0, len(b), 8)])\n",
    "\n",
    "\n",
    "if __name__ == \"__main__\":\n",
    "    main()"
   ]
  },
  {
   "cell_type": "markdown",
   "metadata": {},
   "source": [
    "## 9. OTP\n",
    "\n",
    "Make your own example with one-time pad. Why is it perfectly secure? Make sure, the key is truly random not used more than once and kept secret from adversaries."
   ]
  },
  {
   "cell_type": "markdown",
   "metadata": {},
   "source": [
    "https://www.youtube.com/watch?v=YdJX-8g--H4\n",
    "\n",
    "\n",
    "If the key is   \n",
    "- (1) truly random,   \n",
    "- (2) at least as long as the plaintext, \n",
    "- (3) never reused in whole or in part, and   \n",
    "- (4) kept completely secret,  \n",
    "then the resulting ciphertext will be impossible to decrypt or break.  \n",
    "\n",
    "Problematisch ist (1), ein Pseudorandomnumber Generator würde das Konstrukt bereits angreiffbar machen."
   ]
  },
  {
   "cell_type": "code",
   "execution_count": null,
   "metadata": {},
   "outputs": [],
   "source": []
  }
 ],
 "metadata": {
  "kernelspec": {
   "display_name": "Python 3",
   "language": "python",
   "name": "python3"
  },
  "language_info": {
   "codemirror_mode": {
    "name": "ipython",
    "version": 3
   },
   "file_extension": ".py",
   "mimetype": "text/x-python",
   "name": "python",
   "nbconvert_exporter": "python",
   "pygments_lexer": "ipython3",
   "version": "3.7.5"
  }
 },
 "nbformat": 4,
 "nbformat_minor": 2
}
