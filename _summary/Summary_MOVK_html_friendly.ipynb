{
 "cells": [
  {
   "cell_type": "markdown",
   "metadata": {},
   "source": [
    "# Zusammenfassung MOVK\n",
    "\n",
    "\n",
    "\n",
    "### Table of Content\n",
    "\n",
    "\n",
    "1. [SW01 - Mathematical Basis](#SW01) (S. 2)  \n",
    "    1.3. [Computing the (multiplicative) inverse I](#1.3)  \n",
    "    1.5. [Computing the (multiplicative) inverse III (Fermats Theorem)](#1.5)\n",
    "2. [SW02 - Mathematical Basis II](#SW02)  \n",
    "    2.1 [Generator or primitive element of a group](#2.1)  \n",
    "    2.2 [Fields](#2.2)   \n",
    "    2.3 [The Galois Field *GF* ($2^{2}$)](#2.3)  \n",
    "    2.5 [Quadratic congruence (Legendre)](#2.5)\n",
    "3. [SW03 - Secret-key or symmetric cryptography](#SW03)  \n",
    "    3.1 [DES S-box S$_{3}$](#3.1)  \n",
    "    3.4 [AES S-box S$_{3}$](#3.4)  \n",
    "4. [SW04 - Cryptographic Utilities](#SW04)  \n",
    "    4.4 [LFSR](#4.4)  \n",
    "    4.5 [Probability for a collision (find p](#4.5)  \n",
    "    4.6 [Probability for a collision (find n)](#4.6)  \n",
    "5. [SW05 - Public Key Cryptography I](#SW05)  \n",
    "    5.1 [Shamir’s three-pass protocol](#5.1)  \n",
    "    5.2 [Diffie Hellman](#5.2)  \n",
    "    5.3 [Discrete Logarithm Problem](#5.3)  \n",
    "    5.4.1 [RSA Ablauf](#5.4.1.)  \n",
    "    5.4.2 [Attack on textbook RSA (factorizing n)](#5.4.2)  \n",
    "    5.5. [Attack on textbook RSA - small exponent e)](#5.5)  \n",
    "    5.6. [Attack on textbook RSA - common module n)](#5.6)  \n",
    "    5.8. [Elgamal](#5.8)  \n",
    "6. [SW06 - Public Key Cryptography II](#SW06)  \n",
    "    6.1 [Elliptic curve over real numbers $\\mathbb{R}$](#6.1)  \n",
    "    6.2 [Elliptic curve over real numbers $\\mathbb{R}$](#6.2)  \n",
    "    6.4 [Elliptic curve over finite field $\\mathbb{Z}_7$](#6.4)  \n",
    "    6.5 [Diffie-Hellman using ECC](#6.5)  \n",
    "    6.6 [Elliptic Curve Discrete Logarithm Problem (ECDLP)](#6.6)  \n",
    "7. [SW07 - Protokolle I (Ladan)](#SW07)  \n",
    "    7.1 [Diffie-Hellmann-Schlüsselaustausch](#7.1)  \n",
    "    7.3 [Blinde Signatur](#7.3)  \n",
    "    7.4 [Bit Commitment](#7.4)  \n",
    "    7.4.1 [Bit Commitment Beispiel](#7.4.1)  \n",
    "8. [SW08 - Protokolle II](#SW08)  \n",
    "    8.1 [Dining Cryptographers](#8.1)  \n",
    "    8.3 [MIXe](#8.3)  \n",
    "    8.5 [Secret Splitting / Geteiltes Geheimnis](#8.5)  \n",
    "    8.6 [Schwellwertproblem](#8.6)  \n",
    "    8.8 [Treshold-Verfahren](#8.8)  \n",
    "9. [SW09 - Zertifikate und Public-Key-Systeme](#SW09)  \n",
    "    9.1 [Zertifikate](#9.1)  \n",
    "    9.2 [Zertifikatshierarchie](#9.2)  \n",
    "10. [SW10 - Homomorphe Verschlüsselung](#SW10)   \n",
    "    10.1 [Homomorphe Verschlüsselung](#10.1)  \n",
    "    10.2 [Homomorphie-Eigenschaft von EL-GAMAL](#10.2)  \n",
    "    10.3 [Paillier-Verfahren](#10.3)  \n",
    "11. [SW11 - eVoting](#SW11)  \n",
    "    11.1 [Wahlprotokoll mit symmetrischer Verschlüsselung](#11.1)  \n",
    "    11.3 [additives homomorphes Wahlprotokoll](#11.1)  \n",
    "12. [SW12 - ePayment](#SW12)  \n",
    "    12.2 [Random Serialnumber](#12.2)  \n",
    "    12.4 [EMünze Bits](#12.4)  \n",
    "    12.5 [Secret Splitting](#12.5)  \n",
    "13. [SW13 - Blockchain](#SW13)  \n",
    "    13.1 [Blockchain](#13.1)  \n",
    "    13.2 [Elektronische Zahlungsverkehr](#13.2)  \n",
    "    13.3 [Bitcoin](#13.3)  \n",
    "14. [SW14 - Quantum Cryptography](#SW14)  \n",
    "    14.2 [BB84](#14.2)  \n",
    "    14.3 [BB84 Again (Attack)](#14.3)  \n",
    "    14.4 [How to find the period of an injective function f](#14.4)  \n",
    "    14.5 [Aufgabe 5: Shor’s algorithm to factor 35](#14.5)  \n",
    "\n",
    "\n"
   ]
  },
  {
   "cell_type": "markdown",
   "metadata": {},
   "source": [
    "<hr>"
   ]
  },
  {
   "cell_type": "markdown",
   "metadata": {},
   "source": [
    "# SW01 - Mathematical Basis"
   ]
  },
  {
   "cell_type": "markdown",
   "metadata": {},
   "source": [
    "## 3 Computing the (multiplicative) inverse I¶\n",
    "\n",
    "**Your Task**: Find the multiplicative inverses of **a** modulo **n** (if it exists) if  \n",
    "1. a = 5, n = 13\n",
    "2. a = 7, n = 15\n",
    "3. a = 5, n = 15"
   ]
  },
  {
   "cell_type": "markdown",
   "metadata": {},
   "source": [
    "### Solution\n",
    "\n",
    "**a = 5, n = 13**  \n",
    "\n",
    "\n",
    "$5^{-1} = 5 \\cdot x = 1 \\bmod 13 \\Rightarrow x = 8$\n",
    "\n",
    "Denn: $(8 \\cdot 5) \\bmod 13 \\equiv 40 \\bmod 13 = 1 \\bmod 5 = 1$    \n",
    " \n",
    "**a = 7, n = 15**  \n",
    "\n",
    "$7^{-1} = 7 \\cdot x = 1 \\bmod 15 \\Rightarrow x = 13$  \n",
    "Denn: $13 \\cdot 7 \\bmod 15 = 91 \\bmod 15 = 1$\n",
    " \n",
    "**a = 5, n = 15**  \n",
    "\n",
    "$5^{-1} = 5 \\cdot x = 1 \\bmod 15 \\Rightarrow x = NULL$  \n",
    "Denn: $5^{-1}$ hat kein modulares inverses zu 15, da sie nicht **teilefremd** sind.\n",
    " "
   ]
  },
  {
   "cell_type": "markdown",
   "metadata": {},
   "source": [
    "## 5 Computing the (multiplicative) inverse III (Fermats Theorem)\n",
    "\n",
    "**Your Task**: Compute the multiplicative inverse of 9 modulo 11.\n",
    "\n",
    "### Solution\n",
    "\n",
    "It states, that for any prime **p** which is not a divisor of **a**, the following holds  \n",
    "\n",
    "$a^{p-1} \\equiv 1 \\bmod p$ i.e. $a^{p-1} \\equiv_{p} 1$\n",
    "\n",
    "**Fermats Theorem (mod inverse)**\n",
    "\n",
    "Das Theorem besagt ausserdem, falls $a^{p-1} \\equiv 1  \\bmod p$ gilt, dann ist $a^{p-2} \\equiv a^{-1} \\bmod p$ - also gleich das modular Inverse.\n",
    "\n",
    "Also: $9^{11-2} \\bmod 11 \\equiv 5$"
   ]
  },
  {
   "cell_type": "markdown",
   "metadata": {},
   "source": [
    "<hr>"
   ]
  },
  {
   "cell_type": "markdown",
   "metadata": {},
   "source": [
    "# SW02 - Mathematical Basis II"
   ]
  },
  {
   "cell_type": "markdown",
   "metadata": {},
   "source": [
    "## 1: Generator or primitive element of a group\n",
    "\n",
    "\n",
    "Is 3 a generator of ($\\mathbb{Z}^{*}_{11}, \\cdot$) ?\n",
    "\n",
    "Find a generator of ($\\mathbb{Z}*_{11}, \\cdot$)\n",
    "\n",
    "<hr>\n",
    "\n",
    "**Wir erinnern uns**: ein Generator enthält alle Elemente einer (modularen) Gruppe indem wir Ihn immer wieder mit sich selbst potenzieren.\n",
    "\n",
    "$3^{x} \\bmod 11 : (3, 9, 5, 4, 3, 9, 5...)$ - *(3 wiederholt sich nach 4 Zahlen und ist somit kein Generator)*\n",
    "\n",
    "$2^{x} \\bmod 11 : (2, 4, 8, 5, 10, 9, 7, 3, 6, 1)$ - *(2 ist ein Generator von $\\mathbb{Z}^{*}_{11}$)*"
   ]
  },
  {
   "cell_type": "markdown",
   "metadata": {},
   "source": [
    "## 2. Field\n",
    "\n",
    "Show that if *p* is prime, then $\\mathbb{Z}_{p}$ together with addition and multiplication modulo *p* constitues  \n",
    "a field. Check whether the rules (i)-(ix) hold?\n",
    "\n",
    "### Solution\n",
    "\n",
    "Gemäss dem Field Summary erfüllt $\\mathbb{Z}_{p}$ all diese bedingungen:  \n",
    "  \n",
    "<img src=\"img\\fieldsum.png\" style=\"height:250px\">\n",
    "\n",
    "![](img\\fieldsum.png)\n",
    "\n",
    "Wir testen das ganze mit \"p = 7\"\n",
    "\n",
    "Wichtig ist vorallem die Regel **viii**. Bei einer Primzahl p gibt es für jedes a ein Inverses, ansonsten nicht.\n",
    "\n",
    "<hr>"
   ]
  },
  {
   "cell_type": "markdown",
   "metadata": {},
   "source": [
    "## 3. The Galois Field *GF* ($2^{2}$)\n",
    "\n",
    "Complete the following tables for addition (top) and multiplication (bottom).\n",
    "\n",
    "**+**\n",
    "\n",
    "| +  | 00  | 01  | 10  | 11  |\n",
    "|----|---|----|----|----|\n",
    "| 00  | 00  | 01  | 10  | 11  |\n",
    "|01|01|10|11|00|\n",
    "|10|10|11|00|01|\n",
    "|11|11|00|01|00|  \n",
    "  \n",
    "\n",
    "**\\***\n",
    "\n",
    "\n",
    "|·| 00 |01 |10 |11|\n",
    "|----|---|----|----|----|\n",
    "|00 |00 |00 |00 |00|\n",
    "|01 |00 |01 |10 |11|\n",
    "|10 |00 |10|11|01|\n",
    "|11 |00 |11|01|10|\n",
    "\n",
    "*Note: Etwas wie Sudoku*"
   ]
  },
  {
   "cell_type": "markdown",
   "metadata": {},
   "source": [
    "## 5. Quadratic congruence (Legendre)\n",
    "\n",
    "Does the linear congruence $x^{2} \\equiv 446$ *(mod 1129)* have a solution *x*?   \n",
    "You need not compute *x*; just decide, if a solution exists. Use the Legendre symbol\n",
    "\n",
    "$(\\frac{446}{1129})$\n",
    "\n",
    "### Solution\n",
    "\n",
    "\n",
    "<img src=\"img\\legendre1.jpg\" style=\"height:600px\">\n",
    "\n",
    "\n",
    "<img src=\"img\\legendre2.jpg\" style=\"height:600px\">"
   ]
  },
  {
   "cell_type": "markdown",
   "metadata": {},
   "source": [
    "<hr>"
   ]
  },
  {
   "cell_type": "markdown",
   "metadata": {},
   "source": [
    "# SW03 - Secret-key or symmetric cryptography"
   ]
  },
  {
   "cell_type": "markdown",
   "metadata": {},
   "source": [
    "## 1. DES S-box S$_{3}$\n",
    "\n",
    "The input to the DES S-box S3 is 110111. What’s the output?\n",
    "\n",
    "### Solution\n",
    "\n",
    "**The first and last bit (here 11) refering to the row index 3 and the middle four bits (here 1011) refering to the column index 11.   \n",
    "The output is 0011.**\n",
    "\n",
    "\n",
    "<img src=\"img\\des_sbox.png\" style=\"width:700px;\"/> "
   ]
  },
  {
   "cell_type": "markdown",
   "metadata": {},
   "source": [
    "## 4. AES S-box\n",
    "\n",
    "If we input the byte 11011101 into the AES S-box, what’s the output? \n",
    "\n",
    "\n",
    "### Solution \n",
    "\n",
    "We split 11011101 in half, this gives us 1101 / 1101 --> row / column\n",
    "\n",
    "1101 = 13 and therefore the output is C1\n",
    "\n",
    "\n",
    "<img src=\"img\\aes_sbox.png\" style=\"width:400px;\"/>  \n",
    "\n",
    "\n",
    "Spaltenindex (erste 4 Bit): **1101**1101 == Spalte 13  \n",
    "Reihenindex (nächste 4 Bit): 1101**1101** == Reihe 13  "
   ]
  },
  {
   "cell_type": "markdown",
   "metadata": {},
   "source": [
    "<hr>"
   ]
  },
  {
   "cell_type": "markdown",
   "metadata": {},
   "source": [
    "# SW04 - Cryptographic Utilities"
   ]
  },
  {
   "cell_type": "markdown",
   "metadata": {},
   "source": [
    "## 4 LFSR\n",
    "\n",
    "**Gegeben**: \n",
    "- LFSR Länge: 5\n",
    "- Output: 1011001010\n",
    "\n",
    "### Solution\n",
    "\n",
    "<img src=\"img/lsfr2_1.jpg\" style=\"height:600px\">\n",
    "<img src=\"img/lsfr2_2.jpg\" style=\"height:600px\">\n",
    "<img src=\"img/lsfr2_3.jpg\" style=\"height:600px\">\n",
    "<img src=\"img/lsfr2_4.jpg\" style=\"height:600px\">\n",
    "\n",
    "### Tabelle zum herausfinden des Clocks\n",
    "\n",
    "<img src=\"img/psol2.1.jpg\" style=\"height:600px\">"
   ]
  },
  {
   "cell_type": "markdown",
   "metadata": {},
   "source": [
    "## 5: Probability for a collision (find p)\n",
    "\n",
    "There are 40 people in a room. You bet, that there are at least 2 people with the same birthday. What is the probability, that You win? Use the exact formula as well as the approximation.  \n",
    "\n",
    "### Solution\n",
    "\n",
    "**Allgemein Formel für W'Keit (p) von Kollision berechnen.**\n",
    "\n",
    "$p = 1 - e^{\\frac{-n(n-1)}{(2*m)}} = 1 - e^{\\frac{-40(40-1)}{(2*365)}} = 0.882$\n",
    "\n",
    "n = Anzahl effektiver Werte (z.B. Personen)  \n",
    "m = Anzahl möglicher Werte (z.B. Tage im Jahr)  \n",
    "p = Wahrscheinlichkeit\n"
   ]
  },
  {
   "cell_type": "markdown",
   "metadata": {},
   "source": [
    "## 6: Probability for a collision (find n)\n",
    "\n",
    "\n",
    "Suppose You use a hash function of length 128 bits. How many hash values would You have to compute in order to find a collision with probability at least 90%?     \n",
    "\n",
    "$n = 2^{(m+1)/2} \\cdot \\sqrt{(\\ln{(\\frac{1}{1-p})}}$  \n",
    "\n",
    "where m=128 and p=0.9.\n",
    "\n",
    "Angenäherte Formel: $n = 2^{\\frac{m}{2}}$\n",
    "\n",
    "### Solution\n",
    "\n",
    "$n = 2^{(m+1)/2} \\cdot \\sqrt{(\\ln{(\\frac{1}{1-p})}} = 2^{(128+1)/2} \\cdot \\sqrt{(\\ln{(\\frac{1}{1-0.9})}} = 3.958 \\cdot 10^{19}$  "
   ]
  },
  {
   "cell_type": "markdown",
   "metadata": {},
   "source": [
    "<hr>"
   ]
  },
  {
   "cell_type": "markdown",
   "metadata": {},
   "source": [
    "# SW05 - Public Key Cryptography I"
   ]
  },
  {
   "cell_type": "markdown",
   "metadata": {},
   "source": [
    "## 1 Shamir’s three-pass protocol\n",
    "\n",
    "Alice and Bob want the implement Shamir’s three-pass protocol using the Vernam cipher, i.e. one-time pad. This is supposed to provide perfect secrecy. Is the following protocol secure?\n",
    "\n",
    "\n",
    "<img src=\"img/VernamCiphers.png\" style=\"height:200px\">\n",
    "\n",
    "__Your Task__: Can You compute the message? Make an example with $M = 010110111101$,\n",
    "$K_A = 101101110100$, and $K_B = 001011011011$.\n",
    "\n",
    "### Solution \n",
    "\n",
    "<img src=\"img/psol3.jpg\" style=\"height:500px\">"
   ]
  },
  {
   "cell_type": "markdown",
   "metadata": {},
   "source": [
    "## 2 Diffie Hellman\n",
    "\n",
    "_Alice_ and _Bob_ agree to use $n = 13$ and $e = 11$. Alice chooses her secret number $a = 5$, whereas Bob chooses $b = 7$.\n",
    "\n",
    "__Your Task__: What are the requirements for $n$ and $e$? Are they fullfilled? Describe the key agreement protocol step by step using the above assumptions about a and b. What is the common secret key?\n",
    "\n",
    "### Solution\n",
    "\n",
    "$e$ must be a generator for $\\mathbb{Z}_n^*$, this is true for $e = 11$ to $n=13$\n",
    "\n",
    "<img src=\"img/diffieh.jpg\" style=\"height:600px\">"
   ]
  },
  {
   "cell_type": "markdown",
   "metadata": {},
   "source": [
    "## 3 Discrete Logarithm Problem\n",
    "\n",
    "Assume Mallory intercepts the message $A = 9$ from Alice to Bob and $B = 3$ from Bob to Alice.\n",
    "He also knows $n = 13$ and $g = 11$.\n",
    "\n",
    "__Your Task__: Suppose Mallory wants to know the common key. Describe his steps to find this key!\n",
    "\n",
    "### Solution\n",
    "\n",
    "He would need to find $a$ such that $A=g^a \\mod n$.\n",
    "Then he could calculate $B^a=K \\rightarrow(g^{b \\cdot a})$.\n",
    "\n",
    "$9=11^a \\mod 13$  \n",
    "\n",
    "$11^1 = 11$  \n",
    "\n",
    "$...$\n",
    "\n",
    "$11^8 = 9 -> a=8 \\rightarrow K = A^b = 3^8 \\bmod 13 = 9$\n",
    "\n",
    "For large numbers, this is **infeasable**."
   ]
  },
  {
   "cell_type": "markdown",
   "metadata": {},
   "source": [
    "## 4.0 - RSA Ablauf\n",
    "\n",
    "<img src=\"img/rsa_ablauf.jpg\" style=\"height:600px\">"
   ]
  },
  {
   "cell_type": "markdown",
   "metadata": {},
   "source": [
    "## 4.1 Attack on textbook RSA (factorizing n)\n",
    "\n",
    "The public key $(n,e) = (2537,13)$ was used to encrypt the plaintext $M$. Eve intercepts the ciphertext $C = 2081$.\n",
    "\n",
    "__Your Task__: Show how Eve computes the plaintext $M$!\n",
    "\n",
    "### Solution\n",
    "\n",
    "\n",
    "<img src=\"img/rsa_2_factorizing.jpg\" style=\"height:600px\">"
   ]
  },
  {
   "cell_type": "markdown",
   "metadata": {},
   "source": [
    "## 5 Attack on textbook RSA — small exponent e\n",
    "\n",
    "Frequently, the exponent $e$ in the public key $(n,e)$ is choosen very small, say $e = 3$. Hence, encryption of $m$ is very fast\n",
    "\n",
    "$$ c = m^3 \\mod n$$\n",
    "\n",
    "__Your Task__: Assume the message $m$ is sent to 3 different people using textbook RSA, with moduli $n_1 = 377,\\ n_2 = 391$, and $n_3 = 589$. You get hold of the corresponding ciphertexts\n",
    "\n",
    "$$330 = m^3 \\mod 377$$\n",
    "$$34 = m^3 \\mod 391$$\n",
    "$$419 = m^3 \\mod 589$$\n",
    "\n",
    "Compute $m =\\sqrt[3]{x}$ using the CRT, where $x = m^3$ satisfies the system of linear congruences\n",
    "\n",
    "$$ x \\equiv 330 \\mod 377 $$\n",
    "$$ x \\equiv 34  \\mod 391 $$\n",
    "$$ x \\equiv 419 \\mod 589 $$\n",
    "\n",
    "### Solution\n",
    "\n",
    "$n_1 = 377,\\ n_2 = 391$, and $n_3 = 589$  \n",
    "\n",
    "$x_1 = 330 \\bmod 377$,  $x_2 = 34 \\bmod 391$,  $x_3 = 419 \\bmod 589$\n",
    "\n",
    "<img src=\"img/rsa_small_e_sol.png\" style=\"height:350px\">\n",
    "\n",
    "#### Solution Steps\n",
    "\n",
    "Gegeben: n1,n2,n3 | x1,x2,x3\n",
    "\n",
    "**Schritt 1**\n",
    "\n",
    "N1,N2,N3 berechnen.\n",
    "\n",
    "$N_1 = n_2 \\cdot n_3$  \n",
    "$N_2 = n_1 \\cdot n_3$  \n",
    "$N_3 = n_1 \\cdot n_2$\n",
    "\n",
    "**Schritt 2**\n",
    "\n",
    "y1,y2,y3 berechnen.\n",
    "\n",
    "$y_1 =$ mod-Inverse $N_1 mod x_1$  \n",
    "$y_2 =$ mod-Inverse $N_2 mod x_2$  \n",
    "$y_3 =$ mod-Inverse $N_3 mod x_3$  \n",
    "\n",
    "**Schritt 3**\n",
    "\n",
    "x berechnen\n",
    "\n",
    "x = Summe($x_1 \\cdot N_1 \\cdot$ $y_1$ + $x_2 \\cdot N_2 \\cdot$ $y_2$ + $x_3 \\cdot N_3 \\cdot$ $y_3$ $\\bmod (n_1 \\cdot n_2 \\cdot n_3 )$)\n",
    "\n",
    "**Schritt 4**\n",
    "\n",
    "e-te Wurzel von x berechnen = m\n",
    "\n",
    "$\\sqrt[3]{x} = m$"
   ]
  },
  {
   "cell_type": "markdown",
   "metadata": {},
   "source": [
    "## 6 Attack on textbook RSA — common module n\n",
    "\n",
    "Suppose the CTO of a company wants that all employees use the same module $n$. The individual employees have pairwise different $(e_i , d_i )$. Suppose, two employees $A$ and $B$ have the public keys $(n,e_A)$ and $(n,e_B)$ where $\\gcd(e_A,e_B) = 1$.\n",
    "\n",
    "Now the administration sends the encrypted message $m$ to the two employees\n",
    "\n",
    "$$c_A = m^{e_A} \\mod n $$\n",
    "$$ c_B = m^{e_B} \\mod n$$\n",
    "\n",
    "__Your Task__: Design an example with small numbers which demonstrates, this attack!  \n",
    "Assume $n = 11\\cdot 13$, i.e. $p = 11$ and $q = 13$.\n",
    "\n",
    "### Solution\n",
    "\n",
    "\n",
    "<img src=\"img/psol5.jpg\" style=\"height:600px\">"
   ]
  },
  {
   "cell_type": "markdown",
   "metadata": {},
   "source": [
    "## 8 Elgamal 2nd\n",
    "\n",
    "Alice uses the private key $a=1751$ and computes the public key $(p=2357,\\alpha=2,\\alpha^a =1185)$.\n",
    "Now Bob wants to encrypt the message $m = 2035$. He uses the random $k = 1520$.\n",
    "\n",
    "__Your Task__: Compute the encrypted message and show how Alice decrypts the message.\n",
    "\n",
    "### Solution\n",
    "\n",
    "<img src=\"img/psol6_2.jpg\" style=\"height:600px\">\n",
    "\n",
    "Der letzte Schritt $K_{M}^{-1}$ mit erweitertem Euklid berechnen ($a \\cdot 2084 + b \\cdot 2357 = 1$)"
   ]
  },
  {
   "cell_type": "markdown",
   "metadata": {},
   "source": [
    "<hr>"
   ]
  },
  {
   "cell_type": "markdown",
   "metadata": {},
   "source": [
    "# SW06 - Public Key Cryptography II"
   ]
  },
  {
   "cell_type": "markdown",
   "metadata": {},
   "source": [
    "## 1 Elliptic curve over real numbers $\\mathbb{R}$\n",
    "\n",
    "Given the elliptic curve $E : y^2 = x^3 - 3x + 9$. If this curve is not singular (check this), compute $a$ and $b$, such that $P_1 = (0,a)$ and $P_2 = (2,b)$ lay on $E$. Compute $P = P_1 +P_2$ and draw $E$ together with $P_1$ , $P_2$ and $P$.\n",
    "\n",
    "### Solution\n",
    "\n",
    "**1st Step**: Always Check if its Not-Singular:\n",
    "\n",
    "$4a^3+27b^2 \\neq 0$ (not singular)\n",
    "\n",
    "$4*(-3)^3+27*9^2 = -4*27 + 27*81 = 27*(81-4) \\neq 0$\n",
    "\n",
    "\n",
    "<img src=\"img/ecurve1.jpg\" style=\"height:600px\">"
   ]
  },
  {
   "cell_type": "markdown",
   "metadata": {},
   "source": [
    "## 2 Elliptic curve over real numbers $\\mathbb{R}$\n",
    "\n",
    "Given the elliptic curve $E : y^2 = x^3 - 3x + 5$ and point $P = (2,2.65) \\in E$.\n",
    "\n",
    "\n",
    "__Your Task__: Draw $E$, point $P$ and compute $2P$, $4P$ and $8P$. Solve this problem with minimal computational work!\n",
    "\n",
    "### Solution\n",
    "\n",
    "\n",
    "<img src=\"img/ecurve2.jpg\" style=\"height:600px\">"
   ]
  },
  {
   "cell_type": "markdown",
   "metadata": {},
   "source": [
    "## 4 Elliptic curve over finite field $\\mathbb{Z}_7$\n",
    "\n",
    "Let $E : y^2 \\equiv x^3 +3x+2 \\bmod 7$ an elliptic curve over $\\mathbb{Z}_7$.\n",
    "\n",
    "\n",
    "__Your Task__:\n",
    "1. Compute all points on $E$ over $\\mathbb{Z}_7$.\n",
    "2. What is the order of the group? (Hint: Do not miss the identity element $O$)\n",
    "3. Given the element $\\alpha = (0,3)$, determine the order of $\\alpha$. Is $\\alpha$ a primitive element?\n",
    "\n",
    "\n",
    "### Solution\n",
    "\n",
    "\n",
    "<img src=\"img/ecurve_z_1.jpg\" style=\"height:600px\">\n",
    "\n",
    "<img src=\"img/ecurve_z_2.jpg\" style=\"height:600px\">"
   ]
  },
  {
   "cell_type": "markdown",
   "metadata": {},
   "source": [
    "## 5 Diffie-Hellman using ECC\n",
    "Alice and Bob agree to use the elliptic curve $E : y^2 = x^3 +x+1$ and point $P = (5,4) \\in E$. Alice chooses her secret number $a = 5$, whereas Bob chooses $b = 7$.\n",
    "\n",
    "\n",
    "__Your Task__: Describe the key agreement protocol step by step using the above assumptions about $a$ and $b$. What is the common secret key?\n",
    "\n",
    "Suppose that the elliptic curve is in mod 23 (23=n) and all points $\\in Z$\n",
    "\n",
    "### Solution \n",
    "\n",
    "$1\\cdot P=(5,4)$  \n",
    "$2\\cdot P=(17,20)$  \n",
    "$4\\cdot P=(13,7)$  \n",
    "$5\\cdot P=(17,3)=Q_a$  \n",
    "$7\\cdot P$ is 0 because wether it's calculated 2P + 5P, or P + 6P, or 3P + 4P, x is always equal in both points.  \n",
    "\n",
    "**Erklärung** Da die x-Werte von (2P & 5P), (P & 6P), (3P & 4P) gleich sind, würde bei der Berechnung $0^{-1} mod p$ rauskommen --> Von 0 gibt es aber kein Modulares Inverses, weshalb 7P = 0.\n",
    "\n",
    "\n",
    "|Alice computes $Q_{a\\cdot b} = a\\cdot Q_b$|Bob computes $Q_{a\\cdot b} = b\\cdot Q_a$|\n",
    "| ----- | ------- |\n",
    "|$Q_{a\\cdot b} = 5\\cdot Q_b$|$Q_{a\\cdot b} = 7\\cdot Q_a$|\n",
    "|$Q_{a\\cdot b} = 4\\cdot Q_b+Q_b$|$Q_{a\\cdot b} = 4\\cdot Q_a+Q_a+2\\cdot Q_a$|\n",
    "|Alice gets $Q_{a\\cdot b} = 0$|Bob gets $Q_{a\\cdot b} =0$|\n",
    "\n",
    "### Kurz Erklärung (reicht für MEP)\n",
    "\n",
    "1. Zuerst müssten mit $1P$ alle anderen Punkte berechnet werden (2P, 3P, 4P... 7P) {Dauert viel zu lange...}\n",
    "\n",
    "2. Alice berechnet $A$ und sendet es an Bob: $A = a \\cdot P = 5 \\cdot P = 5P = (17,3)$\n",
    "\n",
    "3. Bob berechnet $B$ und sendet es an Alice: $B = b \\cdot P = 7 \\cdot P = \\mathbb{O}$\n",
    "\n",
    "4. Alice kann den Common-Key berechnen: $K_{BA} = a \\cdot B = 5 \\cdot B = 5 \\cdot 7P = 35P = 5 \\cdot \\mathbb{O} = \\mathbb{O}$\n",
    "\n",
    "5. Bob kann auch den Common-Key berechnen: $K_{AB} = b \\cdot A = 7 \\cdot A = 7 \\cdot 5P = 35P = \\mathbb{O}$"
   ]
  },
  {
   "cell_type": "markdown",
   "metadata": {},
   "source": [
    "## 6 Elliptic Curve Discrete Logarithm Problem (ECDLP)\n",
    "Assume Mallory intercepts the message $A = (10,6)$ from Alice to Bob and $B = (7,11)$ from Bob to Alice. He also knows the elliptic curve $E : y^2 \\equiv x^3 +2x+2 \\bmod 17$, which forms a cyclic group of order 19, and point $P = (5,1)$.\n",
    "\n",
    "__Your Task__: Suppose Mallory wants to know the common key. Describe his steps to find this key!\n",
    "\n",
    "### Solution\n",
    "\n",
    "<img src=\"img/p19Tabelle.png\" style=\"height:100px\">\n",
    "\n",
    "#### Kurzbeschreibung (für MEP)\n",
    "\n",
    "1. Mit der Kurvenformel und P1 alle anderen Punkte  bis P19 berechnen. (dauert wieder ewigs)\n",
    "\n",
    "2. In der Tabelle schauen, welche P's den Punkten $Alice: (10,6)$ und $Bob: (7, 11)$ entsprechen -> P3 und P10\n",
    "\n",
    "3. Voila: Secret Key Alice=3, Bob=10"
   ]
  },
  {
   "cell_type": "markdown",
   "metadata": {},
   "source": [
    "<hr>"
   ]
  },
  {
   "cell_type": "markdown",
   "metadata": {},
   "source": [
    "# SW07 - Protokolle I (Ladan)"
   ]
  },
  {
   "cell_type": "markdown",
   "metadata": {},
   "source": [
    "## 1: Diffie-Hellmann-Schlüsselaustausch\n",
    "\n",
    "Im Unterricht wurde das Protokoll Diffie-Hellmann sicher vorgeführt. Kann ein Angreifer  \n",
    "Namens Mr. X das System angreifen, falls er die Zahlen $\\alpha$ und $\\beta$ kennen würde? Begründen Sie  \n",
    "Ihre Antwort.\n",
    "\n",
    "<img src=\"img/dhel_example.png\" style=\"height:130px\">\n",
    "\n",
    "### Solution\n",
    "\n",
    "$\\alpha$ und $\\beta$ sind A und B , sprich die öffentlichen Teile des Schlüssels.  \n",
    "Das Knacken des Diffie-Hellmann-Schlüsselaustauschprotokolls ist gleichwertig zum Berechnen des diskreten  \n",
    "Logarithmus und somit nicht in vernünftiger Zeit lösbar."
   ]
  },
  {
   "cell_type": "markdown",
   "metadata": {},
   "source": [
    "## 3: Blinde Signatur\n",
    "\n",
    "Führen Sie zu Zweit die blinde Signatur durch. Protokollieren Sie das Vorgehen und zeigen Sie,\n",
    "wie der Signierer die Nachricht berechnen kann, welche er (blind) signiert!\n",
    "\n",
    "### Solution\n",
    "\n",
    "<img src=\"img/blindsig.jpg\" style=\"height:600px\">\n",
    "\n",
    "**INFO**: $\\Delta$ n habe ich hier mit kgv berechnet, das ist nicht falsch (die Rechnung geht auf) aber für das wahre RSA und für unsere Prüfung müssen wir phi(n) --> Also (p-1)*(q-1) verwenden. Hier die phi(n) Variante:\n",
    "\n",
    "<img src=\"img/blindsig2.jpg\" style=\"height:600px\">"
   ]
  },
  {
   "cell_type": "markdown",
   "metadata": {},
   "source": [
    "## Aufgabe 4: Bit-Commitment\n",
    "\n",
    "Alice leitet die Vertriebsabteilung einer IT-Firma. Sie bereitet eine Offerte mit ihrem Team vor,  \n",
    "um an einem digitalen Ausschreibungsprozess teilzunehmen. Als Protokoll zum Einreichen der  \n",
    "Offerten wurde Bit-Commitmnet, allerdings mit einem Bit *b* der Länge eins (1) ,festgelegt. Wie  \n",
    "kann Alice sicher sein, dass Bob (ein Mitbewerber) das Bit *b* nicht berechnen kann? \n",
    "\n",
    "### Solution\n",
    "\n",
    "Bei der Festlegungsphase des Bits b verwendet das Bit-Commitment-Protokolls eine  \n",
    "kollisionsfreie Einweg-Hash-Funktion. Dadurch kann Alice sicher sein, dass der Mitbewerber  \n",
    "Bob nicht das Bit b (das Urbild unter der kollisionsfreien Einweg-Hash-Funktion) aus dem  \n",
    "Funktionswert berechnen kann."
   ]
  },
  {
   "cell_type": "markdown",
   "metadata": {},
   "source": [
    "## 4.1 Bit-Commitment (Beispiel)\n",
    "\n",
    "### Solution \n",
    "\n",
    "<img src=\"img/bitcom.jpg\" style=\"height:600px\">"
   ]
  },
  {
   "cell_type": "markdown",
   "metadata": {},
   "source": [
    "<hr>"
   ]
  },
  {
   "cell_type": "markdown",
   "metadata": {},
   "source": [
    "# SW08 - Protokolle II"
   ]
  },
  {
   "cell_type": "markdown",
   "metadata": {},
   "source": [
    "## Aufgabe 1: Dining-Cryptographers\n",
    "\n",
    "Ziehen Sie das Protokoll Dining-Cryptographers im Falle einer Dreiergruppe einige Male durch,\n",
    "indem sie das Protokoll mit einem Schiedsrichter überprüfen:\n",
    "\n",
    "### Solution\n",
    "\n",
    "David, Pascal, Stefan:\n",
    "\n",
    "**Geheimes Bit erzeugen**\n",
    "\n",
    "$b_{DP}$ = 1, $b_{DS}$ = 1\n",
    "\n",
    "$b_{PD}$ = 1, $b_{PS}$ = 0\n",
    "\n",
    "$b_{SD}$ = 1, $b_{SP}$ = 0\n",
    "\n",
    "**XOR der jeweiligen Geheimen Bits berechnen**\n",
    "\n",
    "David: $b_{DP}$ + $b_{DS}$ mod 2 = 1 + 1 mod 2 = 0 \n",
    "\n",
    "Pascal: $b_{PD}$ + $b_{PS}$ mod 2 = 1 + 0  mod 2 = 1 \n",
    "\n",
    "Stefan: $b_{SP}$ + $b_{SD}$ mod 2 = 0 + 1  mod 2 = 1\n",
    "\n",
    "**Wenn der Kryptologe nicht bezahlen will, wird das XOR-Resultat bekannt gegeben, möchte er bezahlen wird das Gegenteil vom XOR-Resultat ausgegeben**\n",
    "\n",
    "David hat \"0\". David bezahlt nicht und meldet deshalb \"0\"   \n",
    "Pascal  hat \"1\", Pascal bezahlt und meldet deshalb das Gegenteil, also \"0\"  \n",
    "Stefan hat \"1\". Stefan bezahlt nicht und meldet deshalb \"1\"  \n",
    "\n",
    "**Alle Ergebnisse nochmals XORen**\n",
    "\n",
    "David + Pascal + Stefan mod 2 = 0 + 0 + 1 = 1 (Das bit ist 1, also hat 1 (gütiger) Kryptologe bezahlt :)"
   ]
  },
  {
   "cell_type": "markdown",
   "metadata": {},
   "source": [
    "## Aufgabe 3: MIXe\n",
    "\n",
    "Beispiel MIXE\n",
    "\n",
    "### Solution\n",
    "\n",
    "<img src=\"img/mixe.jpg\" style=\"height:600px\">"
   ]
  },
  {
   "cell_type": "markdown",
   "metadata": {},
   "source": [
    "## Aufgabe 5: Secret Splitting / Geteiltes Geheimnis\n",
    "\n",
    "Verteilen Sie das Geheimnis 01011001 auf drei Leute! Protokollieren Sie das Vorgehen und zeigen\n",
    "Sie, wie man das Geheimnis rekonstruiert.\n",
    "\n",
    "\n",
    "### Solution\n",
    "\n",
    "\n",
    "$M = 01011001$\n",
    "\n",
    "Alice: $11001100 = A$\n",
    "\n",
    "Bob: $10101010 = B$\n",
    "\n",
    "Cyril: $A \\oplus B \\oplus M = 00111111 = C$\n",
    "\n",
    "$M = A \\oplus B \\oplus C = 01011001$"
   ]
  },
  {
   "cell_type": "markdown",
   "metadata": {},
   "source": [
    "## Aufgabe 6: (2,3)-Schwellenwertproblem - (Optional)\n",
    "\n",
    "Das Geheimnis $M$ wird mit den drei Zufallszahlen $R_1, R_2, R_3$ in drei Teilgeheimnisse aufgeteilt. Das Teilgeheimnis \n",
    "$M_1=(M_{11},M_{12},M_{13})=(R_1 \\oplus M, R_2,R_3)$ ist gegeben.  \n",
    "\n",
    "1. Definieren Sie $M_2$ und $M_3$.  \n",
    "2. Rekonstruieren Sie **M** nur mit zwei Teilgeheimnissen  \n",
    "\n",
    "### Solution\n",
    "\n",
    "*Ist ähnlich wie die Aufgabe 5.* \n",
    "\n",
    "Wir definieren z.B. $M_2=(M_{21},M_{22},M_{23})=(R_2 \\oplus M, R_3,R_1)$  \n",
    "Im Endefekkt haben wir etwas wie $M_{11} = R_1 \\oplus M$ und ebenfalls $M_{23} = R_1 \\oplus M$  \n",
    "Wir machen $M_{11} \\oplus M_{23}$, so löst sich $R_1$ auf und wir haben sofort wieder $M$."
   ]
  },
  {
   "cell_type": "markdown",
   "metadata": {},
   "source": [
    "## Aufgabe 8: Threshold-Verfahren (Optional 2)\n",
    "\n",
    "Alice teilt ein Geheimnis $S$ mit einem Polynom des 2. Grades mit. Die Zahl $S$ ist die y-Achsenabschnitt\n",
    "(0, S), die das Geheimnis darstellt. Als Teilgeheimnisse sind drei verschiedene Punkte $(3, 2), (4, 1),\n",
    "(5, 2)$ bekannt. Wie rekonstruieren Sie das Geheimnis?\n",
    "\n",
    "### Solution\n",
    "\n",
    "Allgemeines Polynom zweiten Grades: \n",
    "$$f(x) = a_2\\cdot x^2 + a_1\\cdot x^1 + a_0\\cdot 1$$\n",
    "\n",
    "$$ 2 = a_2\\cdot 3^2 + a_1\\cdot 3^1 + a_0\\cdot 1$$\n",
    "$$ 1 = a_2\\cdot 4^2 + a_1\\cdot 4^1 + a_0\\cdot 1$$\n",
    "$$ 2 = a_2\\cdot 5^2 + a_1\\cdot 5^1 + a_0\\cdot 1$$\n",
    "\n",
    "$$\n",
    "\\begin{bmatrix}\n",
    "2\\\\\n",
    "1\\\\\n",
    "2\\\\\n",
    "\\end{bmatrix}\n",
    "=\n",
    "\\begin{bmatrix}\n",
    "9 & 3 & 1\\\\\n",
    "16 & 4 & 1\\\\\n",
    "25 & 5 & 1\\\\\n",
    "\\end{bmatrix}\n",
    "\\cdot\n",
    "\\begin{bmatrix}\n",
    "a_2\\\\\n",
    "a_1\\\\\n",
    "a_0\\\\\n",
    "\\end{bmatrix}\n",
    "$$\n",
    "\n",
    "*Dann hier etwas Linalg Python Magic, was an der MEP nicht möglich ist :)*\n",
    "\n",
    "$$\n",
    "\\begin{bmatrix}\n",
    "a_2\\\\\n",
    "a_1\\\\\n",
    "a_0\\\\\n",
    "\\end{bmatrix}\n",
    "=\n",
    "\\begin{bmatrix}\n",
    "1\\\\\n",
    "-8\\\\\n",
    "17\\\\\n",
    "\\end{bmatrix}\n",
    "$$\n",
    "\n",
    "Und da $S = a_0$ haben wir damit die Lösung $S = 17$."
   ]
  },
  {
   "cell_type": "markdown",
   "metadata": {},
   "source": [
    "<hr>"
   ]
  },
  {
   "cell_type": "markdown",
   "metadata": {},
   "source": [
    "# SW09 - Zertifikate und Public-Key-Systeme"
   ]
  },
  {
   "cell_type": "markdown",
   "metadata": {},
   "source": [
    "## Aufgabe 1: Zertifikate\n",
    "\n",
    "Erstellen Sie ein kurzes Protokoll zur Zertifikaterstellung und Zertifikatüberprüfung.\n",
    "\n",
    "### Solution \n",
    "\n",
    "1. Hierzu erzeugt der Kunde im ersten Schritt auf seiner eigenen privaten Hardware ein Schlüsselpaar (einen privaten Schlüssel und einen öffentlichen).\n",
    "2. Der Kunde erzeugt eine CSR-Datei, welche ein elektronisches Formular ist. Es enthält neben den Antragsdaten auch seinen öffentlichen Schlüssel.\n",
    "3. Im dritten Schritt sendet der Kunde die CSR an die CA.\n",
    "4. Die CA prüft den Antrag (also die CSR-Datei mit den Formularangaben und dem enthaltenden öffentlichen Zertifikat). Bei positiver Prüfung sendet die CA dem Käufer ein neues öffentliches Zertifikat zurück (als doppelt signierter öffentlicher Schlüssel).\n",
    "\n",
    "\n",
    "Für die Zertifikatsprüfung kann nun der öffentliche Schlüssel der von Alice bereitgestellt wird von einer Drittperson mit dem öffentlichen Schlüssel der signing CA vergleichen.\n",
    "    "
   ]
  },
  {
   "cell_type": "markdown",
   "metadata": {},
   "source": [
    "## Aufgabe 2: Zertifikatshierarchie\n",
    "\n",
    "1. Welche Vorteile hat eine Zertifikatshierarchie für eine Firma und für die einzelne\n",
    "Benutzerin?\n",
    "2. Welche Nachteile hat eine Zertifikatshierarchie für eine Firma und für den einzelnen\n",
    "Benutzer?\n",
    "\n",
    "### Solution Quick\n",
    "\n",
    "\n",
    "1. Zertifikatsbasierte authentifizierungen vereinfachen das gesamte Authentifizierungsverfahren. Durch eine eigene CA hat man in der Firma volle Kontrolle über die Zertifikate und muss nicht über eine public CA gehen.\n",
    "\n",
    "2. Das Problem sind vorallem die Trusts mit anderen Firmen/CA's. Hierfür muss immer jeweils das Root Zertifikat der anderen Firmen im Truststore eingespielt werden."
   ]
  },
  {
   "cell_type": "markdown",
   "metadata": {},
   "source": [
    "<hr>"
   ]
  },
  {
   "cell_type": "markdown",
   "metadata": {},
   "source": [
    "# SW10 - Homomorphe Verschlüsselung"
   ]
  },
  {
   "cell_type": "markdown",
   "metadata": {},
   "source": [
    "## Aufgabe 1: Homomorphe Verschlüsselung\n",
    "\n",
    "1. Welches der drei Verschlüsselungsverfahren (RSA, EL-GAMAL, Paillier) ist eher\n",
    "geeignet für die Verwendung in homomorpher Verschlüsselung eingesetzt werden?\n",
    "Begründen bitte Ihre Antwort?\n",
    "2. Geben Sie ein Beispiel, in welchem Bereich das Paillier-Verfahren eingesetzt werden\n",
    "könnte? Begründen Sie Ihre Antwort?\n",
    "\n",
    "### Solution\n",
    "\n",
    "<img src=\"img/algoverview.png\" style=\"height:175px\">\n",
    "\n",
    "1. RSA ist semantisch nicht korrekt, da durch Polluting (rauschen) das Ver+Entschlüsseln nicht immer dasselbe ergeben. Konkret wenn das Rechenergebnis grösser als der Modulus ist, wird das Resultat \"abgeschnitten\".\n",
    "Elgamal und Paillier sind besser geeignet da sie semantisch sind.\n",
    "Jedoch ist Elgamal nur für die Multiplikation und Paillier nur für die Addition geeignet (kommt halt auf den Einsatzzweck an). Paillier ist ausserdem sehr komplex und rechenintensiv.\n",
    "\n",
    "2. Paillier könnte z.B. für E-Voting genutzt werden. So könnte man alle abgegebenen Stimmen zählen (addieren) ohne zu sehen wer konkret wen gewählt hat"
   ]
  },
  {
   "cell_type": "markdown",
   "metadata": {},
   "source": [
    "## Aufgabe 2: Homomorphie-Eigenschaft von EL-GAMAL\n",
    "\n",
    "Berechnen Sie bitte jeden Schritt im unteren Teil des Beispiels (s. unten). Die Berechnung\n",
    "für den oberen Teil finden Sie auf den Folien SW10\n",
    "\n",
    "<img src=\"img/elgamal.png\" style=\"height:300px\">\n",
    "\n",
    "### Solution\n",
    "\n",
    "<img src=\"img/helg1.jpg\" style=\"height:600px\">  \n",
    "\n",
    "<img src=\"img/helg2.jpg\" style=\"height:600px\">"
   ]
  },
  {
   "cell_type": "markdown",
   "metadata": {},
   "source": [
    "## Aufgabe 3: Paillier-Verfahren\n",
    "\n",
    "Gegeben sind zwei Primzahlen **p**=3 und **q**=5. Sei **g**=16 aus $Z^{*}_{225}$   zufällig gewählt.\n",
    "1. Berechnen Sie jeweils den öffentlichen und privaten Schlüssel.\n",
    "2. Verschlüssen Sie den Klartext m=13.\n",
    "3. Entschlüssen Sie den Ciphertext c=71.\n",
    "\n",
    "### Solution\n",
    "\n",
    "<img src=\"img/pail1.jpg\" style=\"height:600px\">  \n",
    "\n",
    "<img src=\"img/pail2.jpg\" style=\"height:600px\">\n"
   ]
  },
  {
   "cell_type": "markdown",
   "metadata": {},
   "source": [
    "<hr>"
   ]
  },
  {
   "cell_type": "markdown",
   "metadata": {},
   "source": [
    "# SW11 - eVoting"
   ]
  },
  {
   "cell_type": "markdown",
   "metadata": {},
   "source": [
    "## Aufgabe 2: Wahlprotokoll mit symmetrischer Verschlüsselung\n",
    "\n",
    "Wir betrachten zwei Wählerinnen Alice und Eve. Am Ende des symmetrischen eVoting Protokolls mit\n",
    "blinder Signatur möchte Eve ermitteln, wie Alice gewählt hat.  \n",
    "Kann Sie es? Begründen Sie Ihre Antwort.\n",
    "\n",
    "### Solution\n",
    "\n",
    "**Nein**, Eve kann nicht ermitteln, was Alice gewählt hat. Das wäre nur möglich, wenn Eve im\n",
    "Zählsystem oder als Administrator fungieren würde. So hätte sie die Möglichkeit, die verschlüsselte\n",
    "Stimme von Alice zu rekonstruieren oder aufgrund des von Alice ans Zählsystem übergebenen\n",
    "Schlüssels K die zugehörige Stimme ausfindig zu machen.   \n",
    "Aber da Eve ebenfalls Wählerin ist und sie\n",
    "lediglich die am Ende vom Zählsystem veröffentlichte Liste mit den verschlüsselten Stimmen (samt\n",
    "Schlüssel) sehen kann, hat sie keine Möglichkeit, eine der Stimmen genau Alice zuzuordnen, da sie\n",
    "nicht Alices Schlüssel K kennt."
   ]
  },
  {
   "cell_type": "markdown",
   "metadata": {},
   "source": [
    "## Aufgabe 3: additives homomorphes Wahlprotokoll\n",
    "\n",
    "\"Verschlüssle alle Wahlergebnisse ($ri$ und 'Gewähltes' als $m$) und zähle sie mit dem Paillier Verfahren zusammen (homomorphe Addition). Entschlüssle die Ergebnisse anschliessend und leite von der erhaltenen Zahl das Ergebniss ab.\"  \n",
    "\n",
    "Bedeutung: \"10=ja\" und \"1=nein\"\n",
    "\n",
    "\n",
    "<img src=\"img/votetable.png\" style=\"height:85px\">  \n",
    "\n",
    "\n",
    "Die Verschlüsselung von der Aufgabe 3 (SW10):  \n",
    "\n",
    "p = 3  \n",
    "q = 5  \n",
    "n = p*q = 15  \n",
    "g = 16  \n",
    "$\\lambda$ = kgV((p-1) , (q-1)) = 4.\n",
    "\n",
    "### Solution\n",
    "\n",
    "\n",
    "<img src=\"img/pail2_sw11.jpg\" style=\"height:700px\">  "
   ]
  },
  {
   "cell_type": "markdown",
   "metadata": {},
   "source": [
    "<hr>"
   ]
  },
  {
   "cell_type": "markdown",
   "metadata": {},
   "source": [
    "# SW12 - ePayment"
   ]
  },
  {
   "cell_type": "markdown",
   "metadata": {},
   "source": [
    "## Aufgabe 2: Random Serialnumber\n",
    "\n",
    "Das Protokoll von E-Cash entwickelt von der Firma Digicash sieht eine zufällig gewählte  \n",
    "Seriennummer $S$ für jede eMünze vor. Sollte $S$ zufällig gewählt werden oder sollte $S$ wie die Zahl $X$ im  \n",
    "Wahlzettel für eVoting von einer bestimmten Struktur sein? \n",
    "\n",
    "### Solution\n",
    "\n",
    "\n",
    "\n",
    "Die Seriennummer sollte nicht Random sein, da man sonst leicht einen Betrugsversuch machen könnte ala:\n",
    "\n",
    "- Mallory nimmt generiert eine zufällige Zahl $C$ und verschlüsselt mit einem Public-Key (e,d): $S=C^{e}$\n",
    "\n",
    "- Mit $ C = S^{d}$ kann die Zahl korrekt entschlüsselt werden und man könnte meinen es sei eine richtige Seriennummer.\n",
    "\n",
    "Ein Beispiel für eine gute Seriennummer Struktur wäre ein Hash von relevanten Daten der Münze (Issuer, Betrag, Gültigskeitszeitraum)\n"
   ]
  },
  {
   "cell_type": "markdown",
   "metadata": {},
   "source": [
    "## Aufgabe 4: Serialnumber Bits\n",
    "\n",
    "Wie viele Bit muss die zufällig generierte Seriennummer einer E-Münze lang sein, damit die  \n",
    "Wahrscheinlichkeit für eine zufällige Übereinstimmung von zwei Nummern kleiner ist als die  \n",
    "Wahrscheinlichkeit, bei zwei aufeinander folgenden Ziehungen im Lotto (6 aus 49) sechs Richtige zu  \n",
    "tippen? Tipp: Berechnen Sie zuerst die Wahrscheinlichkeit, mit einer zufällig erzeugten Seriennummer  \n",
    "eine vorgegebene Zahl fester Länge zu treffen. Bestimmen Sie dann deren Länge **n**.\n",
    "\n",
    "\n",
    "### Solution\n",
    "\n",
    "<img src=\"img/bitcsol.png\" style=\"height:400px\">"
   ]
  },
  {
   "cell_type": "markdown",
   "metadata": {},
   "source": [
    "## Aufgabe 5: Secret Splitting\n",
    "\n",
    "Sei Alices Identitätsinformation UID = 1000. Ist die folgende Gleichung korrekt?\n",
    "\n",
    "$$1000 = 9008 \\oplus 8408$$\n",
    "\n",
    "### Solution\n",
    "\n",
    "Zahlen in Binärsystem umwandeln und XORen: \n",
    "\n",
    "8192 4096 2048 1024 512 256 128 64 32 16 8 4 2 1\n",
    "\n",
    "9008 = 1 0 0 0 1 1 0 0 1 1 0 0 0 0  \n",
    "8408 = 1 0 0 0 0 0 1 1 0 1 1 0 0 0  \n",
    "XOR  = 0 0 0 0 1 1 1 1 1 0 1 0 0 0 = 8 + 32 + 64 + 128 + 256 +512 = 1000 \n",
    "\n",
    "All good!\n"
   ]
  },
  {
   "cell_type": "markdown",
   "metadata": {},
   "source": [
    "<hr>"
   ]
  },
  {
   "cell_type": "markdown",
   "metadata": {},
   "source": [
    "# SW13 - Blockchain"
   ]
  },
  {
   "cell_type": "markdown",
   "metadata": {},
   "source": [
    "## Aufgabe 1: Blockchain\n",
    "\n",
    "Erläutern Sie, inwiefern die dezentrale Architektur des Blockchain-Netzwerkes zu dessen Sicherheit\n",
    "beiträgt.\n",
    "\n",
    "### Solution\n",
    "\n",
    "Aufgrund der architektonischen Struktur bietet die Blockchain eine hohe Sicherheit  \n",
    "und eine End-to-End-Transparenz. In einer Blockchain werden Daten anonym gespeichert,\n",
    "dezentrale registriert und übermittelt. Diese Kombination gewährleistet ein hohes Mass an  \n",
    "Sicherheit, „die auf sicherer Authentifizierung, Kennzeichnung und Schutz der Daten basiert.  \n",
    "\n",
    "Eine Manipulation alter Transaktionen ist nicht einfach möglich, dafür müssten alle Hashwerte\n",
    "der Folgeblöcke berechnet werden. Zusätzlich müsste dann noch eine Mehrheit (51%) der Nodes\n",
    "die \"neue\" Kette akzeptieren."
   ]
  },
  {
   "cell_type": "markdown",
   "metadata": {},
   "source": [
    "## Aufgabe 2: Elektronische Zahlungsverkehr\n",
    "\n",
    "Woran unterscheidet sich E-Bargeld von Bitcoin? Nennen Sie mindestens 2 Punkte und begründen Sie\n",
    "Ihre Antwort.\n",
    "\n",
    "### Solution\n",
    "\n",
    "\n",
    "\n",
    "1. Unterschied: Trust\n",
    "\n",
    "    - E-Cash: Durch einen zentralen \"General Ledger\" (identisch mit traditionellem Geld).  \n",
    "\n",
    "    - Blockchain als Basistechnologie für Bitcoin: Durch eine dezentrale Instanz namens \"Distributed Ledger\"\n",
    "\n",
    "2. Unterschied: Eingesetzte Kryptographische Verfahren\n",
    "\n",
    "    - E-Cash: Braucht blinde Signatur (Chaum) einer zentralen Stelle (e.g. Bank). Die zu  \n",
    "    übertragenden Einheiten werden mit einer Seriennummer versehen und im \"central ledger\" der  \n",
    "    zentralen Instanz vermerkt. Asymmertrisches Verfaren zur Generierung von Schlüsseln basiert auf RSA.\n",
    "    \n",
    "    - Bitcoin: Verwendet elliptische Kurven und asymmetrische Kryptographie (public key: walletadresse,  \n",
    "    private key: signieren von Transaktionen)."
   ]
  },
  {
   "cell_type": "markdown",
   "metadata": {},
   "source": [
    "## Aufgabe 3:  Bitcoin\n",
    "\n",
    "Nennen Sie die verwendeten kryptographischen Elemente für Bitcoin und beschreiben Sie\n",
    "welche Funktionen sie erfüllen? \n",
    "\n",
    "  \n",
    "a) Erläutern Sie, wie das Problem double-spending für Bitcoin gelöst wird?  \n",
    "b) Wie beurteilen Sie die ökologischen Aspekte in Bezug auf Energieverbrauch für\n",
    "Mining?  \n",
    "c) Was passiert im Jahre 2141, wenn kein Bitcoin mehr im Lauf gebracht wird?  \n",
    "d) Wie sicher ist Bitcoin gegen Cyberattacken? Kann Bitcoin verloren gehen?  \n",
    "\n",
    "### Solution\n",
    "\n",
    "a.) Das Problem von double-spending wird durch die Arbeitsweise von den Miners und  \n",
    "    einen Cachespeicher (UTXO), der **Unspent Transaktionsoutputs** der Blockchain gewährleiste.  \n",
    "    Angenommen eine Absenderin Alice will eine Transaktion  \n",
    "    durchführen. Der Miner überprüft erst die Verweise auf die Inputstransaktionen  \n",
    "    (Einzahlungen) von Alice: diese müssen mindestens den Betrag der Outputstransaktionen  \n",
    "    (Auszahlungen) abdecken. Dann überprüft der Miner über den UTXO, ob die in der  \n",
    "    Transaktion referenzierten Inputs noch nicht für andere Transaktionen verwendet wurden  \n",
    "    (wurde das Geld vorher schon ausgegeben-double-Spending?). Sollte das der Fall sein wird  \n",
    "    die Transaktion abgelehnt.\n",
    " \n",
    "b.) Das Mining von Bitcoins verwendet eine sehr hohe Menge an Energie für den POW, was ziemlich unökologisch ist.\n",
    "    \n",
    "c.) Im Jahr 2141 wird es keine neuen Bitcoins mehr geben für Mining Aktivitäten, dann wird der maximale Betrag von 21'000'000 Bitcoins im Umlauf sien.\n",
    "\n",
    "d.) Die Blockchain von Bitcoin ist grundsätzlich Read-Only. Eine Manipulation eines Blocks wird durch das verteilte System schnell aufgedeckt (51% Prinzip). Wenn jemand seinen Private-Key für sein Wallet verliert, dann sind die Bitcoins darin auch verloren (gibt keine Instanz die hier helfen könnte)."
   ]
  },
  {
   "cell_type": "markdown",
   "metadata": {},
   "source": [
    "<hr>"
   ]
  },
  {
   "cell_type": "markdown",
   "metadata": {},
   "source": [
    "# SW14 - Quanten Kryptografie"
   ]
  },
  {
   "cell_type": "markdown",
   "metadata": {},
   "source": [
    "## Aufgabe 2: BB84\n",
    "\n",
    "Suppose Alice uses the following polarization states and bit values and Bob measures in the\n",
    "depicted basis. Compute the raw key (bevor reconciliation/error correction and privacy amplification).\n",
    "\n",
    "\n",
    "<img src=\"img/ex02.png\" style=\"height:75px\">\n",
    "\n",
    "### Solution\n",
    "\n",
    "<img src=\"img/bb84_1.jpg\" style=\"height:600px\">"
   ]
  },
  {
   "cell_type": "markdown",
   "metadata": {},
   "source": [
    "## Aufgabe 3: Again BB84\n",
    "\n",
    "In the BB84 protocol:  \n",
    "\n",
    "1. what is the probability, that Bob chooses the same basis as Alice? \n",
    "\n",
    "        50% (since he only has to choose horizontal or vertical)\n",
    "        \n",
    "2. what is the probability, that Eve guesses the correct basis and resends the qubit in the correct state to Bob? Will her interaction be observed in this case?\n",
    "\n",
    "        Eve has a 50% percent Chance to guess the correct basis.\n",
    "        Eve has another 50% chance to resend the qubit in the\n",
    "        correct state. So Eve produces an additional 25% Error Overall\n",
    "        \n",
    "        Bob/Alice could detect the listening, because Eve \"destroys\" the original Qubit with every listening and\n",
    "        only has a 75% chance to restore it correctly.\n",
    "        \n",
    "        The Probability of Detection is: p = 1 - 0.75^n where n is number of qubits.\n",
    "        \n",
    "3. What percentage of bits of the raw key has Bob to discard typically? Note: the shorter key is called shifted key.  \n",
    "\n",
    "        Also 50%"
   ]
  },
  {
   "cell_type": "markdown",
   "metadata": {},
   "source": [
    "## Aufgabe 4: How to find the period of an injective function f\n",
    "\n",
    "The idea in classical computing would be to choose random $x$ and $x'$ and check, whether $f (x) = f (x')$.  \n",
    "If that is the case, then $x' = x+kp$ for some $k \\in \\mathbb{Z}$. Hence we could find a multiple ($kp$) of the period $p$.  \n",
    "It can be shown, that a first guess of $p$ can be made using brute force, by finding a collision in $f$ using approximately $\\sqrt(r)$ inputs. Explain!\n",
    "\n",
    "### Solution\n",
    "\n",
    "Das Theorem ist Teil von Shors Algorithmus \"find period of a function f\".\n",
    "\n",
    "Es geht also darum zu schauen, ab wann sich eine Funktion wiederholt. Als beispiel nehmen wir $2^{k} \\mod 15$  \n",
    "\n",
    "$2^{0} \\mod 15 = 1$  \n",
    "$2^{1} \\mod 15 = 2$  \n",
    "$2^{2} \\mod 15 = 4$  \n",
    "$2^{3} \\mod 15 = 8$  \n",
    "$2^{4} \\mod 15 = 1$  \n",
    "$2^{5} \\mod 15 = 2$  \n",
    "$2^{6} \\mod 15 = 4$  \n",
    "$2^{7} \\mod 15 = 8$  \n",
    "\n",
    "Man sieht schnell, das die Funktion sich nach 4 Schritten wiederholt. somit ist $p=4$ und es gilt $2^{k} = 2^{k+p}$\n",
    "\n",
    "Anscheinend kann man hier das Geburtstags-Paradoxon anwenden und kommt so auf $\\sqrt(r)$ inputs die man testen muss."
   ]
  },
  {
   "cell_type": "markdown",
   "metadata": {},
   "source": [
    "## Aufgabe 5: Shor’s algorithm to factor 35\n",
    "\n",
    "Use Shor’s algorithm to factor $n$ = 35. Start with $m$ = 11, and then $m$ = 2, $m$ = 3.   \n",
    "For step 2 use a classical computer, i.e. do it by hand!\n",
    "\n",
    "### Solution\n",
    "\n",
    "\n",
    "<img src=\"img/shor1.jpg\" style=\"height:600px\">\n",
    "\n",
    "<img src=\"img/shor2.jpg\" style=\"height:600px\">"
   ]
  },
  {
   "cell_type": "code",
   "execution_count": null,
   "metadata": {},
   "outputs": [],
   "source": []
  }
 ],
 "metadata": {
  "kernelspec": {
   "display_name": "Python 3",
   "language": "python",
   "name": "python3"
  },
  "language_info": {
   "codemirror_mode": {
    "name": "ipython",
    "version": 3
   },
   "file_extension": ".py",
   "mimetype": "text/x-python",
   "name": "python",
   "nbconvert_exporter": "python",
   "pygments_lexer": "ipython3",
   "version": "3.7.5"
  }
 },
 "nbformat": 4,
 "nbformat_minor": 2
}
