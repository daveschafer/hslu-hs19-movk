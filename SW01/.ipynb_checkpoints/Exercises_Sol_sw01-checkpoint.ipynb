{
 "cells": [
  {
   "cell_type": "markdown",
   "metadata": {},
   "source": [
    "# Mathematical Basis - Exercise 1 || I.BA_IMATH, Semesterweek 01\n",
    "*Please write down to solution of the exercises in a consise but comprehensible way. Numerical results\n",
    "should be accurate to 4 digits.*"
   ]
  },
  {
   "cell_type": "markdown",
   "metadata": {},
   "source": [
    "## 1 Divisibility and Congruences  \n",
    "\n",
    "If a and b are integers and a ≠ 0 then we say a divides b or b is divisible by a if there exists an\n",
    "integer k, s.t. b = ak.  \n",
    "This is equivalent to b $\\equiv$ 0 mod a, i.e. b is congruent to 0 modulo a.  \n",
    "We can therefore say: b is divisible by a ≠ 0, or a ≠ 0 divides b if and only if b is congruent to\n",
    "0 modulo a.  \n",
    "\n",
    "Let’s try some examples:\n",
    "\n",
    "- 12 is divisible by 4, or 4 divides 12 because 12 is congruent to 0 modulo 4 (12 $\\equiv$0 mod 4).\n",
    "- 11 is not divisible by 3, or 3 does not divide 11 because 11 is not congruent to 0 modulo 3. In fact 11 $\\equiv$ 2 mod 3.\n",
    "- 111111 is divisible by 3, or 3 divides 111111 because 111111 $\\equiv$ 0 mod 3. The trick here\n",
    "is to use the sum of the digits 1+1+1+1+1+1 = 6. If the sum of the digits of n\n",
    "is divisible by 3 then n is divisble by 3. This rule and other rules of divisibility shall be\n",
    "investigated in this exercise!   \n",
    "\n",
    "\n",
    "The following rules hold (and we will prove some of them later on):\n",
    "1. n is divisible by 2 if n is even, i.e. the last digit of n is divisible by 2, that is if the last digit of n is 0; 2; 4; 6; 8. This rule is obvious!\n",
    "2. n is divisible by 3 if the sum of the digits in n is divisible by 3.\n",
    "3. n is divisible by 4 if the number composed of the last two digits of n is divisible by 4. An example is 1024; here 24 is divisible by 4 and in fact 1024 = 4 * 256.\n",
    "4. n is divisible by 5 if the last digit is either 0 or 5. This rule is easy and well known!\n",
    "5. n is divisible by 6 if rules (1) and (2) hold, i.e. if n is divisible by 2 and 3.\n",
    "6. n is divisible by 7 if : : : (let’s talk about this case in the end)\n",
    "7. n is divisible by 8 (8 | n) if the number composed of the last three digits of n is divisible by 8. An example is 1230912; here 912 is divisible by 8 (912 = 8 * 113) and in fact 1230912 = 8 * 150489.\n",
    "8. n is divisible by 9 (9 | n) if the sum of the digits of n is divisible by 9 (we have learned that at school, right).\n",
    "9. n is divisible by 10 (10 | n) if the last digit is 0. This is easy and obvious!\n",
    "10. n is divisible by 11 (11 | n) if the alternating sum of the digits of n is divisible by 11 (we have learned this rule also at school, haven’t we?)  \n",
    "\n",
    "\n",
    "**Your Task**: As an exercise You should prove that n is divisible by 9, i.e.9| n, if the sum of the\n",
    "digits of n is divisible by 9. Hint: use the identity 10 = 9+1.\n",
    "\n",
    "\n"
   ]
  },
  {
   "cell_type": "markdown",
   "metadata": {},
   "source": [
    "---\n",
    "Für diese Aufgabe können wir die Regel Nr 8 verwenden. Diese besagt das **n** durch **9** teilbar ist, falls die Summer der Ziffern ebenfalls durch 9 teilbar ist.\n",
    "\n",
    "**Divisibility of n by 9:**\n",
    "\n",
    "**Beispiel**:\n",
    "\n",
    "- 18 = 1+8 = 9\n",
    "  - 9 mod 9 = 0\n",
    "- 648 = 6 + 8 + 4 = 18\n",
    " - 18 mod 9 = 0  \n",
    "\n",
    "\n",
    " **Beweis**\n",
    " \n",
    " Nehmen wir an n besteht aus hunderten Ziffern, a sind die hunderter, b die zehner und c die einer Ziffern.\n",
    " \n",
    " Dann gilt \n",
    "     \n",
    "*n*=100**a**+10**b**+**c**.  \n",
    "     \n",
    " Wenn wir nun annehmen, dass die Summer der Ziffern von *n* durch **9** teilbar ist gilt:\n",
    "     \n",
    "a + b + c = 9k ;k $\\in Z $:\n",
    "     \n",
    "Somit ist **n** teilbar durch **9**.\n",
    "     "
   ]
  },
  {
   "cell_type": "markdown",
   "metadata": {},
   "source": [
    "---\n",
    "## 2 Divisibility  \n",
    "\n",
    "Do there exist integers x, y, and z such that 6x+9y+15z = 107? Hint: what are the divisors of the right hand and the left hand side of this equation?"
   ]
  },
  {
   "cell_type": "markdown",
   "metadata": {},
   "source": [
    "---\n",
    "Zum lösen dieser Aufgabe ist es am einfachsten, den ggt (gcd) von 6,9, 15 und 107 herauszufinden.  \n",
    "\n",
    "Von **6, 9, 15** ist der gcd 3.\n",
    "\n",
    "**107** selbst ist eine Primzahl.\n",
    "\n",
    "Der GCD aller 4 Zahlen ist somit 1. \n",
    "\n",
    "Dementsprechend gibt es keine geraden Zahlen (**Integers**), welche eine Kombination von 3en zulassen, welche 107 ergeben.\n"
   ]
  },
  {
   "cell_type": "markdown",
   "metadata": {},
   "source": [
    "## 3 Computing the (multiplicative) inverse I  \n",
    "\n",
    "The multiplicative inverse of a modulo n exists iff (if and only if) gcd(a;n) = 1. If this is the\n",
    "case, it can be computed using the extended GCD algorithm. This amounts to find x and y s.t.\n",
    "(such that)  \n",
    "\n",
    "    ax + ny = gcd(a,n) = 1\n",
    "    \n",
    "As an example with n = 47 and a = 12 we have\n",
    "\n",
    "    12 \u0001 4+47 \u0001 (-1) = gcd(12;47) = 1\n",
    "    \n",
    "If take both sides of this equation modulo 47, we get\n",
    "\n",
    "    (12 \u0001 4+47 \u0001 (-1)) mod 47 = 1,\n",
    "    (12 \u0001 4) mod 47 = 1,\n",
    "    \n",
    "This tells us, that 4 is the (multiplicative) inverse of 12 modulo 47. In fact 12 \u0001 4 mod 47 = 48\n",
    "mod 47 = 1.\n",
    "\n",
    "**Your Task**: Find the multiplicative inverses of a modulo n (if it exists) if  \n",
    "1. n = 13, a = 5,  \n",
    "2. n = 15, a = 7.  \n",
    "3. n = 15, a = 5.  \n",
    "\n",
    "If n is small, it is sometimes faster to guess the inverse!  "
   ]
  },
  {
   "cell_type": "markdown",
   "metadata": {},
   "source": [
    "---\n",
    "\n",
    "1."
   ]
  },
  {
   "cell_type": "code",
   "execution_count": null,
   "metadata": {},
   "outputs": [],
   "source": []
  }
 ],
 "metadata": {
  "kernelspec": {
   "display_name": "Python 3",
   "language": "python",
   "name": "python3"
  },
  "language_info": {
   "codemirror_mode": {
    "name": "ipython",
    "version": 3
   },
   "file_extension": ".py",
   "mimetype": "text/x-python",
   "name": "python",
   "nbconvert_exporter": "python",
   "pygments_lexer": "ipython3",
   "version": "3.7.3"
  }
 },
 "nbformat": 4,
 "nbformat_minor": 2
}
