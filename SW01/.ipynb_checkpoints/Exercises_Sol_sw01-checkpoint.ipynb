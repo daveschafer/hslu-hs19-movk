{
 "cells": [
  {
   "cell_type": "markdown",
   "metadata": {},
   "source": [
    "# Mathematical Basis - Exercise 1 || I.BA_IMATH, Semesterweek 01\n",
    "*Please write down to solution of the exercises in a consise but comprehensible way. Numerical results\n",
    "should be accurate to 4 digits.*"
   ]
  },
  {
   "cell_type": "markdown",
   "metadata": {},
   "source": [
    "## 1 Divisibility and Congruences  \n",
    "\n",
    "If a and b are integers and a ≠ 0 then we say a divides b or b is divisible by a if there exists an\n",
    "integer k, s.t. b = ak.  \n",
    "This is equivalent to b $\\equiv$ 0 mod a, i.e. b is congruent to 0 modulo a.  \n",
    "We can therefore say: b is divisible by a ≠ 0, or a ≠ 0 divides b if and only if b is congruent to\n",
    "0 modulo a.  \n",
    "\n",
    "Let’s try some examples:\n",
    "\n",
    "- 12 is divisible by 4, or 4 divides 12 because 12 is congruent to 0 modulo 4 (12 $\\equiv$0 mod 4).\n",
    "- 11 is not divisible by 3, or 3 does not divide 11 because 11 is not congruent to 0 modulo 3. In fact 11 $\\equiv$ 2 mod 3.\n",
    "- 111111 is divisible by 3, or 3 divides 111111 because 111111 $\\equiv$ 0 mod 3. The trick here\n",
    "is to use the sum of the digits 1+1+1+1+1+1 = 6. If the sum of the digits of n\n",
    "is divisible by 3 then n is divisble by 3. This rule and other rules of divisibility shall be\n",
    "investigated in this exercise!   \n",
    "\n",
    "\n",
    "The following rules hold (and we will prove some of them later on):\n",
    "1. n is divisible by 2 if n is even, i.e. the last digit of n is divisible by 2, that is if the last digit of n is 0; 2; 4; 6; 8. This rule is obvious!\n",
    "2. n is divisible by 3 if the sum of the digits in n is divisible by 3.\n",
    "3. n is divisible by 4 if the number composed of the last two digits of n is divisible by 4. An example is 1024; here 24 is divisible by 4 and in fact 1024 = 4 * 256.\n",
    "4. n is divisible by 5 if the last digit is either 0 or 5. This rule is easy and well known!\n",
    "5. n is divisible by 6 if rules (1) and (2) hold, i.e. if n is divisible by 2 and 3.\n",
    "6. n is divisible by 7 if : : : (let’s talk about this case in the end)\n",
    "7. n is divisible by 8 (8 | n) if the number composed of the last three digits of n is divisible by 8. An example is 1230912; here 912 is divisible by 8 (912 = 8 * 113) and in fact 1230912 = 8 * 150489.\n",
    "8. n is divisible by 9 (9 | n) if the sum of the digits of n is divisible by 9 (we have learned that at school, right).\n",
    "9. n is divisible by 10 (10 | n) if the last digit is 0. This is easy and obvious!\n",
    "10. n is divisible by 11 (11 | n) if the alternating sum of the digits of n is divisible by 11 (we have learned this rule also at school, haven’t we?)  \n",
    "\n",
    "\n",
    "**Your Task**: As an exercise You should prove that n is divisible by 9, i.e.9| n, if the sum of the\n",
    "digits of n is divisible by 9. Hint: use the identity 10 = 9+1.\n",
    "\n",
    "\n"
   ]
  },
  {
   "cell_type": "markdown",
   "metadata": {},
   "source": [
    "---\n",
    "Für diese Aufgabe können wir die Regel Nr 8 verwenden. Diese besagt das **n** durch **9** teilbar ist, falls die Summer der Ziffern ebenfalls durch 9 teilbar ist.\n",
    "\n",
    "**Divisibility of n by 9:**\n",
    "\n",
    "**Beispiel**:\n",
    "\n",
    "- 18 = 1+8 = 9\n",
    "  - 9 mod 9 = 0\n",
    "- 648 = 6 + 8 + 4 = 18\n",
    " - 18 mod 9 = 0  \n",
    "\n",
    "\n",
    " **Beweis**\n",
    " \n",
    " Nehmen wir an n besteht aus hunderten Ziffern, a sind die hunderter, b die zehner und c die einer Ziffern.\n",
    " \n",
    " Dann gilt \n",
    "     \n",
    "*n*=100**a**+10**b**+**c**.  \n",
    "     \n",
    " Wenn wir nun annehmen, dass die Summer der Ziffern von *n* durch **9** teilbar ist gilt:\n",
    "     \n",
    "a + b + c = 9k ;k $\\in Z $:\n",
    "     \n",
    "Somit ist **n** teilbar durch **9**.\n",
    "     "
   ]
  },
  {
   "cell_type": "markdown",
   "metadata": {},
   "source": [
    "---\n",
    "## 2 Divisibility  \n",
    "\n",
    "Do there exist integers x, y, and z such that 6x+9y+15z = 107? Hint: what are the divisors of the right hand and the left hand side of this equation?"
   ]
  },
  {
   "cell_type": "markdown",
   "metadata": {},
   "source": [
    "---\n",
    "Zum lösen dieser Aufgabe ist es am einfachsten, den ggt (gcd) von 6,9, 15 und 107 herauszufinden.  \n",
    "\n",
    "Von **6, 9, 15** ist der gcd 3.\n",
    "\n",
    "**107** selbst ist eine Primzahl.\n",
    "\n",
    "Der GCD aller 4 Zahlen ist somit 1. \n",
    "\n",
    "Dementsprechend gibt es keine geraden Zahlen (**Integers**), welche eine Kombination von 3en zulassen, welche 107 ergeben.\n"
   ]
  },
  {
   "cell_type": "markdown",
   "metadata": {},
   "source": [
    "## 3 Computing the (multiplicative) inverse I  \n",
    "\n",
    "The multiplicative inverse of a modulo n exists iff (if and only if) gcd(a;n) = 1. If this is the\n",
    "case, it can be computed using the extended GCD algorithm. This amounts to find x and y s.t.\n",
    "(such that)  \n",
    "\n",
    "    ax + ny = gcd(a,n) = 1\n",
    "    \n",
    "As an example with n = 47 and a = 12 we have\n",
    "\n",
    "    12 \u0001 4+47 \u0001 (-1) = gcd(12;47) = 1\n",
    "    \n",
    "If take both sides of this equation modulo 47, we get\n",
    "\n",
    "    (12 \u0001 4+47 \u0001 (-1)) mod 47 = 1,\n",
    "    (12 \u0001 4) mod 47 = 1,\n",
    "    \n",
    "This tells us, that 4 is the (multiplicative) inverse of 12 modulo 47. In fact 12 \u0001 4 mod 47 = 48\n",
    "mod 47 = 1.\n",
    "\n",
    "**Your Task**: Find the multiplicative inverses of **a** modulo **n** (if it exists) if  \n",
    "1. n = 13, a = 5,  \n",
    "2. n = 15, a = 7.  \n",
    "3. n = 15, a = 5.  \n",
    "\n",
    "If n is small, it is sometimes faster to guess the inverse!  "
   ]
  },
  {
   "cell_type": "markdown",
   "metadata": {},
   "source": [
    "---\n",
    "\n",
    "1.) $5^{-1} = 5 \\cdot x = 1 \\bmod 13 \\Rightarrow x = 8 $\n",
    " - Denn: $(8 \\cdot 13) \\bmod 5 \\equiv 104 \\bmod 5 = -1 \\bmod 5 = 1$    \n",
    " \n",
    "\n",
    "2.) $7^{-1} = 7 \\cdot x = 1 \\bmod 15 \\Rightarrow x = 13$\n",
    " - Denn: $13 \\cdot 7 \\bmod 7 = 91 \\bmod 15 = 1$\n",
    " \n",
    "3.$5^{-1} = 5 \\cdot x = 1 \\bmod 15 \\Rightarrow x = NULL$\n",
    " - Denn: $5^{-1}$ hat kein modulares inverses zu 15, da sie nicht **teilefremd** sind.\n",
    " \n",
    " \n",
    " ---"
   ]
  },
  {
   "cell_type": "markdown",
   "metadata": {},
   "source": [
    "## 4 Computing the (multiplicative) inverse II\n",
    "\n",
    "Which of the elements in $\\mathbb{Z}_{6}$ do have a (multiplicative) inverse modulo 6?  \n",
    "For each of these elements compute the inverse and prove, that it is indeed the inverse by computing $a \\cdot a^{-1} \\bmod 6$"
   ]
  },
  {
   "cell_type": "markdown",
   "metadata": {},
   "source": [
    "Grundsätzlich haben alle Zahlen {0,1,2,3,4,5,6} ein multiplikatives Inverses von modulo 6, wenn sie teilerfremd sind.  \n",
    "Also: {1,5}\n",
    "\n",
    "Die Inversen sind wie folgt.\n",
    "\n",
    "- $1^{-1} = 1 \\cdot x = 1 \\bmod 6 \\Rightarrow x = 1 $\n",
    "- $5^{-1} = 5 \\cdot x = 1 \\bmod 6 \\Rightarrow x = 5 $"
   ]
  },
  {
   "cell_type": "code",
   "execution_count": 1,
   "metadata": {},
   "outputs": [
    {
     "name": "stdout",
     "output_type": "stream",
     "text": [
      "1\n",
      "1\n"
     ]
    }
   ],
   "source": [
    "print (1 * 1 % 6)\n",
    "print(5 * 5 % 6)"
   ]
  },
  {
   "cell_type": "markdown",
   "metadata": {},
   "source": [
    "---\n",
    "\n",
    "## 5 Computing the (multiplicative) inverse III\n",
    "\n",
    "The multiplicative inverse of a modulo n can be computed  \n",
    "\n",
    "- by guessing which works well if n is small\n",
    "- by writing down the multiplication table; which also only works when n is small,\n",
    "- by advocating the extended GCD\n",
    "- with the help of Fermat’s little theorem  \n",
    "\n",
    "**Your Task**: Compute the multiplicative inverse of 9 modulo 11 by using all of the four methods.\n",
    "\n",
    "---"
   ]
  },
  {
   "cell_type": "markdown",
   "metadata": {},
   "source": [
    "$9^{-1} \\bmod 11 = 9 \\cdot x = 1 \\bmod 11 \\Rightarrow x = ?$\n",
    "\n",
    "**Raten**\n",
    "\n",
    "Mit raten finde ich heraus, das es **5** ist.\n",
    "\n",
    "**Rate Table**\n",
    "  \n",
    "$x * 9 \\bmod 11 = ?$  \n",
    "$1 * 9 \\bmod 11 = 9$  \n",
    "$2 * 9 \\bmod 11 = 7$  \n",
    "$3 * 9 \\bmod 11 = 5$  \n",
    "$4 * 9 \\bmod 11 = 3$  \n",
    "$5 * 9 \\bmod 11 = 1 \\Leftarrow$ Mod Inverses!  \n",
    "$6 * 9 \\bmod 11 = 10$  \n",
    "$7 * 9 \\bmod 11 = 8$  \n",
    "$8 * 9 \\bmod 11 = 6$  \n",
    "$9 * 9 \\bmod 11 = 4$  \n",
    "$10 * 9 \\bmod 11 = 2$  \n",
    "$11 * 9 \\bmod 11 = 0$  \n",
    "$12 * 9 \\bmod 11 = 9 \\Leftarrow$ Fängt wieder von vorne an (siehe 1)\n",
    "\n",
    "**Multiplikations Tabelle**\n",
    "\n",
    "| -  | 0 | 1  | 2  | 3  | 4  | 5  | 6  | 7  | 8  | 9  | 10 |\n",
    "|----|---|----|----|----|----|----|----|----|----|----|----|\n",
    "| **0**  | 0 | 0  | 0  | 0  | 0  | 0  | 0  | 0  | 0  | 0  | 0  |\n",
    "| **1**  | 0 | 1  | 2  | 3  | 4  | 5  | 6  | 7  | 8  | 9  | 10 |\n",
    "| **2**  | 0 | 2  | 4  | 6  | 8  | 10 | 1  | 3  | 5  | 7  | 9  |\n",
    "| **3**  | 0 | 3  | 6  | 9  | 1  | 4  | 7  | 10 | 2  | 5  | 8  |\n",
    "| **4**  | 0 | 4  | 8  | 1  | 5  | 9  | 2  | 6  | 10 | 3  | 7  |\n",
    "| **5**  | 0 | 5  | 10 | 4  | 9  | 3  | 8  | 2  | 7  | **1**  | 6  |\n",
    "| **6**  | 0 | 6  | 1  | 7  | 2  | 8  | 3  | 9  | 4  | 10 | 5  |\n",
    "| **7**  | 0 | 7  | 3  | 10 | 6  | 2  | 9  | 5  | 1  | 8  | 4  |\n",
    "| **8**  | 0 | 8  | 5  | 2  | 10 | 7  | 4  | 1  | 9  | 6  | 3  |\n",
    "| **9**  | 0 | 9  | 7  | 5  | 3  | **1**  | 10 | 8  | 6  | 4  | 2  |\n",
    "| **10** | 0 | 10 | 9  | 8  | 7  | 6  | 5  | 4  | 3  | 2  | 1  |\n",
    "\n",
    "**Extended GCD**\n",
    "\n",
    "\n",
    "<img src=\"img\\eea.png\" style=\"height:150px\">\n",
    "\n",
    "**Fermats Theorem**\n",
    "\n",
    "Das Theorem besagt, bei $a^{p} \\bmod p$ gilt, falls $p$ eine Primzahl ist, dann ist $a^{p-2} \\equiv 1 \\bmod p$ - also gleich das modular Inverse.\n",
    "\n",
    "Also: $9^{11-2} \\bmod 11 \\equiv 5$\n",
    "\n",
    "---\n"
   ]
  },
  {
   "cell_type": "markdown",
   "metadata": {},
   "source": [
    "## 6 Fermat’s little theorem\n",
    "\n",
    "It states, that for any prime p which is not a divisor of a the following holds  \n",
    "\n",
    "$a^{p-1} \\equiv 1 \\bmod p$ i.e. $ a^{p-1} \\equiv_{p} q$\n",
    "\n",
    "\n",
    "Based on this theorem is a test for primality of a number. \n",
    "Suppose that the primality of an integer **n** is not known. If we can find an integer **a**, that is relatively prime (coprime) to n, i.e. gcd(a,n) = 1, such that $a^{n-1} \\neq 1 (\\bmod n)$, then we have conclusive proof that n is composite (not prime). \n",
    "Such a number a is said to be a Fermat witness for the compositeness (nonprimality)\n",
    "of n. If a Fermat witness is found, the number being tested is proved to be composite.  \n",
    "If the congruence relation (1) is true for n and a, then n is said to be a probable prime to base a.  \n",
    "Furthermore, if n happens to be a composite number, then n is said to be a pseudoprime to base a.  \n",
    "A pseudoprime is a composite number that possesses the prime-like proberty (1) for one base a.  \n",
    "\n",
    "\n",
    "If (1) holds for several (or all) bases a, then the number n is found to be probable prime and  \n",
    "therefore likely a prime number. There are composite numbers (like the carmicel numbers)  \n",
    "which pass (1) for every a, but are not primes!  \n",
    "\n",
    "  \n",
    "Here the Fermat primality test in python:  "
   ]
  },
  {
   "cell_type": "code",
   "execution_count": 2,
   "metadata": {},
   "outputs": [],
   "source": [
    "#Das Standard Python pow akzeptiert 3 Argumente, wurde vorher aber z.B. math importiert, funktioniert pow anders,\n",
    "#dann werden z.B. nurnoch 2 Argumente akzeptiert.\n",
    "\n",
    "from random import randint\n",
    "def Fermat_isProbablyPrime(n,k = 5):\n",
    "    if (n < 2 ):\n",
    "        return False\n",
    "    output = True\n",
    "    for i in range(0, min(n,k)):\n",
    "        a = randint(1, n-1)\n",
    "        if (pow(a, n-1, n) != 1):\n",
    "            return False\n",
    "    return output"
   ]
  },
  {
   "cell_type": "markdown",
   "metadata": {},
   "source": [
    "we can call this functions as follows to find the probable primes smaller than 100:"
   ]
  },
  {
   "cell_type": "code",
   "execution_count": 3,
   "metadata": {},
   "outputs": [
    {
     "name": "stdout",
     "output_type": "stream",
     "text": [
      "n = 2 is prime\n",
      "n = 3 is prime\n",
      "n = 5 is prime\n",
      "n = 7 is prime\n",
      "n = 11 is prime\n",
      "n = 13 is prime\n",
      "n = 17 is prime\n",
      "n = 19 is prime\n",
      "n = 23 is prime\n",
      "n = 29 is prime\n",
      "n = 31 is prime\n",
      "n = 37 is prime\n",
      "n = 41 is prime\n",
      "n = 43 is prime\n",
      "n = 47 is prime\n",
      "n = 53 is prime\n",
      "n = 59 is prime\n",
      "n = 61 is prime\n",
      "n = 67 is prime\n",
      "n = 71 is prime\n",
      "n = 73 is prime\n",
      "n = 79 is prime\n",
      "n = 83 is prime\n",
      "n = 89 is prime\n",
      "n = 97 is prime\n"
     ]
    }
   ],
   "source": [
    "max = 100\n",
    "for n in range(2,max):\n",
    "    if Fermat_isProbablyPrime(n,10):\n",
    "        print(\"n = %d is prime\" % n)"
   ]
  },
  {
   "cell_type": "code",
   "execution_count": null,
   "metadata": {},
   "outputs": [],
   "source": []
  }
 ],
 "metadata": {
  "kernelspec": {
   "display_name": "Python 3",
   "language": "python",
   "name": "python3"
  },
  "language_info": {
   "codemirror_mode": {
    "name": "ipython",
    "version": 3
   },
   "file_extension": ".py",
   "mimetype": "text/x-python",
   "name": "python",
   "nbconvert_exporter": "python",
   "pygments_lexer": "ipython3",
   "version": "3.7.3"
  }
 },
 "nbformat": 4,
 "nbformat_minor": 2
}
