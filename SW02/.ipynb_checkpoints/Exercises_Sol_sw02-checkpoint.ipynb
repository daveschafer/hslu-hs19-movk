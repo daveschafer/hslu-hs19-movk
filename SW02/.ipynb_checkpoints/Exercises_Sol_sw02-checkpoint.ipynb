{
 "cells": [
  {
   "cell_type": "markdown",
   "metadata": {},
   "source": [
    "# Mathematical Basis II - Exercise 2 || I.BA_IMATH, Semesterweek 02\n",
    "*Please write down to solution of the exercises in a consise but comprehensible way. Numerical results\n",
    "should be accurate to 4 digits.*"
   ]
  },
  {
   "cell_type": "markdown",
   "metadata": {},
   "source": [
    "## 1. Generator or primitive element of a group\n",
    "\n",
    "Is 3 a generator of ($\\mathbb{Z}^{*}_{11}, \\cdot$)\n",
    "\n",
    "Find a generator of ($\\mathbb{Z}*_{11}, \\cdot$)\n",
    "\n",
    "---\n",
    "\n",
    "**Wir erinnern uns**: ein Generator enthält alle Elemente einer (modularen) Gruppe indem wir Ihn immer wieder mit sich selbst multiplizieren.\n",
    "\n",
    "Testen für 3 mod 11:"
   ]
  },
  {
   "cell_type": "code",
   "execution_count": 17,
   "metadata": {},
   "outputs": [
    {
     "name": "stdout",
     "output_type": "stream",
     "text": [
      "3 hoch 1 mod 11:  3\n",
      "3 hoch 2 mod 11:  9\n",
      "3 hoch 3 mod 11:  5\n",
      "3 hoch 4 mod 11:  4\n",
      "3 hoch 5 mod 11:  1\n",
      "3 hoch 6 mod 11:  3\n",
      "3 hoch 7 mod 11:  9\n",
      "3 hoch 8 mod 11:  5\n",
      "3 hoch 9 mod 11:  4\n",
      "3 hoch 10 mod 11:  1\n"
     ]
    }
   ],
   "source": [
    "for i in range(1,11):\n",
    "    print(\"3 hoch %i mod 11: \"%i, (3**i % 11))\n",
    "    #print(3**i)"
   ]
  },
  {
   "cell_type": "markdown",
   "metadata": {},
   "source": [
    "Wir sehen dass sich das ganze nach 5 Zahlen wiederholt. Lediglich die Elemente {1,3,9,5,4} werden generiert.  \n",
    "Somit ist 3 nicht der Generator der zyklischen Gruppe.  \n"
   ]
  },
  {
   "cell_type": "code",
   "execution_count": 16,
   "metadata": {},
   "outputs": [
    {
     "name": "stdout",
     "output_type": "stream",
     "text": [
      "2 hoch 1 mod 11:  2\n",
      "2 hoch 2 mod 11:  4\n",
      "2 hoch 3 mod 11:  8\n",
      "2 hoch 4 mod 11:  5\n",
      "2 hoch 5 mod 11:  10\n",
      "2 hoch 6 mod 11:  9\n",
      "2 hoch 7 mod 11:  7\n",
      "2 hoch 8 mod 11:  3\n",
      "2 hoch 9 mod 11:  6\n",
      "2 hoch 10 mod 11:  1\n"
     ]
    }
   ],
   "source": [
    "for i in range(1,11):\n",
    "    print(\"2 hoch %i mod 11: \"%i, (2**i % 11))\n"
   ]
  },
  {
   "cell_type": "markdown",
   "metadata": {},
   "source": [
    "**2** enthält alle (10) Elemente von 11 {1,2,3,4,5,6,7,8,9,10} und ist somit der korrekte Generator.\n",
    "\n",
    "---\n"
   ]
  },
  {
   "cell_type": "markdown",
   "metadata": {},
   "source": [
    "## 2. Field\n",
    "\n",
    "Show that if *p* is prime, then $\\mathbb{Z}_{p}$ together with addition and multiplication modulo *p* constitues  \n",
    "a field. Check whether the rules (i)-(ix) hold?"
   ]
  },
  {
   "cell_type": "markdown",
   "metadata": {},
   "source": [
    "Gemäss dem Field Summary erfüllt $\\mathbb{Z}_{p}$ all diese bedingungen:  \n",
    "    \n",
    "<img src=\"img\\fieldsum.png\" style=\"height:250px\">\n",
    "\n",
    "Wir testen das ganze mit \"p = 7\"\n",
    "\n",
    "---"
   ]
  },
  {
   "cell_type": "markdown",
   "metadata": {},
   "source": [
    "**i - vii** ist klar, das wissen wir bereits von \"Z\"\n",
    "\n",
    "**viii**: Ist mit einem beliebigem $\\mathbb{Z}$ nicht möglich, mit $\\mathbb{Z}_{p}$ (*p* = prime) aber schon:\n",
    "        \n",
    "$1^{-1}$ mod 7 = 1  \n",
    "$2^{-1}$ mod 7 = 4  \n",
    "$3^{-1}$ mod 7 = 5  \n",
    "$4^{-1}$ mod 7 = 2  \n",
    "$5^{-1}$ mod 7 = 3  \n",
    "$6^{-1}$ mod 7 = 6  "
   ]
  },
  {
   "cell_type": "markdown",
   "metadata": {},
   "source": [
    "## 3. The Galois Field *GF* ($2^{2}$)\n",
    "\n",
    "A theorem says that there is a finite filed with $2^{2}$ = 4 elements, because 4 is the 2nd power of  \n",
    "the prime number 2. Let’s call this field GF($2^{2}$). Let’s represent the elements by bitstrings of  \n",
    "length two: 00, 01, 10, and 11. Assume 00 is the neutral element with respect to addition and  \n",
    "01 the neutral element with respect to multiplication.  \n",
    "Complete the following tables for addition (left) and multiplication (right):    \n",
    "\n",
    "\n",
    "\n",
    "**Note**: *in order to have inverse elements, the tables must be latin squares, i.e. each element  \n",
    "occurs exactly once in each row and exactly once in each column. It helps to watch the Youtube  \n",
    "video * \n"
   ]
  },
  {
   "cell_type": "markdown",
   "metadata": {},
   "source": [
    "Die Lösung:  \n",
    "    \n",
    "    \n",
    "<img src=\"img\\gf1.jpg\" style=\"height:180px\">\n",
    "\n",
    "<img src=\"img\\gf2.jpg\" style=\"height:210px\">"
   ]
  },
  {
   "cell_type": "code",
   "execution_count": null,
   "metadata": {},
   "outputs": [],
   "source": []
  }
 ],
 "metadata": {
  "kernelspec": {
   "display_name": "Python 3",
   "language": "python",
   "name": "python3"
  },
  "language_info": {
   "codemirror_mode": {
    "name": "ipython",
    "version": 3
   },
   "file_extension": ".py",
   "mimetype": "text/x-python",
   "name": "python",
   "nbconvert_exporter": "python",
   "pygments_lexer": "ipython3",
   "version": "3.7.3"
  }
 },
 "nbformat": 4,
 "nbformat_minor": 2
}
