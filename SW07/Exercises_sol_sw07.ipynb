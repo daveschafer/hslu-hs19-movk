{
 "cells": [
  {
   "cell_type": "markdown",
   "metadata": {},
   "source": [
    "# I.BA_MOVK_MM – Kryptographie\n",
    "## Übung: Protokolle I"
   ]
  },
  {
   "cell_type": "markdown",
   "metadata": {},
   "source": [
    "## Aufgabe 1: Diffie-Hellmann-Schlüsselaustausch\n",
    "\n",
    "Im Unterricht wurde das Protokoll Diffie-Hellmann sicher vorgeführt. Kann ein Angreifer  \n",
    "Namens Mr. X das System angreifen, falls er die Zahlen 𝛼 und 𝛽 kennen würde? Begründen Sie  \n",
    "Ihre Antwort.\n",
    "\n"
   ]
  },
  {
   "cell_type": "markdown",
   "metadata": {},
   "source": [
    "\n",
    "\n",
    "<img src=\"img/dhel_example.png\" style=\"height:200px\">\n",
    "\n",
    "\n",
    "𝛼 und 𝛽 sind A und B , sprich die öffentlichen Teile des Schlüssels.  \n",
    "Das Knacken des Diffie-Hellmann-Schlüsselaustauschprotokolls ist gleichwertig zum Berechnen des diskreten\n",
    "Logarithmus und somit nicht in vernünftiger Zeit lösbar."
   ]
  },
  {
   "cell_type": "markdown",
   "metadata": {},
   "source": [
    "## Aufgabe 2: Schlüsselaustausch\n",
    " \n",
    "Sie haben im Unterricht ein Protokoll für hybride Verschlüsselung mit unsicherem Kanal  \n",
    "kennengelernt. Überlegen sie sich, wie ein anderes Verfahren für diese Art der Verschlüsselung  \n",
    "funktionieren könnte?  "
   ]
  },
  {
   "cell_type": "markdown",
   "metadata": {},
   "source": [
    "Es gibt diverse Hybride Protokolle\n",
    "\n",
    "- TLS\n",
    " - Diffie Hellman Key Exchange\n",
    "  - Synchrone AES Session Verschlüsselung\n",
    "- IPSEC\n",
    "- SSH\n",
    "\n",
    "Und diverse Austausch Verfahren: RSA, Diffie Hellmann, Elgamal"
   ]
  },
  {
   "cell_type": "markdown",
   "metadata": {},
   "source": [
    "## Aufgabe 3: Blinde Signatur\n",
    "\n",
    "Führen Sie zu Zweit die blinde Signatur durch. Protokollieren Sie das Vorgehen und zeigen Sie,\n",
    "wie der Signierer die Nachricht berechnen kann, welche er (blind) signiert!"
   ]
  },
  {
   "cell_type": "markdown",
   "metadata": {},
   "source": [
    "### Paper Way\n",
    "\n",
    "<img src=\"img/blindsig.jpg\" style=\"height:600px\">"
   ]
  },
  {
   "cell_type": "markdown",
   "metadata": {},
   "source": [
    "**INFO**: Δ n habe ich hier mit kgv berechnet, das ist nicht falsch (die Rechnung geht auf) aber für das wahre RSA und für unsere Prüfung müssen wir phi(n) --> Also (p-1)*(q-1) verwenden. Hier die phi(n) Variante:\n",
    "\n",
    "<img src=\"img/blindsig2.jpg\" style=\"height:600px\">"
   ]
  },
  {
   "cell_type": "markdown",
   "metadata": {},
   "source": [
    "## Aufgabe 4: Bit-Commitment\n",
    "\n",
    "Alice leitet die Vertriebsabteilung einer IT-Firma. Sie bereitet eine Offerte mit ihrem Team vor,  \n",
    "um an einem digitalen Ausschreibungsprozess teilzunehmen. Als Protokoll zum Anreichen der  \n",
    "Offerten wurde Bit-Commitmnet allerdings mit einem Bit b der Länge eins (1) festgelegt. Wie  \n",
    "kann Alice sicher sein, dass Bob (ein Mitbewerber) das Bit b nicht berechnen kann?  "
   ]
  },
  {
   "cell_type": "markdown",
   "metadata": {},
   "source": [
    "Das bit selber könnte Bob schon berechnen (0 oder 1), jedoch nicht die Zufallszahl r.  \n",
    "Denn die Committment Funktion ist definiert durch $f(b,r)$ = $m^b \\cdot r^2$"
   ]
  },
  {
   "cell_type": "code",
   "execution_count": null,
   "metadata": {},
   "outputs": [],
   "source": []
  }
 ],
 "metadata": {
  "kernelspec": {
   "display_name": "Python 3",
   "language": "python",
   "name": "python3"
  },
  "language_info": {
   "codemirror_mode": {
    "name": "ipython",
    "version": 3
   },
   "file_extension": ".py",
   "mimetype": "text/x-python",
   "name": "python",
   "nbconvert_exporter": "python",
   "pygments_lexer": "ipython3",
   "version": "3.7.5"
  }
 },
 "nbformat": 4,
 "nbformat_minor": 2
}
