{
 "cells": [
  {
   "cell_type": "markdown",
   "metadata": {},
   "source": [
    "# I.BA_MOVK_MM – Kryptographie (SW13)\n",
    "## Übung: Blockchain"
   ]
  },
  {
   "cell_type": "markdown",
   "metadata": {},
   "source": [
    "## Aufgabe 1: Blockchain\n",
    "\n",
    "Erläutern Sie, inwiefern die dezentrale Architektur des Blockchain-Netzwerkes zu dessen Sicherheit\n",
    "beiträgt."
   ]
  },
  {
   "cell_type": "markdown",
   "metadata": {},
   "source": [
    "**Solution**\n",
    "\n",
    "Aufgrund der architektonischen Struktur bietet die Blockchain eine hohe Sicherheit  \n",
    "und eine End-to-End-Transparenz. In einer Blockchain werden Daten anonym gespeichert,\n",
    "dezentrale registriert und übermittelt. Diese Kombination gewährleistet ein hohes Mass an  \n",
    "Sicherheit, „die auf sicherer Authentifizierung, Kennzeichnung und Schutz der Daten basiert.  \n",
    "\n",
    "Eine Manipulation alter Transaktionen ist nicht einfach möglich, dafür müssten alle Hashwerte\n",
    "der Folgeblöcke berechnet werden. Zusätzlich müsste dann noch eine Mehrheit (51%) der Nodes\n",
    "die \"neue\" Kette akzeptieren.\n"
   ]
  },
  {
   "cell_type": "markdown",
   "metadata": {},
   "source": [
    "## Aufgabe 2: Elektronische Zahlungsverkehr\n",
    "\n",
    "Woran unterscheidet sich E-Bargeld von Bitcoin? Nennen Sie mindestens 2 Punkte und begründen Sie\n",
    "Ihre Antwort."
   ]
  },
  {
   "cell_type": "markdown",
   "metadata": {},
   "source": [
    "**Solution**\n",
    "\n",
    "1. Unterschied: Trust\n",
    "\n",
    "    - E-Cash: Durch einen zentralen \"General Ledger\" (identisch mit traditionellem Geld).  \n",
    "\n",
    "    - Blockchain als Basistechnologie für Bitcoin: Durch eine dezentrale Instanz namens \"Distributed Ledger\"\n",
    "\n",
    "2. Unterschied: Eingesetzte Kryptographische Verfahren\n",
    "\n",
    "    - E-Cash: Braucht blinde Signatur (Chaum) einer zentralen Stelle (e.g. Bank). Die zu  \n",
    "    übertragenden Einheiten werden mit einer Seriennummer versehen und im \"central ledger\" der  \n",
    "    zentralen Instanz vermerkt. Asymmertrisches Verfaren zur Generierung von Schlüsseln basiert auf RSA.\n",
    "    \n",
    "    - Bitcoin: Verwendet elliptische Kurven und asymmetrische Kryptographie (public key: walletadresse,  \n",
    "    private key: signieren von Transaktionen)."
   ]
  },
  {
   "cell_type": "markdown",
   "metadata": {},
   "source": [
    "## Aufgabe 3:  Bitcoin\n",
    "\n",
    "Nennen Sie die verwendeten kryptographischen Elemente für Bitcoin und beschreiben Sie\n",
    "welche Funktionen sie erfüllen? \n",
    "\n",
    "  \n",
    "a) Erläutern Sie, wie das Problem double-spending für Bitcoin gelöst wird?  \n",
    "b) Wie beurteilen Sie die ökologischen Aspekte in Bezug auf Energieverbrauch für\n",
    "Mining?  \n",
    "c) Was passiert im Jahre 2141, wenn kein Bitcoin mehr im Lauf gebracht wird?  \n",
    "d) Wie sicher ist Bitcoin gegen Cyberattacken? Kann Bitcoin verloren gehen?  "
   ]
  },
  {
   "cell_type": "markdown",
   "metadata": {},
   "source": [
    "**Solution**  \n",
    "\n",
    "a.) Das Problem von double-spending wird durch die Arbeitsweise von den Miners und  \n",
    "    einen Cachespeicher (UTXO), der **Unspent Transaktionsoutputs** der Blockchain gewährleiste.  \n",
    "    Angenommen eine Absenderin Alice will eine Transaktion  \n",
    "    durchführen. Der Miner überprüft erst die Verweise auf die Inputstransaktionen  \n",
    "    (Einzahlungen) von Alice: diese müssen mindestens den Betrag der Outputstransaktionen  \n",
    "    (Auszahlungen) abdecken. Dann überprüft der Miner über den UTXO, ob die in der  \n",
    "    Transaktion referenzierten Inputs noch nicht für andere Transaktionen verwendet wurden  \n",
    "    (wurde das Geld vorher schon ausgegeben-double-Spending?). Sollte das der Fall sein wird  \n",
    "    die Transaktion abgelehnt.\n",
    " \n",
    "b.) Das Mining von Bitcoins verwendet eine sehr hohe Menge an Energie für den POW, was ziemlich unökologisch ist.\n",
    "    \n",
    "c.) Im Jahr 2141 wird es keine neuen Bitcoins mehr geben für Mining Aktivitäten, dann wird der maximale Betrag von 21'000'000 Bitcoins im Umlauf sien.\n",
    "\n",
    "d.) Die Blockchain von Bitcoin ist grundsätzlich Read-Only. Eine Manipulation eines Blocks wird durch das verteilte System schnell aufgedeckt (51% Prinzip). Wenn jemand seinen Private-Key für sein Wallet verliert, dann sind die Bitcoins darin auch verloren (gibt keine Instanz die hier helfen könnte)."
   ]
  },
  {
   "cell_type": "markdown",
   "metadata": {},
   "source": [
    "## Aufgabe 4: Transaktion im Bitcoin-Netzwerk\n",
    "\n",
    "Warum wird der Hash-Wert des öffentlichen Schlüssels einer Teilnehmerin als der Adressname\n",
    "des eigenen Computers genutzt?"
   ]
  },
  {
   "cell_type": "markdown",
   "metadata": {},
   "source": [
    "**Solution**\n",
    "\n",
    "Im Bitcoin Netz existieren in dem Sinn keine \"Konten\", sondern nur eine öffentliche Liste aller Transaktionen.  \n",
    "Bitcoins werden jedoch an Adressen transferiert, die den hashwert eines öffentlichen schlüssels räpresentieren.\n",
    "Nur der Besitzer des passenden privaten Schlüssels kann den Bitcoin bestand somit verwenden.\n"
   ]
  },
  {
   "cell_type": "code",
   "execution_count": null,
   "metadata": {},
   "outputs": [],
   "source": []
  }
 ],
 "metadata": {
  "kernelspec": {
   "display_name": "Python 3",
   "language": "python",
   "name": "python3"
  },
  "language_info": {
   "codemirror_mode": {
    "name": "ipython",
    "version": 3
   },
   "file_extension": ".py",
   "mimetype": "text/x-python",
   "name": "python",
   "nbconvert_exporter": "python",
   "pygments_lexer": "ipython3",
   "version": "3.7.5"
  }
 },
 "nbformat": 4,
 "nbformat_minor": 2
}
