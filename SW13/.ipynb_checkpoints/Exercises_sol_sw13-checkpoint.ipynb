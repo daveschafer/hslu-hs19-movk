{
 "cells": [
  {
   "cell_type": "markdown",
   "metadata": {},
   "source": [
    "# I.BA_MOVK_MM – Kryptographie (SW13)\n",
    "## Übung: Blockchain"
   ]
  },
  {
   "cell_type": "markdown",
   "metadata": {},
   "source": [
    "## Aufgabe 1: Blockchain\n",
    "\n",
    "Erläutern Sie, inwiefern die dezentrale Architektur des Blockchain-Netzwerkes zu dessen Sicherheit\n",
    "beiträgt."
   ]
  },
  {
   "cell_type": "markdown",
   "metadata": {},
   "source": [
    "**Solution**\n",
    "\n"
   ]
  },
  {
   "cell_type": "markdown",
   "metadata": {},
   "source": [
    "## Aufgabe 2: Elektronische Zahlungsverkehr\n",
    "\n",
    "Woran unterscheidet sich E-Bargeld von Bitcoin? Nennen Sie mindestens 2 Punkte und begründen Sie\n",
    "Ihre Antwort."
   ]
  },
  {
   "cell_type": "markdown",
   "metadata": {},
   "source": [
    "**Solution**\n",
    "\n"
   ]
  },
  {
   "cell_type": "markdown",
   "metadata": {},
   "source": [
    "## Aufgabe 3:  Bitcoin\n",
    "\n",
    "Nennen Sie die verwendeten kryptographischen Elemente für Bitcoin und beschreiben Sie\n",
    "welche Funktionen sie erfüllen? \n",
    "\n",
    "  \n",
    "a) Erläutern Sie, wie das Problem double-spending für Bitcoin gelöst wird?  \n",
    "b) Wie beurteilen Sie die ökologischen Aspekte in Bezug auf Energieverbrauch für\n",
    "Mining?  \n",
    "c) Was passiert im Jahre 2141, wenn kein Bitcoin mehr im Lauf gebracht wird?  \n",
    "d) Wie sicher ist Bitcoin gegen Cyberattacken? Kann Bitcoin verloren gehen?  "
   ]
  },
  {
   "cell_type": "markdown",
   "metadata": {},
   "source": [
    "**Solution**  \n",
    "\n"
   ]
  },
  {
   "cell_type": "markdown",
   "metadata": {},
   "source": [
    "## Aufgabe 4: Transaktion im Bitcoin-Netzwerk\n",
    "\n",
    "Warum wird der Hash-Wert des öffentlichen Schlüssels einer Teilnehmerin als der Adressname\n",
    "des eigenen Computers genutzt?"
   ]
  },
  {
   "cell_type": "markdown",
   "metadata": {},
   "source": [
    "**Solution**\n",
    "\n"
   ]
  },
  {
   "cell_type": "code",
   "execution_count": null,
   "metadata": {},
   "outputs": [],
   "source": []
  }
 ],
 "metadata": {
  "kernelspec": {
   "display_name": "Python 3",
   "language": "python",
   "name": "python3"
  },
  "language_info": {
   "codemirror_mode": {
    "name": "ipython",
    "version": 3
   },
   "file_extension": ".py",
   "mimetype": "text/x-python",
   "name": "python",
   "nbconvert_exporter": "python",
   "pygments_lexer": "ipython3",
   "version": "3.7.5"
  }
 },
 "nbformat": 4,
 "nbformat_minor": 2
}
