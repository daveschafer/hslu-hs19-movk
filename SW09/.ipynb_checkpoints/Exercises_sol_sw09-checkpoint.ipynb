{
 "cells": [
  {
   "cell_type": "markdown",
   "metadata": {},
   "source": [
    "# I.BA_MOVK_MM – Kryptographie (SW09)\n",
    "## Übung: Zertifikate und Public-Key-Systeme"
   ]
  },
  {
   "cell_type": "markdown",
   "metadata": {},
   "source": [
    "## Aufgabe 1: Zertifikate\n",
    "\n",
    "Erstellen Sie ein kurzes Protokoll zur Zertifikaterstellung und Zertifikatüberprüfung."
   ]
  },
  {
   "attachments": {},
   "cell_type": "markdown",
   "metadata": {},
   "source": [
    "**Solution**\n",
    "\n",
    "1. Hierzu erzeugt der Kunde im ersten Schritt auf seiner eigenen privaten Hardware ein Schlüsselpaar (einen privaten Schlüssel und einen öffentlichen).\n",
    "2. Der Kunde erzeugt eine CSR-Datei, welche ein elektronisches Formular ist. Es enthält neben den Antragsdaten auch seinen öffentlichen Schlüssel.\n",
    "3. Im dritten Schritt sendet der Kunde die CSR an die CA.\n",
    "4. Die CA prüft den Antrag (also die CSR-Datei mit den Formularangaben und dem enthaltenden öffentlichen Zertifikat). Bei positiver Prüfung sendet die CA dem Käufer ein neues öffentliches Zertifikat zurück (als doppelt signierter öffentlicher Schlüssel).\n",
    "\n",
    "\n",
    "Für die Zertifikatsprüfung kann nun der öffentliche Schlüssel der von Alice bereitgestellt wird von einer Drittperson mit dem öffentlichen Schlüssel der signing CA vergleichen.\n",
    "    "
   ]
  },
  {
   "cell_type": "markdown",
   "metadata": {},
   "source": [
    "## Aufgabe 2: Zertifikatshierarchie\n",
    "\n",
    "1. Welche Vorteile hat eine Zertifikatshierarchie für eine Firma und für die einzelne\n",
    "Benutzerin?\n",
    "2. Welche Nachteile hat eine Zertifikatshierarchie für eine Firma und für den einzelnen\n",
    "Benutzer?"
   ]
  },
  {
   "cell_type": "markdown",
   "metadata": {},
   "source": [
    "**Solution Quick**\n",
    "\n",
    "1. Zertifikatsbasierte authentifizierungen vereinfachen das gesamte Authentifizierungsverfahren. Durch eine eigene CA hat man in der Firma volle Kontrolle über die Zertifikate und muss nicht über eine public CA gehen.\n",
    "\n",
    "2. Das Problem sind vorallem die Trusts mit anderen Firmen/CA's. Hierfür muss immer jeweils das Root Zertifikat der anderen Firmen im Truststore eingespielt werden.\n",
    "\n",
    "**Solution**\n",
    "\n",
    "1. Eine Zertifikatshierarchie macht die Arbeit einfacher, indem nicht jede\n",
    "Mitarbeiterin bei einem Trustcenter ihren Schlüssel zertifizieren lassen muss. Hier\n",
    "besitzt jede Firma eine eigene Certification Authority (CA), welche in der Firma\n",
    "die Aufgabe der Schlüsselzertifizierung und Verwaltung wahrnimmt und deren\n",
    "Schlüssel wiederum ist von einem Trustcenter signiert. Dieses Verfahren ist\n",
    "einfacher und kostengünstiger für die Firmen als der direkte Weg über ein\n",
    "Trustcenter.\n",
    "\n",
    "2. Die Zertifikatshierarchie erweist den Nachteil (s. unten), dass Bob der CA 2\n",
    "in Firma 2 vertrauen muss. Will Bob sogar noch mit Firma 3 kommunizieren,\n",
    "so muss er sich erst den Schlüssel von CA 3 besorgen. Ausserdem könnte es\n",
    "vorkommen, dass sein öffentlicher Schlüssel von einem Kommunikationspartner\n",
    "nicht akzeptiert wird, weil er nicht von einem Trustcenter signiert ist.\n",
    "\n",
    "<img src=\"img/trustcenter.png\" style=\"height:150px\">"
   ]
  },
  {
   "cell_type": "markdown",
   "metadata": {},
   "source": [
    "## Aufgabe 3: Client-Server Authentifizierung\n",
    "\n",
    "Studentin Alice will von Zuhause über ein lokales Netz auf einem Rechner der HSLU arbeiten.\n",
    "Welche Probleme können sich dabei ergeben? Erstellen Sie ein kurzes einfaches Protokoll, um\n",
    "eine sichere Authentifizierung zu ermöglichen."
   ]
  },
  {
   "cell_type": "markdown",
   "metadata": {},
   "source": [
    "**Solution**  \n",
    "*Keine Musterlösung vorhanden*  \n",
    "\n",
    "Als Beispiel nehmen wir ein einfaches SSL/TLS Authentication Protokoll, mit gegenseigier Zertifikatsprüfung:  \n",
    "<img src=\"img/client_server_auth.jpg\" style=\"height:300px\">\n",
    "\n",
    "Mögliche Probleme sind: Fehlendes Client Zertifikat, nicht Vertrauenswürdiges Server Zertifikat (self signed?), SSL/TLS Protocl Mismatch zwischen Client und Server"
   ]
  },
  {
   "cell_type": "markdown",
   "metadata": {},
   "source": [
    "## Aufgabe 4: PGP\n",
    "\n",
    "Beschreiben Sie den Begriff «Key escrow» (Schlüsselhinterlegung)."
   ]
  },
  {
   "cell_type": "markdown",
   "metadata": {},
   "source": [
    "**Solution**\n",
    "\n",
    "Davon wird gesprochen, wenn der Privatschlüssel zusätzlich an dritter Stelle, z.B. bei staatlichen Behörden, abgelegt wird, damit diese die Daten ebenfalls lesen können."
   ]
  },
  {
   "cell_type": "markdown",
   "metadata": {},
   "source": [
    "## Aufgabe 5: GPA\n",
    "\n",
    "Warum wird die Kommunikation auf Dark Web häufig mit Hilfe von GPA realisiert?"
   ]
  },
  {
   "cell_type": "markdown",
   "metadata": {},
   "source": [
    "**Solution**\n",
    "\n",
    "Die Anonymität für die Kommunikation auf Dark Web ist vom höchsten\n",
    "Gebot. GnuPGP ist eine PGP Variante, bei welcher keine Gebühren anfallen und offene\n",
    "Standards verwendet werden. Diese Software benutzt nur frei verfügbare Algorithmen\n",
    "und hält sich an den OpenPGP-Standard (RFC 2440), der die Dokument- und\n",
    "Schlüsselformate vorschreibt. GnuPG wird auf Deep und Dark Web eingesetzt. GPA ist\n",
    "nun die graphische Oberfläche von GnuPG und bietet eine komfortable grafische\n",
    "Schlüsselverwaltung an, die für die verschlüsselten Kommunikationen basiert auf MIXe\n",
    "auf Deep und Dark Web notwendig ist."
   ]
  },
  {
   "cell_type": "code",
   "execution_count": null,
   "metadata": {},
   "outputs": [],
   "source": []
  }
 ],
 "metadata": {
  "kernelspec": {
   "display_name": "Python 3",
   "language": "python",
   "name": "python3"
  },
  "language_info": {
   "codemirror_mode": {
    "name": "ipython",
    "version": 3
   },
   "file_extension": ".py",
   "mimetype": "text/x-python",
   "name": "python",
   "nbconvert_exporter": "python",
   "pygments_lexer": "ipython3",
   "version": "3.7.5"
  }
 },
 "nbformat": 4,
 "nbformat_minor": 2
}
