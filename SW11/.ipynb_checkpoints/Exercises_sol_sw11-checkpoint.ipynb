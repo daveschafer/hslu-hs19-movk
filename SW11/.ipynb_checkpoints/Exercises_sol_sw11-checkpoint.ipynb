{
 "cells": [
  {
   "cell_type": "markdown",
   "metadata": {},
   "source": [
    "# I.BA_MOVK_MM – Kryptographie (SW11)\n",
    "## Übung: eVoting"
   ]
  },
  {
   "cell_type": "markdown",
   "metadata": {},
   "source": [
    "## Aufgabe 1: Digitale Demokratie\n",
    "\n",
    "Lesen Sie Dokumente unter dem Link unten und beantworten Sie die folgenden Fragen:\n",
    "1. Trägt das eVoting zur Demokratie bei? Begründen Sie Ihre Antwort.\n",
    "2. Vergleichen Sie das eVoting-Projekt in Estland und in der Schweiz.\n",
    "3. Warum hat der Bundesrat darauf verzichtet, die elektronische Stimmabgabe als\n",
    "ordentlichen Stimmkanal zu etablieren?\n",
    "4. Wer ist Sarah Jamie Lewis und welche Rolle hat sie in Bezug auf das Projekt e-Voting\n",
    "in der Schweiz gespielt?"
   ]
  },
  {
   "cell_type": "markdown",
   "metadata": {},
   "source": [
    "**Solution**\n",
    "\n",
    "<img src=\"img/algoverview.png\" style=\"height:175px\">\n",
    "\n",
    "1. RSA ist semantisch nicht korrekt, da durch Polluting (rauschen) das Ver+Entschlüsseln nicht immer dasselbe ergeben. Konkret wenn das Rechenergebnis grösser als der Modulus ist, wird das Resultat \"abgeschnitten\".\n",
    "Elgamal und Paillier sind besser geeignet da sie semantisch sind.\n",
    "Jedoch ist Elgamal nur für die Multiplikation und Paillier nur für die Addition geeignet (kommt halt auf den Einsatzzweck an). Paillier ist ausserdem sehr komplex und rechenintensiv.\n",
    "\n",
    "2. Paillier könnte z.B. für E-Voting genutzt werden. So könnte man alle abgegebenen Stimmen zählen (addieren) ohne zu sehen wer konkret wen gewählt hat"
   ]
  },
  {
   "cell_type": "markdown",
   "metadata": {},
   "source": [
    "## Aufgabe 2: Homomorphie-Eigenschaft von EL-GAMAL\n",
    "\n",
    "Berechnen Sie bitte jeden Schritt im unteren Teil des Beispiels (s. unten). Die Berechnung\n",
    "für den oberen Teil finden Sie auf den Folien SW10\n",
    "\n",
    "<img src=\"img/elgamal.png\" style=\"height:300px\">"
   ]
  },
  {
   "cell_type": "markdown",
   "metadata": {},
   "source": [
    "**Solution**\n",
    "\n",
    "<img src=\"img/helg1.jpg\" style=\"height:600px\">  \n",
    "\n",
    "<img src=\"img/helg2.jpg\" style=\"height:600px\">"
   ]
  },
  {
   "cell_type": "markdown",
   "metadata": {},
   "source": [
    "## Aufgabe 3: Paillier-Verfahren\n",
    "\n",
    "Gegeben sind zwei Primzahlen **p**=3 und **q**=5. Sei **g**=16 aus $Z^{*}_{225}$   zufällig gewählt.\n",
    "1. Berechnen Sie jeweils den öffentlichen und privaten Schlüssel.\n",
    "2. Verschlüssen Sie den Klartext m=13.\n",
    "3. Entschlüssen Sie den Ciphertext c=71.\n",
    "\n",
    "*Hinweis: Das Ergebnis durch Codierung wird akzeptiert.*\n"
   ]
  },
  {
   "cell_type": "markdown",
   "metadata": {},
   "source": [
    "**Solution**  \n",
    "\n",
    "<img src=\"img/pail1.jpg\" style=\"height:600px\">  \n",
    "\n",
    "<img src=\"img/pail2.jpg\" style=\"height:600px\">"
   ]
  },
  {
   "cell_type": "code",
   "execution_count": null,
   "metadata": {},
   "outputs": [],
   "source": []
  }
 ],
 "metadata": {
  "kernelspec": {
   "display_name": "Python 3",
   "language": "python",
   "name": "python3"
  },
  "language_info": {
   "codemirror_mode": {
    "name": "ipython",
    "version": 3
   },
   "file_extension": ".py",
   "mimetype": "text/x-python",
   "name": "python",
   "nbconvert_exporter": "python",
   "pygments_lexer": "ipython3",
   "version": "3.7.5"
  }
 },
 "nbformat": 4,
 "nbformat_minor": 2
}
