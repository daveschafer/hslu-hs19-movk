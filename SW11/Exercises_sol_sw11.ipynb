{
 "cells": [
  {
   "cell_type": "markdown",
   "metadata": {},
   "source": [
    "# I.BA_MOVK_MM – Kryptographie (SW11)\n",
    "## Übung: eVoting"
   ]
  },
  {
   "cell_type": "markdown",
   "metadata": {},
   "source": [
    "## Aufgabe 1: Digitale Demokratie\n",
    "\n",
    "Lesen Sie die Dokumente unter dem Link unten und beantworten Sie die folgenden Fragen:\n",
    "1. Trägt das eVoting zur Demokratie bei? Begründen Sie Ihre Antwort.\n",
    "2. Vergleichen Sie das eVoting-Projekt in Estland mit jenem in der Schweiz.\n",
    "3. Warum hat der Bundesrat darauf verzichtet, die elektronische Stimmabgabe als\n",
    "ordentlichen Stimmkanal zu etablieren?\n",
    "4. Wer ist Sarah Jamie Lewis und welche Rolle hat sie in Bezug auf das Projekt e-Voting\n",
    "in der Schweiz gespielt?\n",
    "\n",
    "[Link - EVoting Switzerland](data/evoting_swiss.pdf)"
   ]
  },
  {
   "cell_type": "markdown",
   "metadata": {},
   "source": [
    "**Solution**\n",
    "\n"
   ]
  },
  {
   "cell_type": "markdown",
   "metadata": {},
   "source": [
    "## Aufgabe 2: Wahlprotokoll mit symmetrischer Verschlüsselung\n",
    "\n",
    "Wir betrachten zwei Wählerinnen Alice und Eve. Am Ende des symmetrischen eVoting Protokolls mit\n",
    "blinder Signatur (bitte s. in den Vorlesungsfolien) möchte Eve ermitteln, wie Alice gewählt hat. Kann\n",
    "Sie es? Begründen Sie Ihre Antwort."
   ]
  },
  {
   "cell_type": "markdown",
   "metadata": {},
   "source": [
    "**Solution**\n",
    "\n"
   ]
  },
  {
   "cell_type": "markdown",
   "metadata": {},
   "source": [
    "## Aufgabe 3: additives homomorphes Wahlprotokoll\n",
    "\n",
    "Nehmen Sie die Paillier-Verschlüsselung von der Aufgabe 3 (SW10) und berechnen Sie das\n",
    "Wahlergebnis für die folgende Daten\n",
    "\n",
    "<img src=\"img/votetable.png\" style=\"height:85px\">  \n",
    "\n",
    "\n",
    "Die Verschlüsselung von der Aufgabe 3 (SW10):  \n",
    "p = 3  \n",
    "q = 5  \n",
    "n = p*q = 15  \n",
    "g = 16  \n",
    "$\\lambda$ = kgV((p-1) , (q-1)) = 4.\n"
   ]
  },
  {
   "cell_type": "markdown",
   "metadata": {},
   "source": [
    "**Solution**  \n",
    "\n"
   ]
  }
 ],
 "metadata": {
  "kernelspec": {
   "display_name": "Python 3",
   "language": "python",
   "name": "python3"
  },
  "language_info": {
   "codemirror_mode": {
    "name": "ipython",
    "version": 3
   },
   "file_extension": ".py",
   "mimetype": "text/x-python",
   "name": "python",
   "nbconvert_exporter": "python",
   "pygments_lexer": "ipython3",
   "version": "3.7.5"
  }
 },
 "nbformat": 4,
 "nbformat_minor": 2
}
