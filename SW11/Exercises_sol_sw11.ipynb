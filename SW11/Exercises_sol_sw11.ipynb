{
 "cells": [
  {
   "cell_type": "markdown",
   "metadata": {},
   "source": [
    "# I.BA_MOVK_MM – Kryptographie (SW11)\n",
    "## Übung: eVoting"
   ]
  },
  {
   "cell_type": "markdown",
   "metadata": {},
   "source": [
    "## Aufgabe 1: Digitale Demokratie\n",
    "\n",
    "Lesen Sie die Dokumente unter dem Link unten und beantworten Sie die folgenden Fragen:\n",
    "1. Trägt das eVoting zur Demokratie bei? Begründen Sie Ihre Antwort.\n",
    "2. Vergleichen Sie das eVoting-Projekt in Estland mit jenem in der Schweiz.\n",
    "3. Warum hat der Bundesrat darauf verzichtet, die elektronische Stimmabgabe als\n",
    "ordentlichen Stimmkanal zu etablieren?\n",
    "4. Wer ist Sarah Jamie Lewis und welche Rolle hat sie in Bezug auf das Projekt e-Voting\n",
    "in der Schweiz gespielt?\n",
    "\n",
    "[Link - EVoting Switzerland](data/evoting_swiss.pdf)"
   ]
  },
  {
   "cell_type": "markdown",
   "metadata": {},
   "source": [
    "**Solution**\n",
    "\n",
    "*Ist das relevant für die MEP?*\n",
    "\n",
    "1. Grundsätzlich ja, man schätzt dass mehr Stimmberechtigte abstimmen werden, die es momentan nicht machen.\n",
    "2. Das EVoting in Estland ist seit längerem erfolgreich im Einsatz, man liest nichts von gravierenden Sicherheitslücken. Aber auch dort war am Anfang viel Skepsis vorhanden.\n",
    "3. Weil viele stimmen laut wurden (unter anderem der CCC) das EVoting per se unsicher sei (was so aber nicht ganz stimmt).\n",
    "4. Analysierte das Evoting System der Post (das mehr Löcher hatte als ein schweizer Käse)\n"
   ]
  },
  {
   "cell_type": "markdown",
   "metadata": {},
   "source": [
    "## Aufgabe 2: Wahlprotokoll mit symmetrischer Verschlüsselung\n",
    "\n",
    "Wir betrachten zwei Wählerinnen Alice und Eve. Am Ende des symmetrischen eVoting Protokolls mit\n",
    "blinder Signatur (bitte s. in den Vorlesungsfolien) möchte Eve ermitteln, wie Alice gewählt hat. Kann\n",
    "Sie es? Begründen Sie Ihre Antwort."
   ]
  },
  {
   "cell_type": "markdown",
   "metadata": {},
   "source": [
    "**Solution**\n",
    "\n",
    "**Nein**, Eve kann nicht ermitteln, was Alice gewählt hat. Das wäre nur möglich, wenn Eve im\n",
    "Zählsystem oder als Administrator fungieren würde. So hätte sie die Möglichkeit, die verschlüsselte\n",
    "Stimme von Alice zu rekonstruieren oder aufgrund des von Alice ans Zählsystem übergebenen\n",
    "Schlüssels K die zugehörige Stimme ausfindig zu machen.   \n",
    "Aber da Eve ebenfalls Wählerin ist und sie\n",
    "lediglich die am Ende vom Zählsystem veröffentlichte Liste mit den verschlüsselten Stimmen (samt\n",
    "Schlüssel) sehen kann, hat sie keine Möglichkeit, eine der Stimmen genau Alice zuzuordnen, da sie\n",
    "nicht Alices Schlüssel K kennt."
   ]
  },
  {
   "cell_type": "markdown",
   "metadata": {},
   "source": [
    "## Aufgabe 3: additives homomorphes Wahlprotokoll\n",
    "\n",
    "Nehmen Sie die Paillier-Verschlüsselung von der Aufgabe 3 (SW10) und berechnen Sie das\n",
    "Wahlergebnis für die folgende Daten\n",
    "\n",
    "<img src=\"img/votetable.png\" style=\"height:85px\">  \n",
    "\n",
    "\n",
    "Die Verschlüsselung von der Aufgabe 3 (SW10):  \n",
    "p = 3  \n",
    "q = 5  \n",
    "n = p*q = 15  \n",
    "g = 16  \n",
    "$\\lambda$ = kgV((p-1) , (q-1)) = 4.\n"
   ]
  },
  {
   "cell_type": "markdown",
   "metadata": {},
   "source": [
    "**Solution**  \n",
    "\n",
    "*Eine wichtige Info wäre noch gewesen das \"10=ja\" und \"1=nein\" bedeutet beim Ergebnis...*\n",
    "\n",
    "Die Aufgabe ist sehr verwirrend gestellt, die obige Tabelle irritiert zusätzlich da man schon die Wahlergebnisse sieht.\n",
    "Besser formuliert:\n",
    "\n",
    "\"Verschlüssle alle Wahlergebnisse ($ri$ und 'Gewähltes' als $m$) und zähle sie mit dem Paillier Verfahren zusammen (homomorphe Addition). Entschlüssle die Ergebnisse anschliessend und leite von der erhaltenen Zahl das Ergebniss ab.\"  \n",
    "\n",
    "<img src=\"img/pail2_sw11.jpg\" style=\"height:700px\">  "
   ]
  },
  {
   "cell_type": "code",
   "execution_count": null,
   "metadata": {},
   "outputs": [],
   "source": []
  }
 ],
 "metadata": {
  "kernelspec": {
   "display_name": "Python 3",
   "language": "python",
   "name": "python3"
  },
  "language_info": {
   "codemirror_mode": {
    "name": "ipython",
    "version": 3
   },
   "file_extension": ".py",
   "mimetype": "text/x-python",
   "name": "python",
   "nbconvert_exporter": "python",
   "pygments_lexer": "ipython3",
   "version": "3.7.5"
  }
 },
 "nbformat": 4,
 "nbformat_minor": 2
}
