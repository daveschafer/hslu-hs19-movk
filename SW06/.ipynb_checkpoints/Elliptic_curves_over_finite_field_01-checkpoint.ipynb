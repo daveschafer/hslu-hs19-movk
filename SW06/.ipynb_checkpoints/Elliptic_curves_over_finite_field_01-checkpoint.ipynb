{
 "cells": [
  {
   "cell_type": "code",
   "execution_count": 1,
   "metadata": {},
   "outputs": [],
   "source": [
    "# Elliptic Curve Cryptography using the BitCoin curve, SECG secp256k1\n",
    "# Dr. Orion Lawlor, lawlor@alaska.edu, 2015-02-20 (Public Domain)\n",
    "#\n",
    "# full Python3 elliptic curve point multiplication code here - uaf-cs\n",
    "# https://www.cs.uaf.edu/2015/spring/cs463/lecture/02_23_ECC_impl/ECC_bitcoin.py\n",
    "\n",
    "# Convert a string with hex digits, colons, and whitespace to a long integer\n",
    "def hex2int(hexString):\n",
    "    return int(\"\".join(hexString.replace(\":\",\"\").split()),16)\n",
    "\n",
    "# Half the extended Euclidean algorithm:\n",
    "#    Computes   gcd(a,b) = a*x + b*y  \n",
    "#    Returns only gcd, x (not y)\n",
    "# From http://rosettacode.org/wiki/Modular_inverse#Python\n",
    "def half_extended_gcd(aa, bb):\n",
    "    lastrem, rem = abs(aa), abs(bb)\n",
    "    x, lastx = 0, 1\n",
    "    while rem:\n",
    "        lastrem, (quotient, rem) = rem, divmod(lastrem, rem)\n",
    "        x, lastx = lastx - quotient*x, x\n",
    "    return lastrem, lastx \n",
    "\n",
    "# Modular inverse: compute the multiplicative inverse i of a mod m:\n",
    "#     i*a = a*i = 1 mod m\n",
    "def modular_inverse(a, m):\n",
    "    g, x = half_extended_gcd(a, m)\n",
    "    if g != 1:\n",
    "        raise ValueError\n",
    "    return x % m\n",
    "\n",
    "\n",
    "# An elliptic curve has these fields:\n",
    "#   p: the prime used to mod all coordinates\n",
    "#   a: linear part of curve: y^2 = x^3 + ax + b\n",
    "#   b: constant part of curve\n",
    "#   G: a curve point (G.x,G.y) used as a \"generator\"\n",
    "#   n: the order of the generator\n",
    "class ECcurve:\n",
    "    def __init__(self):\n",
    "        return\n",
    "\n",
    "    # Prime field multiplication: return a*b mod p\n",
    "    def field_mul(self,a,b):\n",
    "        return (a*b)%self.p\n",
    "\n",
    "    # Prime field division: return num/den mod p\n",
    "    def field_div(self,num,den):\n",
    "        inverse_den=modular_inverse(den%self.p,self.p)\n",
    "        return self.field_mul(num%self.p,inverse_den)\n",
    "\n",
    "    # Prime field exponentiation: raise num to power mod p\n",
    "    def field_exp(self,num,power):\n",
    "        return pow(num%self.p,power,self.p)\n",
    "\n",
    "    # Return the special identity point\n",
    "    #   We pick x=p, y=0\n",
    "    def identity(self):\n",
    "        return ECpoint(self,self.p,0)\n",
    "\n",
    "    # Return true if point Q lies on our curve\n",
    "    def touches(self,Q):\n",
    "        y2=self.field_exp(Q.y,2)%self.p\n",
    "        # print(\"y^2 = \", y2)\n",
    "        x3ab=(self.field_mul((Q.x*Q.x)%self.p+self.a,Q.x)+self.b)%self.p\n",
    "        # print(\"x^3 + a x + b = \",x3ab)\n",
    "        return y2==x3ab\n",
    "\n",
    "    # Return the slope of the tangent of this curve at point Q\n",
    "    def tangent(self,Q):\n",
    "        return self.field_div(Q.x*Q.x*3+self.a,Q.y*2)\n",
    "\n",
    "    # Return the (x,y) point where this line intersects our curve\n",
    "    #  Q1 and Q2 are two points on the line of slope m\n",
    "    def line_intersect(self,Q1,Q2,m):\n",
    "        v=(Q1.y + self.p - (m*Q1.x)%self.p)%self.p\n",
    "        x=(m*m + self.p-Q1.x + self.p-Q2.x)%self.p\n",
    "        y=(self.p-(m*x)%self.p + self.p-v)%self.p\n",
    "        return ECpoint(self,x,y)\n",
    "\n",
    "    # Return a doubled version of this elliptic curve point\n",
    "    def double(self,Q):\n",
    "        if (Q.x==self.p): # doubling the identity\n",
    "            return Q\n",
    "        if (Q.y==0): # vertical tangent\n",
    "            return self.identity()\n",
    "        return self.line_intersect(Q,Q,self.tangent(Q))\n",
    "\n",
    "    # Return the \"sum\" of these elliptic curve points\n",
    "    def add(self,Q1,Q2):\n",
    "        # Identity special cases\n",
    "        if (Q1.x==self.p): # Q1 is identity\n",
    "            return Q2\n",
    "        if (Q2.x==self.p): # Q2 is identity\n",
    "            return Q1\n",
    "\n",
    "        # Equality special cases\n",
    "        if (Q1.x==Q2.x): \n",
    "            if (Q1.y==Q2.y): # adding point to itself\n",
    "                return self.double(Q1)\n",
    "            else: # vertical pair--result is the identity\n",
    "                return self.identity()\n",
    "\n",
    "        # Ordinary case\n",
    "        m=self.field_div(Q1.y+self.p-Q2.y,Q1.x+self.p-Q2.x)\n",
    "        return self.line_intersect(Q1,Q2,m)\n",
    "\n",
    "    # \"Multiply\" this elliptic curve point Q by the integer m\n",
    "    #    Often the point Q will be the generator G\n",
    "    def mul(self,Q,m):\n",
    "        R=self.identity() # return point\n",
    "        while m!=0:  # binary multiply loop\n",
    "            if m&1: # bit is set\n",
    "                # print(\"  mul: adding Q to R =\",R);\n",
    "                R=self.add(R,Q)\n",
    "            m=m>>1\n",
    "            if (m!=0):\n",
    "                # print(\"  mul: doubling Q =\",Q);\n",
    "                Q=self.double(Q)\n",
    "\n",
    "        return R\n",
    "\n",
    "# A point on an elliptic curve: (x,y)\n",
    "class ECpoint:\n",
    "    \"\"\"A point on an elliptic curve (x,y)\"\"\"\n",
    "    def __init__(self,curve, x,y):\n",
    "        self.curve=curve\n",
    "        self.x=x\n",
    "        self.y=y\n",
    "        if not x==curve.p and not curve.touches(self):\n",
    "            print(\" ECpoint left curve: \",x,\",\",y)\n",
    "\n",
    "    # \"Add\" this point to another point on the same curve\n",
    "    def add(self,Q2):\n",
    "        return self.curve.add(self,Q2)\n",
    "\n",
    "    # \"Multiply\" this point by a scalar\n",
    "    def mul(self,m):\n",
    "        return self.curve.mul(self,m)\n",
    "\n",
    "    # Print this ECpoint\n",
    "    def __str__(self):\n",
    "        if (self.x==self.curve.p):\n",
    "            return \"identity_point\"\n",
    "        else:\n",
    "            return \"(\"+str(self.x)+\", \"+str(self.y)+\")\""
   ]
  },
  {
   "cell_type": "code",
   "execution_count": 2,
   "metadata": {},
   "outputs": [],
   "source": [
    "myECC_01 = ECcurve()\n",
    "myECC_01.p = 23\n",
    "myECC_01.a = 1\n",
    "myECC_01.b = 1\n",
    "myECC_01.G = ECpoint(curve=myECC_01,x=0,y=1)\n",
    "myECC_01.n = 29"
   ]
  },
  {
   "cell_type": "code",
   "execution_count": 3,
   "metadata": {},
   "outputs": [
    {
     "name": "stdout",
     "output_type": "stream",
     "text": [
      "Generator touches curve?  True\n",
      "Tangent of generator:  12\n",
      "Initial curve point  (0, 1)\n",
      "Curve point  2 (6, 19)\n",
      "Curve point  3 (3, 13)\n",
      "Curve point  4 (13, 16)\n",
      "Curve point  5 (18, 3)\n",
      "Curve point  6 (7, 11)\n",
      "Curve point  7 (11, 3)\n",
      "Curve point  8 (5, 19)\n",
      "Curve point  9 (19, 18)\n",
      "Curve point  10 (12, 4)\n",
      "Curve point  11 (1, 16)\n",
      "Curve point  12 (17, 20)\n",
      "Curve point  13 (9, 16)\n",
      "Curve point  14 (4, 0)\n",
      "Curve point  15 (9, 7)\n",
      "Curve point  16 (17, 3)\n",
      "Curve point  17 (1, 7)\n",
      "Curve point  18 (12, 19)\n",
      "Curve point  19 (19, 5)\n",
      "Curve point  20 (5, 4)\n",
      "Curve point  21 (11, 20)\n",
      "Curve point  22 (7, 12)\n",
      "Curve point  23 (18, 20)\n",
      "Curve point  24 (13, 7)\n",
      "Curve point  25 (3, 10)\n",
      "Curve point  26 (6, 4)\n",
      "Curve point  27 (0, 22)\n",
      "Curve point  28 identity_point\n"
     ]
    }
   ],
   "source": [
    "# Test program:\n",
    "curve=myECC_01\n",
    "\n",
    "Q=curve.G\n",
    "print(\"Generator touches curve? \",curve.touches(Q));\n",
    "print(\"Tangent of generator: \",curve.tangent(Q));\n",
    "print(\"Initial curve point \",Q);\n",
    "\n",
    "for i in range(2,myECC_01.n):\n",
    "    Q=Q.add(curve.G) # repeatedly add generator\n",
    "    print(\"Curve point \",i,Q);\n",
    "\n",
    "    J=curve.mul(curve.G,i) # direct jump\n",
    "    if (J.x!=Q.x or J.y!=Q.y):\n",
    "        print(\"    -> MULTIPLY MISMATCH: \",J.x,\",\",J.y);"
   ]
  },
  {
   "cell_type": "code",
   "execution_count": 4,
   "metadata": {},
   "outputs": [
    {
     "name": "stdout",
     "output_type": "stream",
     "text": [
      "9 Q  (6, 19)\n"
     ]
    }
   ],
   "source": [
    "print(\"9 Q \", curve.mul(curve.G,2))"
   ]
  },
  {
   "cell_type": "code",
   "execution_count": 5,
   "metadata": {},
   "outputs": [
    {
     "data": {
      "text/plain": [
       "6"
      ]
     },
     "execution_count": 5,
     "metadata": {},
     "output_type": "execute_result"
    }
   ],
   "source": [
    "144 % 23"
   ]
  },
  {
   "cell_type": "code",
   "execution_count": 6,
   "metadata": {},
   "outputs": [
    {
     "data": {
      "text/plain": [
       "19"
      ]
     },
     "execution_count": 6,
     "metadata": {},
     "output_type": "execute_result"
    }
   ],
   "source": [
    "(12*(0-6) - 1 ) % 23"
   ]
  },
  {
   "cell_type": "code",
   "execution_count": 7,
   "metadata": {},
   "outputs": [
    {
     "name": "stdout",
     "output_type": "stream",
     "text": [
      "Generator touches curve?  True\n",
      "6*(1,1)  identity_point\n",
      "Curve point direct jump  3 , 4\n",
      "Curve point direct jump  2 , 0\n",
      "Curve point direct jump  3 , 1\n",
      "Curve point direct jump  1 , 4\n",
      "Curve point direct jump  5 , 0\n",
      "Curve point  2 (3, 4)\n",
      "Curve point  3 (2, 0)\n",
      "Curve point  4 (3, 1)\n",
      "Curve point  5 (1, 4)\n",
      "Curve point  6 identity_point\n"
     ]
    }
   ],
   "source": [
    "myECC_02 = ECcurve()\n",
    "myECC_02.p = 5\n",
    "myECC_02.a = 2\n",
    "myECC_02.b = 3\n",
    "myECC_02.G = ECpoint(curve=myECC_02,x=1,y=1)\n",
    "myECC_02.n = 7\n",
    "\n",
    "curve=myECC_02\n",
    "\n",
    "Q=curve.G\n",
    "print(\"Generator touches curve? \",curve.touches(Q));\n",
    "# print(\"Tangent of generator: \",curve.tangent(Q));\n",
    "# print(\"Initial curve point \",Q);\n",
    "\n",
    "print(\"6*(1,1) \", curve.mul(curve.G, 6))\n",
    "\n",
    "for i in range(2,myECC_02.n):\n",
    "    J=curve.mul(curve.G,i) # direct jump\n",
    "    print(\"Curve point direct jump \",J.x,\",\",J.y);\n",
    "        \n",
    "for i in range(2,myECC_02.n):\n",
    "    Q=Q.add(curve.G) # repeatedly add generator\n",
    "    print(\"Curve point \",i,Q);\n",
    "\n",
    "    J=curve.mul(curve.G,i) # direct jump\n",
    "    if (J.x!=Q.x or J.y!=Q.y):\n",
    "        print(\"    -> MULTIPLY MISMATCH: \",J.x,\",\",J.y);"
   ]
  },
  {
   "cell_type": "code",
   "execution_count": 8,
   "metadata": {},
   "outputs": [
    {
     "name": "stdout",
     "output_type": "stream",
     "text": [
      "Generator touches curve?  True\n",
      "Tangent of generator:  3\n",
      "Initial curve point  (0, 1)\n",
      "Curve point  2 (4, 2)\n",
      "Curve point  3 (2, 1)\n",
      "Curve point  4 (3, 4)\n",
      "Curve point  5 (3, 1)\n",
      "Curve point  6 (2, 4)\n",
      "Curve point  7 (4, 3)\n",
      "Curve point  8 (0, 4)\n",
      "Curve point  9 identity_point\n"
     ]
    }
   ],
   "source": [
    "myECC_03 = ECcurve()\n",
    "myECC_03.p = 5\n",
    "myECC_03.a = 1\n",
    "myECC_03.b = 1\n",
    "myECC_03.G = ECpoint(curve=myECC_03,x=0,y=1)\n",
    "myECC_03.n = 10\n",
    "\n",
    "curve=myECC_03\n",
    "\n",
    "Q=curve.G\n",
    "print(\"Generator touches curve? \",curve.touches(Q));\n",
    "print(\"Tangent of generator: \",curve.tangent(Q));\n",
    "print(\"Initial curve point \",Q);\n",
    "        \n",
    "for i in range(2,myECC_03.n):\n",
    "    Q=Q.add(curve.G) # repeatedly add generator\n",
    "    print(\"Curve point \",i,Q);\n",
    "\n",
    "    J=curve.mul(curve.G,i) # direct jump\n",
    "    if (J.x!=Q.x or J.y!=Q.y):\n",
    "        print(\"    -> MULTIPLY MISMATCH: \",J.x,\",\",J.y);"
   ]
  },
  {
   "cell_type": "code",
   "execution_count": 9,
   "metadata": {},
   "outputs": [],
   "source": [
    "Q1 = ECpoint(curve=myECC_03,x=0,y=1)"
   ]
  },
  {
   "cell_type": "code",
   "execution_count": 10,
   "metadata": {},
   "outputs": [
    {
     "name": "stdout",
     "output_type": "stream",
     "text": [
      "(4, 2)\n"
     ]
    }
   ],
   "source": [
    "print(Q1.add(Q1))"
   ]
  },
  {
   "cell_type": "code",
   "execution_count": 11,
   "metadata": {},
   "outputs": [
    {
     "name": "stdout",
     "output_type": "stream",
     "text": [
      "identity_point\n",
      "(0, 1)\n",
      "(4, 2)\n",
      "(2, 1)\n",
      "(3, 4)\n",
      "(3, 1)\n",
      "(2, 4)\n",
      "(4, 3)\n",
      "(0, 4)\n",
      "identity_point\n"
     ]
    },
    {
     "data": {
      "text/plain": [
       "[None, None, None, None, None, None, None, None, None, None]"
      ]
     },
     "execution_count": 11,
     "metadata": {},
     "output_type": "execute_result"
    }
   ],
   "source": [
    "[print(Q1.mul(i)) for i in range(10)]"
   ]
  },
  {
   "cell_type": "code",
   "execution_count": 12,
   "metadata": {},
   "outputs": [
    {
     "name": "stdout",
     "output_type": "stream",
     "text": [
      "(4, 3)\n"
     ]
    }
   ],
   "source": [
    "Q2 = ECpoint(curve=myECC_03,x=4,y=2)\n",
    "Q3 = ECpoint(curve=myECC_03,x=3,y=1)\n",
    "print(Q2.add(Q3))"
   ]
  },
  {
   "cell_type": "code",
   "execution_count": 13,
   "metadata": {},
   "outputs": [
    {
     "name": "stdout",
     "output_type": "stream",
     "text": [
      "Generator touches curve?  True\n",
      "Tangent of generator:  5\n",
      "Initial curve point  (0, 7)\n",
      "Curve point  2 (2, 6)\n",
      "Curve point  3 (4, 18)\n",
      "Curve point  4 (5, 8)\n",
      "Curve point  5 (7, 10)\n",
      "Curve point  6 (19, 21)\n",
      "Curve point  7 (22, 1)\n",
      "Curve point  8 (14, 1)\n",
      "Curve point  9 (12, 8)\n",
      "Curve point  10 (15, 9)\n",
      "Curve point  11 (21, 4)\n",
      "Curve point  12 (10, 1)\n",
      "Curve point  13 (6, 15)\n",
      "Curve point  14 (6, 8)\n",
      "Curve point  15 (10, 22)\n",
      "Curve point  16 (21, 19)\n",
      "Curve point  17 (15, 14)\n",
      "Curve point  18 (12, 15)\n",
      "Curve point  19 (14, 22)\n",
      "Curve point  20 (22, 22)\n",
      "Curve point  21 (19, 2)\n",
      "Curve point  22 (7, 13)\n",
      "Curve point  23 (5, 15)\n",
      "Curve point  24 (4, 5)\n",
      "Curve point  25 (2, 17)\n",
      "Curve point  26 (0, 16)\n",
      "Curve point  27 identity_point\n",
      "Curve point  28 (0, 7)\n"
     ]
    }
   ],
   "source": [
    "myECC_04 = ECcurve()\n",
    "myECC_04.p = 23\n",
    "myECC_04.a = 1\n",
    "myECC_04.b = 3\n",
    "myECC_04.G = ECpoint(curve=myECC_04,x=0,y=7)\n",
    "myECC_04.n = 29\n",
    "\n",
    "curve=myECC_04\n",
    "\n",
    "Q=curve.G\n",
    "print(\"Generator touches curve? \",curve.touches(Q));\n",
    "print(\"Tangent of generator: \",curve.tangent(Q));\n",
    "print(\"Initial curve point \",Q);\n",
    "        \n",
    "for i in range(2,myECC_04.n):\n",
    "    Q=Q.add(curve.G) # repeatedly add generator\n",
    "    print(\"Curve point \",i,Q);\n",
    "\n",
    "    J=curve.mul(curve.G,i) # direct jump\n",
    "    if (J.x!=Q.x or J.y!=Q.y):\n",
    "        print(\"    -> MULTIPLY MISMATCH: \",J.x,\",\",J.y);"
   ]
  },
  {
   "cell_type": "code",
   "execution_count": null,
   "metadata": {},
   "outputs": [],
   "source": []
  },
  {
   "cell_type": "code",
   "execution_count": null,
   "metadata": {},
   "outputs": [],
   "source": []
  }
 ],
 "metadata": {
  "kernelspec": {
   "display_name": "Python 3",
   "language": "python",
   "name": "python3"
  },
  "language_info": {
   "codemirror_mode": {
    "name": "ipython",
    "version": 3
   },
   "file_extension": ".py",
   "mimetype": "text/x-python",
   "name": "python",
   "nbconvert_exporter": "python",
   "pygments_lexer": "ipython3",
   "version": "3.7.3"
  }
 },
 "nbformat": 4,
 "nbformat_minor": 2
}
