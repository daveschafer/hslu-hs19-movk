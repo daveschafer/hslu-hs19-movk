{
 "cells": [
  {
   "cell_type": "markdown",
   "metadata": {},
   "source": [
    "# I.BA_MOVK_MM – Kryptographie (SW08)\n",
    "## Übung: Protokolle II"
   ]
  },
  {
   "cell_type": "markdown",
   "metadata": {},
   "source": [
    "## Aufgabe 1: Dining-Cryptographers\n",
    "\n",
    "Ziehen Sie das Protokoll Dining-Cryptographers im Falle einer Dreiergruppe einige Male durch,\n",
    "indem sie das Protokoll mit einem Schiedsrichter überprüfen: es sollen also vier Leute in einer\n",
    "Gruppe arbeiten! Aufgabe: erstellen Sie ein kurzes Protokoll!"
   ]
  },
  {
   "cell_type": "markdown",
   "metadata": {},
   "source": [
    "David, Pascal, Stefan:\n",
    "\n",
    "**Geheimes Bit erzeugen**\n",
    "\n",
    "$b_{DP}$ = 1, $b_{DS}$ = 1\n",
    "\n",
    "$b_{PD}$ = 1, $b_{PS}$ = 0\n",
    "\n",
    "$b_{SD}$ = 1, $b_{SP}$ = 0\n",
    "\n",
    "**XOR der jeweiligen Geheimen Bits berechnen**\n",
    "\n",
    "David: $b_{DP}$ + $b_{DS}$ mod 2 = 1 + 1 mod 2 = 0 \n",
    "\n",
    "Pascal: $b_{PD}$ + $b_{PS}$ mod 2 = 1 + 0  mod 2 = 1 \n",
    "\n",
    "Stefan: $b_{SP}$ + $b_{SD}$ mod 2 = 0 + 1  mod 2 = 1\n",
    "\n",
    "**Wenn der Kryptologe nicht bezahlen will, wird das XOR-Resultat bekannt gegeben, möchte er bezahlen wird das Gegenteil vom XOR-Resultat ausgegeben**\n",
    "\n",
    "David hat \"0\". David bezahlt nicht und meldet deshalb \"0\"   \n",
    "Pascal  hat \"1\", Pascal bezahlt und meldet deshalb das Gegenteil, also \"0\"  \n",
    "Stefan hat \"1\". Stefan bezahlt nicht und meldet deshalb \"1\"  \n",
    "\n",
    "**Alle Ergebnisse nochmals XORen**\n",
    "\n",
    "David + Pascal + Stefan mod 2 = 0 + 0 + 1 = 1 (Das bit ist 1, also hat 1 (gütiger) Kryptologe bezahlt :)\n",
    "\n",
    "---\n",
    "\n",
    "**Erklärung**\n",
    "\n",
    "1. Jeweils zwei Kryptologen erzeugen ein geheimes Bit, das dem jeweils Dritten nicht bekannt ist. Zwischen Alice Bob und Carol gibt es also die Bits AB, BC, CA. (Chaum schildert im Beispiel, dass hinter der Speisekarte, für den Dritten unsichtbar, eine Münze geworfen wird)\n",
    "\n",
    "2. Jeder Kryptologe kennt nun zwei Bits, die er mit jeweils den beiden anderen geteilt hat. Kein Kryptologe kennt jedoch Bits, an denen er nicht beteiligt ist. Nun berechnet jeder aus den beiden bekannten Bits das exklusive Oder. Wenn AB = 0 und CA = 1 gilt, berechnet Alice also AB ^ CA = 1.\n",
    "\n",
    "3. Wenn ein Kryptologe nicht bezahlt hat, gibt er dieses Ergebnis bekannt, ansonsten das Gegenteil.\n",
    "\n",
    "4. Die drei Ergebnisse werden ebenfalls mit dem exklusiven Oder verknüpft. Wenn das Ergebnis hiervon 0 ist, hat niemand der drei Kryptologen bezahlt. Ist es dagegen 1, hat einer der Kryptologen angegeben, bezahlt zu haben."
   ]
  },
  {
   "cell_type": "markdown",
   "metadata": {},
   "source": [
    "## Aufgabe 2: Anonymes Senden\n",
    "\n",
    "Überlegen sie sich ein Beispiel für den zweiten Paragraphen in Abschnitt 6.1!  \n",
    "Aufgabe: erstellen Sie ein kurzes Protokoll (es soll ein von Ihnen durchgeführtes Experiment beschreiben)!"
   ]
  },
  {
   "cell_type": "markdown",
   "metadata": {},
   "source": [
    "![AnonymesSenden.png](img\\AnonymesSenden.png)"
   ]
  },
  {
   "cell_type": "markdown",
   "metadata": {},
   "source": [
    "$k_{AB}=0001$\n",
    "\n",
    "$k_{BC}=0010$\n",
    "\n",
    "$k_{CD}=0011$\n",
    "\n",
    "$k_{AD}=0100$\n",
    "\n",
    "$M = 1101$\n",
    "\n",
    "Alice: $k_{AB} \\oplus k_{AD} \\oplus M = 1000 = k_A$\n",
    "\n",
    "Bob: $k_{AB} \\oplus k_{BC} = 0011 = k_B$\n",
    "\n",
    "Cyril: $k_{BC} \\oplus k_{CD} = 0001 = k_C$\n",
    "\n",
    "David: $k_{CD} \\oplus k_{AD} = 0111 = k_D$\n",
    "\n",
    "$k_A \\oplus k_B \\oplus k_C \\oplus k_D = 1101 = M$"
   ]
  },
  {
   "cell_type": "markdown",
   "metadata": {},
   "source": [
    "## Aufgabe 3: MIXe\n",
    "\n",
    "Spielen das anonyme Versenden von Nachrichten wie in Abschnitt 6.2 beschrieben anhand\n",
    "einfacher Zahlenbeispiele durch.   \n",
    "Aufgabe: erstellen Sie ein kurzes Protokoll (es soll ein von\n",
    "Ihnen durchgeführtes Experiment beschreiben)!"
   ]
  },
  {
   "cell_type": "markdown",
   "metadata": {},
   "source": [
    "**Solution**\n",
    "\n",
    "<img src=\"img/mixe.jpg\" style=\"height:600px\">"
   ]
  },
  {
   "cell_type": "markdown",
   "metadata": {},
   "source": [
    "## Aufgabe 4: Anonymität\n",
    "\n",
    "Was ist «traffic analysis»? Welche Art von Anonymität, die Sie gelernt haben, kann eine Lösung\n",
    "dagegen anbieten? Begründen Sie bitte Ihre Antwort."
   ]
  },
  {
   "cell_type": "markdown",
   "metadata": {},
   "source": [
    "Die «traffic analysis» (Netzverkehrsanalyse) ist der Prozess des Abfangens und  Untersuchens von verschlüsselten Nachrichten in einem Netzwerk.  \n",
    "Je mehr abgefangen wird desto besser kann analysiert (und geknackt werden\n",
    "\n",
    "**Lösung**: Der Einsatz von MIXen ist zentral in der Bekämpfung von traffic analysis, da dort weder das Identifizieren der Sender, Empfänger, oder Inhalt der Kommunikation durch Abfangen von Nachrichten möglich ist."
   ]
  },
  {
   "cell_type": "markdown",
   "metadata": {},
   "source": [
    "## Aufgabe 5: Secret Splitting / Geteiltes Geheimnis\n",
    "\n",
    "Verteilen Sie das Geheimnis 01011001 auf drei Leute! Protokollieren Sie das Vorgehen und zeigen\n",
    "Sie, wie man das Geheimnis rekonstruiert.\n"
   ]
  },
  {
   "cell_type": "markdown",
   "metadata": {},
   "source": [
    "**Solution**\n",
    "\n",
    "$M = 01011001$\n",
    "\n",
    "Alice: $11001100 = A$\n",
    "\n",
    "Bob: $10101010 = B$\n",
    "\n",
    "Cyril: $A \\oplus B \\oplus M = 00111111 = C$\n",
    "\n",
    "$M = A \\oplus B \\oplus C = 01011001$"
   ]
  },
  {
   "cell_type": "markdown",
   "metadata": {},
   "source": [
    "## Aufgabe 6: (2,3)-Schwellenwertproblem - (Optional)\n",
    "\n",
    "Das Geheimnis $M$ wird mit den drei Zufallszahlen $R_1, R_2, R_3$ in drei Teilgeheimnisse aufgeteilt. Das Teilgeheimnis \n",
    "$M_1=(M_{11},M_{12},M_{13})=(R_1⨁M, R_2,R_3)$ ist gegeben.  \n",
    "\n",
    "1. Definieren Sie $M_2$ und $M_3$.  \n",
    "2. Rekonstruieren Sie **M** nur mit zwei Teilgeheimnissen  "
   ]
  },
  {
   "cell_type": "markdown",
   "metadata": {},
   "source": [
    "**Solution (Quick)**\n",
    "\n",
    "Ist ähnlich wie die Aufgabe 5.  \n",
    "\n",
    "Wir definieren z.B. $M_2=(M_{21},M_{22},M_{23})=(R_2⨁M, R_3,R_1)$  \n",
    "Im Endefekkt haben wir etwas wie $M_{11} = R_1 \\oplus M$ und ebenfalls $M_{23} = R_1 \\oplus M$  \n",
    "Wir machen $M_{11} \\oplus M_{23}$, so löst sich $R_1$ auf und wir haben sofort wieder $M$."
   ]
  },
  {
   "cell_type": "markdown",
   "metadata": {},
   "source": [
    "## Aufgabe 7: Secret Sharing Schema: Wie hoch ist das Durchschnittsgehalt?\n",
    "\n",
    "Alice, Bob und Carol wollen nicht verraten, wie viel Geld sie verdienen. Sie möchten\n",
    "jedoch den Durchschnitt ihrer Gehälter berechnen, um mit Hilfe dieses Wertes zu ersehen, ob sie\n",
    "mit ihrem Gehalt zufrieden sind oder ob sie bei der nächsten Gehaltserhöhung kräftig zulangen\n",
    "sollten. Zunächst gehen sie mit einem kryptographischen Protokoll vor. Alice startet. Sie wählt\n",
    "eine Zufallszahl $r$ und addiert ihr Gehalt $a$ dazu. Diesen Wert schickt sie an Bob weiter. Er erhöht\n",
    "diesen Wert um sein Gehalt $b$. Dann fügt Carol Ihr Gehalt $c$ dem vertraulichen Wert $r + a + b$\n",
    "hinzu und gibt ihn an Alice zurück.\n",
    "1. Wie berechnet nun Alice den Durchschnitt ihrer Gehälter?\n",
    "2. Kann eine/r der drei Teilnehmenden das Gehalt einer/s anderen bestimmen? Begründen\n",
    "Sie bitte Ihre Antwort?\n",
    "3. Welche Werte kennt Bob?"
   ]
  },
  {
   "cell_type": "markdown",
   "metadata": {},
   "source": [
    "**Solution**\n",
    "\n",
    "1. Alice subtrahiert die Zufallszahl **r** von **a+b+c** und hat nun das Totalgehalt welches sie durch 3 teilt und das Durchschnittsgehalt erhält.  \n",
    "2. Nein. Alice kann nur das Totalgehalt der zwei anderen, das Total- und das Durchschnittsgehalt von allen kennen. Jede Person kann nur das Durchschnittsgehalt kennen.  \n",
    "3. Bob kennt **r + a**, sein Gehalt **b** und später das Durchschnittsgehalt  "
   ]
  },
  {
   "cell_type": "markdown",
   "metadata": {},
   "source": [
    "## Aufgabe 8: Threshold-Verfahren (Optional 2)\n",
    "\n",
    "Alice teilt ein Geheimnis $S$ mit einem Polynom des 2. Grades mit. Die Zahl $S$ ist die y-Achsenabschnitt\n",
    "(0, S), die das Geheimnis darstellt. Als Teilgeheimnisse sind drei verschiedene Punkte $(3, 2), (4, 1),\n",
    "(5, 2)$ bekannt. Wie rekonstruieren Sie das Geheimnis?"
   ]
  },
  {
   "cell_type": "markdown",
   "metadata": {},
   "source": [
    "Allgemeines Polynom zweiten Grades: \n",
    "$$f(x) = a_2\\cdot x^2 + a_1\\cdot x^1 + a_0\\cdot 1$$\n",
    "\n",
    "$$ 2 = a_2\\cdot 3^2 + a_1\\cdot 3^1 + a_0\\cdot 1$$\n",
    "$$ 1 = a_2\\cdot 4^2 + a_1\\cdot 4^1 + a_0\\cdot 1$$\n",
    "$$ 2 = a_2\\cdot 5^2 + a_1\\cdot 5^1 + a_0\\cdot 1$$\n",
    "\n",
    "$$\n",
    "\\begin{bmatrix}\n",
    "2\\\\\n",
    "1\\\\\n",
    "2\\\\\n",
    "\\end{bmatrix}\n",
    "=\n",
    "\\begin{bmatrix}\n",
    "9 & 3 & 1\\\\\n",
    "16 & 4 & 1\\\\\n",
    "25 & 5 & 1\\\\\n",
    "\\end{bmatrix}\n",
    "\\cdot\n",
    "\\begin{bmatrix}\n",
    "a_2\\\\\n",
    "a_1\\\\\n",
    "a_0\\\\\n",
    "\\end{bmatrix}\n",
    "$$\n",
    "\n",
    "*Dann hier etwas Linalg Python Magic, was an der MEP nicht möglich ist :)*\n",
    "\n",
    "$$\n",
    "\\begin{bmatrix}\n",
    "a_2\\\\\n",
    "a_1\\\\\n",
    "a_0\\\\\n",
    "\\end{bmatrix}\n",
    "=\n",
    "\\begin{bmatrix}\n",
    "1\\\\\n",
    "-8\\\\\n",
    "17\\\\\n",
    "\\end{bmatrix}\n",
    "$$\n",
    "\n",
    "Und da $S = a_0$ haben wir damit die Lösung $S = 17$."
   ]
  },
  {
   "cell_type": "code",
   "execution_count": null,
   "metadata": {},
   "outputs": [],
   "source": []
  }
 ],
 "metadata": {
  "kernelspec": {
   "display_name": "Python 3",
   "language": "python",
   "name": "python3"
  },
  "language_info": {
   "codemirror_mode": {
    "name": "ipython",
    "version": 3
   },
   "file_extension": ".py",
   "mimetype": "text/x-python",
   "name": "python",
   "nbconvert_exporter": "python",
   "pygments_lexer": "ipython3",
   "version": "3.7.5"
  }
 },
 "nbformat": 4,
 "nbformat_minor": 2
}
