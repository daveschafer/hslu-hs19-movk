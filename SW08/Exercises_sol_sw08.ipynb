{
 "cells": [
  {
   "cell_type": "markdown",
   "metadata": {},
   "source": [
    "# I.BA_MOVK_MM – Kryptographie (SW08)\n",
    "## Übung: Protokolle II"
   ]
  },
  {
   "cell_type": "markdown",
   "metadata": {},
   "source": [
    "## Aufgabe 1: Dining-Cryptographers\n",
    "\n",
    "Ziehen Sie das Protokoll Dining-Cryptographers im Falle einer Dreiergruppe einige Male durch,\n",
    "indem sie das Protokoll mit einem Schiedsrichter überprüfen: es sollen also vier Leute in einer\n",
    "Gruppe arbeiten! Aufgabe: erstellen Sie ein kurzes Protokoll!"
   ]
  },
  {
   "cell_type": "markdown",
   "metadata": {},
   "source": []
  },
  {
   "cell_type": "markdown",
   "metadata": {},
   "source": [
    "## Aufgabe 2: Anonymes Senden\n",
    "\n",
    "Überlegen sie sich ein Beispiel für den zweiten Paragraphen in Abschnitt 6.1! Aufgabe: erstellen\n",
    "Sie ein kurzes Protokoll (es soll ein von Ihnen durchgeführtes Experiment beschreiben)!"
   ]
  },
  {
   "cell_type": "markdown",
   "metadata": {},
   "source": []
  },
  {
   "cell_type": "markdown",
   "metadata": {},
   "source": [
    "## Aufgabe 3: MIXe\n",
    "\n",
    "Spielen das anonyme Versenden von Nachrichten wie in Abschnitt 6.2 beschrieben anhand\n",
    "einfacher Zahlenbeispiele durch. Aufgabe: erstellen Sie ein kurzes Protokoll (es soll ein von\n",
    "Ihnen durchgeführtes Experiment beschreiben)!"
   ]
  },
  {
   "cell_type": "markdown",
   "metadata": {},
   "source": []
  },
  {
   "cell_type": "markdown",
   "metadata": {},
   "source": [
    "## Aufgabe 4: Anonymität\n",
    "\n",
    "Was ist «traffic analysis»? Welche Art von Anonymität, die Sie gelernt haben, kann eine Lösung\n",
    "dagegen anbieten? Begründen Sie bitte Ihre Antwort."
   ]
  },
  {
   "cell_type": "markdown",
   "metadata": {},
   "source": []
  },
  {
   "cell_type": "markdown",
   "metadata": {},
   "source": [
    "## Aufgabe 5: Secret Splitting / Geteiltes Geheimnis\n",
    "\n",
    "Verteilen Sie das Geheimnis 01011001 auf drei Leute! Protokollieren Sie das Vorgehen und zeigen\n",
    "Sie, wie man das Geheimnis rekonstruiert.\n"
   ]
  },
  {
   "cell_type": "markdown",
   "metadata": {},
   "source": []
  },
  {
   "cell_type": "markdown",
   "metadata": {},
   "source": [
    "## Aufgabe 6: (2,3)-Schwellenwertproblem\n",
    "\n",
    "Das Geheimnis Mwird mitden dreiZufallszahlen $R_1, R_2, R_3$ in drei Teilgeheimnisse aufgeteilt. Das Teilgeheimnis \n",
    "$M_1=(M_11,M_12,M_13)=(R_1⨁M, R_2,R_3)$ist gegeben.  \n",
    "\n",
    "1. DefinierenSie $M_2$ und $M_3$.  \n",
    "2. Rekonstruieren Sie **M** nur mit zwei Teilgeheimnissen  "
   ]
  },
  {
   "cell_type": "markdown",
   "metadata": {},
   "source": []
  },
  {
   "cell_type": "markdown",
   "metadata": {},
   "source": [
    "## Aufgabe 7: Secret Sharing Schema: Wie hoch ist das Durchschnittsgehalt?\n",
    "\n",
    "Alice, Bob und Carol wollen jedoch nicht verraten, wie viel Geld sie verdienen. Sie möchten\n",
    "jedoch den Durchschnitt ihrer Gehälter berechnen, um mit Hilfe dieses Wertes zu ersehen, ob sie\n",
    "mit ihrem Gehalt zufrieden sind oder ob sie bei der nächsten Gehaltserhöhung kräftig zulangen\n",
    "sollten. Zunächst gehen sie mit einem kryptographischen Protokoll vor. Alice startet. Sie wählt\n",
    "eine Zufallszahl $r$ und addiert ihr Gehalt $a$ dazu. Diesen Wert schickt sie an Bob weiter. Er erhöht\n",
    "diesen Wert um sein Gehalt $b$. Dann fügt Carol Ihr Gehalt $c$ dem vertraulichen Wert $r + a + b$\n",
    "hinzu und gibt ihn an Alice zurück.\n",
    "1. Wie berechnet nun Alice den Durchschnitt ihrer Gehälter?\n",
    "2. Kann eine/r der drei Teilnehmenden das Gehalt einer/s anderen bestimmen? Begründen\n",
    "Sie bitte Ihre Antwort?\n",
    "3. Welche Werte kennt Bob?"
   ]
  },
  {
   "cell_type": "code",
   "execution_count": null,
   "metadata": {},
   "outputs": [],
   "source": []
  },
  {
   "cell_type": "code",
   "execution_count": null,
   "metadata": {},
   "outputs": [],
   "source": []
  }
 ],
 "metadata": {
  "kernelspec": {
   "display_name": "Python 3",
   "language": "python",
   "name": "python3"
  },
  "language_info": {
   "codemirror_mode": {
    "name": "ipython",
    "version": 3
   },
   "file_extension": ".py",
   "mimetype": "text/x-python",
   "name": "python",
   "nbconvert_exporter": "python",
   "pygments_lexer": "ipython3",
   "version": "3.7.3"
  }
 },
 "nbformat": 4,
 "nbformat_minor": 2
}
