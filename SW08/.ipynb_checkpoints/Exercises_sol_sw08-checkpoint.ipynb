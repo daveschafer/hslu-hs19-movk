{
 "cells": [
  {
   "cell_type": "markdown",
   "metadata": {},
   "source": [
    "# I.BA_MOVK_MM – Kryptographie (SW08)\n",
    "## Übung: Protokolle II"
   ]
  },
  {
   "cell_type": "markdown",
   "metadata": {},
   "source": [
    "## Aufgabe 1: Dining-Cryptographers\n",
    "\n",
    "Ziehen Sie das Protokoll Dining-Cryptographers im Falle einer Dreiergruppe einige Male durch,\n",
    "indem sie das Protokoll mit einem Schiedsrichter überprüfen: es sollen also vier Leute in einer\n",
    "Gruppe arbeiten! Aufgabe: erstellen Sie ein kurzes Protokoll!"
   ]
  },
  {
   "cell_type": "markdown",
   "metadata": {},
   "source": []
  },
  {
   "cell_type": "markdown",
   "metadata": {},
   "source": [
    "## Aufgabe 2: Anonymes Senden\n",
    "\n",
    "Überlegen sie sich ein Beispiel für den zweiten Paragraphen in Abschnitt 6.1! Aufgabe: erstellen\n",
    "Sie ein kurzes Protokoll (es soll ein von Ihnen durchgeführtes Experiment beschreiben)!"
   ]
  },
  {
   "cell_type": "markdown",
   "metadata": {},
   "source": []
  },
  {
   "cell_type": "markdown",
   "metadata": {},
   "source": [
    "## Aufgabe 3: MIXe\n",
    "\n",
    "Spielen das anonyme Versenden von Nachrichten wie in Abschnitt 6.2 beschrieben anhand\n",
    "einfacher Zahlenbeispiele durch. Aufgabe: erstellen Sie ein kurzes Protokoll (es soll ein von\n",
    "Ihnen durchgeführtes Experiment beschreiben)!"
   ]
  },
  {
   "cell_type": "markdown",
   "metadata": {},
   "source": []
  },
  {
   "cell_type": "markdown",
   "metadata": {},
   "source": [
    "## Aufgabe 4: Anonymität\n",
    "\n",
    "Was ist «traffic analysis»? Welche Art von Anonymität, die Sie gelernt haben, kann eine Lösung\n",
    "dagegen anbieten? Begründen Sie bitte Ihre Antwort."
   ]
  },
  {
   "cell_type": "markdown",
   "metadata": {},
   "source": []
  },
  {
   "cell_type": "markdown",
   "metadata": {},
   "source": [
    "## Aufgabe 5: Secret Splitting / Geteiltes Geheimnis\n",
    "\n",
    "Verteilen Sie das Geheimnis 01011001 auf drei Leute! Protokollieren Sie das Vorgehen und zeigen\n",
    "Sie, wie man das Geheimnis rekonstruiert.\n",
    "\n",
    "Hion"
   ]
  }
 ],
 "metadata": {
  "kernelspec": {
   "display_name": "Python 3",
   "language": "python",
   "name": "python3"
  },
  "language_info": {
   "codemirror_mode": {
    "name": "ipython",
    "version": 3
   },
   "file_extension": ".py",
   "mimetype": "text/x-python",
   "name": "python",
   "nbconvert_exporter": "python",
   "pygments_lexer": "ipython3",
   "version": "3.7.3"
  }
 },
 "nbformat": 4,
 "nbformat_minor": 2
}
