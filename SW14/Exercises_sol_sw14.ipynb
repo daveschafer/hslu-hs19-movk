{
 "cells": [
  {
   "cell_type": "markdown",
   "metadata": {},
   "source": [
    "# I.BA_MOVK_MM – Kryptographie (SW14)\n",
    "## Übung: Advanced Topics (Quantum)"
   ]
  },
  {
   "cell_type": "markdown",
   "metadata": {},
   "source": [
    "## 1 Right- and left-hand circularly polarized light\n",
    "\n",
    "<img src=\"img/ex01.png\" style=\"height:400px\">"
   ]
  },
  {
   "cell_type": "markdown",
   "metadata": {},
   "source": [
    "### Solutions\n",
    "\n",
    "*Herr Bürgler hat diese Frage auch nicht beantwortet --> Ergo irrelevant*"
   ]
  },
  {
   "cell_type": "markdown",
   "metadata": {},
   "source": [
    "## Aufgabe 2: BB84\n",
    "\n",
    "Suppose Alice uses the following polarization states and bit values and Bob measures in the\n",
    "depicted basis. Compute the raw key (bevor reconciliation/error correction and privacy amplification).\n",
    "\n",
    "\n",
    "<img src=\"img/ex02.png\" style=\"height:75px\">"
   ]
  },
  {
   "cell_type": "markdown",
   "metadata": {},
   "source": [
    "### Solution\n",
    "\n",
    "<img src=\"img/bb84_1.jpg\" style=\"height:600px\">"
   ]
  },
  {
   "cell_type": "markdown",
   "metadata": {},
   "source": [
    "## Aufgabe 3: Again BB84\n",
    "\n",
    "In the BB84 protocol:  \n",
    "\n",
    "1. what is the probability, that Bob chooses the same basis as Alice? \n",
    "\n",
    "        50% (since he only has to choose horizontal or vertical)\n",
    "        \n",
    "2. what is the probability, that Eve guesses the correct basis and resends the qubit in the correct state to Bob? Will her interaction be observed in this case?\n",
    "\n",
    "        Eve has a 50% percent Chance to guess the correct basis.\n",
    "        Eve has another 50% chance to resend the qubit in the\n",
    "        correct state. So Eve produces an additional 25% Error Overall\n",
    "        \n",
    "        Bob/Alice could detect the listening, because Eve \"destroys\" the original Qubit with every listening and\n",
    "        only has a 75% chance to restore it correctly.\n",
    "        \n",
    "        The Probability of Detection is: p = 1 - 0.75^n where n is number of qubits.\n",
    "        \n",
    "3. What percentage of bits of the raw key has Bob to discard typically? Note: the shorter key is called shifted key.  \n",
    "\n",
    "        Also 50%"
   ]
  },
  {
   "cell_type": "markdown",
   "metadata": {},
   "source": []
  },
  {
   "cell_type": "markdown",
   "metadata": {},
   "source": [
    "## Aufgabe 4: How to find the period of an injective function f\n",
    "\n",
    "The idea in classical computing would be to choose random $x$ and $x'$ and check, whether $f (x) = f (x')$.  \n",
    "If that is the case, then $x' = x+kp$ for some $k \\in \\mathbb{Z}$. Hence we could find a multiple ($kp$) of the period $p$.  \n",
    "It can be shown, that a first guess of $p$ can be made using brute force, by finding a collision in $f$ using approximately $\\sqrt(r)$ inputs. Explain!"
   ]
  },
  {
   "cell_type": "markdown",
   "metadata": {},
   "source": [
    "### Solution\n",
    "\n",
    "*Siehe Seite 30 Advanced Topics.*\n",
    "Das Theorem ist Teil von Shors Algorithmus \"find period of a function f\".\n",
    "\n",
    "Es geht also darum zu schauen, ab wann sich eine Funktion wiederholt. Als beispiel nehmen wir $2^{k} \\mod 15$  \n",
    "\n",
    "$2^{0} \\mod 15 = 1$  \n",
    "$2^{1} \\mod 15 = 2$  \n",
    "$2^{2} \\mod 15 = 4$  \n",
    "$2^{3} \\mod 15 = 8$  \n",
    "$2^{4} \\mod 15 = 1$  \n",
    "$2^{5} \\mod 15 = 2$  \n",
    "$2^{6} \\mod 15 = 4$  \n",
    "$2^{7} \\mod 15 = 8$  \n",
    "\n",
    "Man sieht schnell, das die Funktion sich nach 4 Schritten wiederholt. somit ist $p=4$ und es gilt $2^{k} = 2^{k+p}$\n",
    "\n",
    "Anscheinend kann man hier das Geburtstags-Paradoxon anwenden und kommt so auf $\\sqrt(r)$ inputs die man testen muss."
   ]
  },
  {
   "cell_type": "markdown",
   "metadata": {},
   "source": [
    "## Aufgabe 5: Shor’s algorithm to factor 35\n",
    "\n",
    "Use Shor’s algorithm to factor $n$ = 35. Start with $m$ = 11, and then $m$ = 2, $m$ = 3.   \n",
    "For step 2 use a classical computer, i.e. do it by hand!"
   ]
  },
  {
   "cell_type": "markdown",
   "metadata": {},
   "source": [
    "\n",
    "<img src=\"img/shor1.jpg\" style=\"height:600px\">\n",
    "\n",
    "<img src=\"img/shor2.jpg\" style=\"height:600px\">"
   ]
  },
  {
   "cell_type": "code",
   "execution_count": null,
   "metadata": {},
   "outputs": [],
   "source": []
  }
 ],
 "metadata": {
  "kernelspec": {
   "display_name": "Python 3",
   "language": "python",
   "name": "python3"
  },
  "language_info": {
   "codemirror_mode": {
    "name": "ipython",
    "version": 3
   },
   "file_extension": ".py",
   "mimetype": "text/x-python",
   "name": "python",
   "nbconvert_exporter": "python",
   "pygments_lexer": "ipython3",
   "version": "3.7.5"
  }
 },
 "nbformat": 4,
 "nbformat_minor": 2
}
