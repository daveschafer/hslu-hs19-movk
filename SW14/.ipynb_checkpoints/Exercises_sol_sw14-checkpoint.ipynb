{
 "cells": [
  {
   "cell_type": "markdown",
   "metadata": {},
   "source": [
    "# I.BA_MOVK_MM – Kryptographie (SW14)\n",
    "## Übung: Advanced Topics (Quantum)"
   ]
  },
  {
   "cell_type": "markdown",
   "metadata": {},
   "source": [
    "## 1 Right- and left-hand circularly polarized light\n",
    "\n",
    "<img src=\"img/ex01.png\" style=\"height:500px\">"
   ]
  },
  {
   "cell_type": "markdown",
   "metadata": {},
   "source": [
    "David, Pascal, Stefan:\n",
    "\n",
    "**Geheimes Bit erzeugen**\n",
    "\n",
    "$b_{DP}$ = 1, $b_{DS}$ = 1\n",
    "\n",
    "$b_{PD}$ = 1, $b_{PS}$ = 0\n",
    "\n",
    "$b_{SD}$ = 1, $b_{SP}$ = 0\n",
    "\n",
    "**XOR der jeweiligen Geheimen Bits berechnen**\n",
    "\n",
    "David: $b_{DP}$ + $b_{DS}$ mod 2 = 1 + 1 mod 2 = 0 \n",
    "\n",
    "Pascal: $b_{PD}$ + $b_{PS}$ mod 2 = 1 + 0  mod 2 = 1 \n",
    "\n",
    "Stefan: $b_{SP}$ + $b_{SD}$ mod 2 = 0 + 1  mod 2 = 1\n",
    "\n",
    "**Wenn der Kryptologe nicht bezahlt wird das XOR Resultat bekannt gegeben, ansonsten das gegenteil vom XOR-Resultat**\n",
    "\n",
    "David hat \"0\". David bezahlt nicht und meldet deshalb \"0\"\n",
    "Pascal  hat \"1\", Pascal bezahlt und meldet \"0\"\n",
    "Stefan hat \"1\". Stefan bezahlt nicht und meldet \"1\"\n",
    "\n",
    "**Alle Ergebnisse nochmals XORen**\n",
    "\n",
    "David + Pascal + Stefan mod 2 = 0 + 0 + 1 = 1 (Das bit ist 1, also hat 1 (gütiger) Kryptologe bezahlt :)\n",
    "\n",
    "---\n",
    "\n",
    "**Erklärung**\n",
    "\n",
    "1. Jeweils zwei Kryptologen erzeugen ein geheimes Bit, das dem jeweils Dritten nicht bekannt ist. Zwischen Alice Bob und Carol gibt es also die Bits AB, BC, CA. (Chaum schildert im Beispiel, dass hinter der Speisekarte, für den Dritten unsichtbar, eine Münze geworfen wird)\n",
    "\n",
    "2. Jeder Kryptologe kennt nun zwei Bits, die er mit jeweils den beiden anderen geteilt hat. Kein Kryptologe kennt jedoch Bits, an denen er nicht beteiligt ist. Nun berechnet jeder aus den beiden bekannten Bits das exklusive Oder. Wenn AB = 0 und CA = 1 gilt, berechnet Alice also AB ^ CA = 1.\n",
    "\n",
    "3. Wenn ein Kryptologe nicht bezahlt hat, gibt er dieses Ergebnis bekannt, ansonsten das Gegenteil.\n",
    "\n",
    "4. Die drei Ergebnisse werden ebenfalls mit dem exklusiven Oder verknüpft. Wenn das Ergebnis hiervon 0 ist, hat niemand der drei Kryptologen bezahlt. Ist es dagegen 1, hat einer der Kryptologen angegeben, bezahlt zu haben."
   ]
  },
  {
   "cell_type": "markdown",
   "metadata": {},
   "source": [
    "## Aufgabe 2: Anonymes Senden\n",
    "\n",
    "Überlegen sie sich ein Beispiel für den zweiten Paragraphen in Abschnitt 6.1! Aufgabe: erstellen\n",
    "Sie ein kurzes Protokoll (es soll ein von Ihnen durchgeführtes Experiment beschreiben)!"
   ]
  },
  {
   "cell_type": "markdown",
   "metadata": {},
   "source": [
    "![AnonymesSenden.png](img\\AnonymesSenden.png)"
   ]
  },
  {
   "cell_type": "markdown",
   "metadata": {},
   "source": [
    "$k_{AB}=0001$\n",
    "\n",
    "$k_{BC}=0010$\n",
    "\n",
    "$k_{CD}=0011$\n",
    "\n",
    "$k_{AD}=0100$\n",
    "\n",
    "$M = 1101$\n",
    "\n",
    "Alice: $k_{AB} + k_{AD} + M = 1000 = k_A$\n",
    "\n",
    "Bob: $k_{AB} + k_{BC} = 0011 = k_B$\n",
    "\n",
    "Cyril: $k_{BC} + k_{CD} = 0001 = k_C$\n",
    "\n",
    "David: $k_{CD} + k_{AD} = 0111 = k_D$\n",
    "\n",
    "$k_A + k_B + k_C + k_D = 1101 = M$"
   ]
  },
  {
   "cell_type": "markdown",
   "metadata": {},
   "source": [
    "## Aufgabe 3: MIXe\n",
    "\n",
    "Spielen das anonyme Versenden von Nachrichten wie in Abschnitt 6.2 beschrieben anhand\n",
    "einfacher Zahlenbeispiele durch. Aufgabe: erstellen Sie ein kurzes Protokoll (es soll ein von\n",
    "Ihnen durchgeführtes Experiment beschreiben)!"
   ]
  },
  {
   "cell_type": "markdown",
   "metadata": {},
   "source": []
  },
  {
   "cell_type": "markdown",
   "metadata": {},
   "source": [
    "## Aufgabe 4: Anonymität\n",
    "\n",
    "Was ist «traffic analysis»? Welche Art von Anonymität, die Sie gelernt haben, kann eine Lösung\n",
    "dagegen anbieten? Begründen Sie bitte Ihre Antwort."
   ]
  },
  {
   "cell_type": "markdown",
   "metadata": {},
   "source": []
  },
  {
   "cell_type": "markdown",
   "metadata": {},
   "source": [
    "## Aufgabe 5: Secret Splitting / Geteiltes Geheimnis\n",
    "\n",
    "Verteilen Sie das Geheimnis 01011001 auf drei Leute! Protokollieren Sie das Vorgehen und zeigen\n",
    "Sie, wie man das Geheimnis rekonstruiert.\n"
   ]
  },
  {
   "cell_type": "markdown",
   "metadata": {},
   "source": []
  },
  {
   "cell_type": "markdown",
   "metadata": {},
   "source": [
    "## Aufgabe 6: (2,3)-Schwellenwertproblem\n",
    "\n",
    "Das Geheimnis Mwird mitden dreiZufallszahlen $R_1, R_2, R_3$ in drei Teilgeheimnisse aufgeteilt. Das Teilgeheimnis \n",
    "$M_1=(M_11,M_12,M_13)=(R_1⨁M, R_2,R_3)$ist gegeben.  \n",
    "\n",
    "1. DefinierenSie $M_2$ und $M_3$.  \n",
    "2. Rekonstruieren Sie **M** nur mit zwei Teilgeheimnissen  "
   ]
  },
  {
   "cell_type": "markdown",
   "metadata": {},
   "source": []
  },
  {
   "cell_type": "markdown",
   "metadata": {},
   "source": [
    "## Aufgabe 7: Secret Sharing Schema: Wie hoch ist das Durchschnittsgehalt?\n",
    "\n",
    "Alice, Bob und Carol wollen jedoch nicht verraten, wie viel Geld sie verdienen. Sie möchten\n",
    "jedoch den Durchschnitt ihrer Gehälter berechnen, um mit Hilfe dieses Wertes zu ersehen, ob sie\n",
    "mit ihrem Gehalt zufrieden sind oder ob sie bei der nächsten Gehaltserhöhung kräftig zulangen\n",
    "sollten. Zunächst gehen sie mit einem kryptographischen Protokoll vor. Alice startet. Sie wählt\n",
    "eine Zufallszahl $r$ und addiert ihr Gehalt $a$ dazu. Diesen Wert schickt sie an Bob weiter. Er erhöht\n",
    "diesen Wert um sein Gehalt $b$. Dann fügt Carol Ihr Gehalt $c$ dem vertraulichen Wert $r + a + b$\n",
    "hinzu und gibt ihn an Alice zurück.\n",
    "1. Wie berechnet nun Alice den Durchschnitt ihrer Gehälter?\n",
    "2. Kann eine/r der drei Teilnehmenden das Gehalt einer/s anderen bestimmen? Begründen\n",
    "Sie bitte Ihre Antwort?\n",
    "3. Welche Werte kennt Bob?"
   ]
  },
  {
   "cell_type": "code",
   "execution_count": null,
   "metadata": {},
   "outputs": [],
   "source": []
  },
  {
   "cell_type": "markdown",
   "metadata": {},
   "source": [
    "## Aufgabe 8: Threshold-Verfahren\n",
    "\n",
    "Alice teilt ein Geheimnis $S$ mit einem Polynom des 2. Grades mit. Die Zahl $S$ ist die y-Achsenabschnitt\n",
    "(0, S), die das Geheimnis darstellt. Als Teilgeheimnisse sind drei verschiedene Punkte $(3, 2), (4, 1),\n",
    "(5, 2)$ bekannt. Wie rekonstruieren Sie das Geheimnis?"
   ]
  },
  {
   "cell_type": "code",
   "execution_count": null,
   "metadata": {},
   "outputs": [],
   "source": []
  }
 ],
 "metadata": {
  "kernelspec": {
   "display_name": "Python 3",
   "language": "python",
   "name": "python3"
  },
  "language_info": {
   "codemirror_mode": {
    "name": "ipython",
    "version": 3
   },
   "file_extension": ".py",
   "mimetype": "text/x-python",
   "name": "python",
   "nbconvert_exporter": "python",
   "pygments_lexer": "ipython3",
   "version": "3.7.5"
  }
 },
 "nbformat": 4,
 "nbformat_minor": 2
}
