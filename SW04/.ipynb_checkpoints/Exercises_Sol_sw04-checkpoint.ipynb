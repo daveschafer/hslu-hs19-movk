{
 "cells": [
  {
   "cell_type": "markdown",
   "metadata": {},
   "source": [
    "# Cryptographic Utilities Exercise || I.BA_MOVK_MM, Semesterweek 04\n",
    "*Please write down to solution of the exercises in a consise but comprehensible way. Numerical results\n",
    "should be accurate to 4 digits.*"
   ]
  },
  {
   "cell_type": "markdown",
   "metadata": {},
   "source": [
    "## 1 Exercise 1: MD5, SHA1, SHA256, SHA512\n",
    "\n",
    "Generate the previsously mentioned hash values of the string $Hello World!$. Do You get the same  \n",
    "result as Your neighbour? Check the size of each hash value! What are the corresponding block sizes?  \n",
    "Make a table! How many hash values would You have to generate in order to find a collision with a  \n",
    "probability of at least 50% (90%)?  \n",
    "\n",
    "---\n",
    "\n",
    "We will use some good ol' Python for that"
   ]
  },
  {
   "cell_type": "code",
   "execution_count": 30,
   "metadata": {},
   "outputs": [
    {
     "name": "stdout",
     "output_type": "stream",
     "text": [
      "md5:  06e0e6637d27b2622ab52022db713ce2\n",
      "md5-size:  16\n",
      "md5-block-size:  64\n",
      "\n",
      "sha1:  d735871a64133ee062400659cf91b8234d1c1930\n",
      "sha1-size:  20\n",
      "sha1-block-size:  64\n",
      "\n",
      "sha256:  729e344a01e52c822bdfdec61e28d6eda02658d2e7d2b80a9b9029f41e212dde\n",
      "sha256-size:  32\n",
      "sha256-block-size:  64\n",
      "\n",
      "sha512:  c5179301e5619c392fb9b8872b90156ea45e452ea7336d9ee727d5d4a2a95df6a973ddfdeb92bbc14e01aa923591d44835ac32ccd1a71f4681f6a731fae5c238\n",
      "sha512-size:  64\n",
      "sha512-block-size:  128\n"
     ]
    }
   ],
   "source": [
    "import hashlib\n",
    "\n",
    "plaintext = b'HelloWorld!'\n",
    "\n",
    "md5hash = hashlib.md5(plaintext)\n",
    "print(\"md5: \",md5hash.hexdigest())\n",
    "print(\"md5-size: \",md5hash.digest_size)\n",
    "print(\"md5-block-size: \",md5hash.block_size)\n",
    "print()\n",
    "\n",
    "sha1hash = hashlib.sha1(plaintext)\n",
    "print(\"sha1: \",sha1hash.hexdigest())\n",
    "print(\"sha1-size: \",sha1hash.digest_size)\n",
    "print(\"sha1-block-size: \",sha1hash.block_size)\n",
    "print()\n",
    "\n",
    "\n",
    "sha256hash = hashlib.sha256(plaintext)\n",
    "print(\"sha256: \",sha256hash.hexdigest())\n",
    "print(\"sha256-size: \",sha256hash.digest_size)\n",
    "print(\"sha256-block-size: \",sha256hash.block_size)\n",
    "print()\n",
    "\n",
    "\n",
    "sha512hash = hashlib.sha512(plaintext)\n",
    "print(\"sha512: \",sha512hash.hexdigest())\n",
    "print(\"sha512-size: \",sha512hash.digest_size)\n",
    "print(\"sha512-block-size: \",sha512hash.block_size)\n"
   ]
  },
  {
   "cell_type": "markdown",
   "metadata": {},
   "source": [
    "The values are obviously the same as my neighbours, because it is a hash and not an encryption with different keys!    \n",
    "\n",
    "The Probability of a Collission is besth shown here:  \n",
    "\n",
    "<img src=\"img/md5col.png\" style=\"height:400px\">\n",
    "\n",
    "\n",
    "\n",
    "\n"
   ]
  },
  {
   "cell_type": "markdown",
   "metadata": {},
   "source": [
    "## Exercise 2: True random number generator  \n",
    "\n",
    "Check if Your computer can generate true random numbers, possibly through some special device? Find  \n",
    "out the underlying physical principle (thermal noise, etc.). How can You use the random number generator  \n",
    "in the power shell (Windows) or some shell (bash, sh, etc.) on Linux or MAC OS X?  \n",
    "How are true random numbers generated on smart cards? Do some research on the internet!  \n",
    "\n",
    "---\n",
    " \n",
    "**Windows:** https://en.wikipedia.org/wiki/CryptGenRandom  \n",
    "**True-Randomness**: Pseudorandom \n",
    "\n",
    "---\n",
    "\n",
    "**Linux**: /dev/random  \n",
    "**True-Randomness**: Verwendet den \"Noise\" von Systemtreibern (CPU clock, GPU clock, Voltage Level...)  \n",
    "**Example**: cat /dev/urandom > ~/urandom_test2   \n",
    "\n",
    "--- \n",
    "\n",
    "**Smartcard:** Almost all - if not all - smart cards have a true random number generator (TRNG) on it. Most often the TRNG depends on thermal noise or clock drift, but other entropy sources are possible. A more technical evaluation of this can be found e.g. here   \n",
    "[https://csrc.nist.gov/csrc/media/events/random-bit-generation-workshop-2016/documents/presentations/sessionvi-2-viktor-fischer-presentation.pdf])  \n",
    "**True Randomness**: Allgemein werden \"Hardware Random Number Generators\" (hrng) verwendet bei smartcards\n",
    "https://en.wikipedia.org/wiki/Hardware_random_number_generator.  \n",
    "Diese messen \"Noise\" wie Thermisches Rauschen oder den Photoelektrischen Effekt.\n"
   ]
  },
  {
   "cell_type": "markdown",
   "metadata": {},
   "source": [
    "## Exercise 3: Linear congruential random number generator\n",
    "\n",
    "Compute the period of a linear congruential number generator if m = 11, b = 5, a = 3 and x0 = 7 is  \n",
    "used. Write down the sequence of random number! What is the maximal size of the period? Adapt the  \n",
    "paramters, such that the period is maximal!  \n",
    "\n",
    "---"
   ]
  },
  {
   "cell_type": "code",
   "execution_count": null,
   "metadata": {},
   "outputs": [],
   "source": []
  }
 ],
 "metadata": {
  "kernelspec": {
   "display_name": "Python 3",
   "language": "python",
   "name": "python3"
  },
  "language_info": {
   "codemirror_mode": {
    "name": "ipython",
    "version": 3
   },
   "file_extension": ".py",
   "mimetype": "text/x-python",
   "name": "python",
   "nbconvert_exporter": "python",
   "pygments_lexer": "ipython3",
   "version": "3.7.3"
  }
 },
 "nbformat": 4,
 "nbformat_minor": 2
}
