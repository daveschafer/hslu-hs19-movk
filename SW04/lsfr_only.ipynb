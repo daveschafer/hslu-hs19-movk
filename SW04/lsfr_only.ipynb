{
 "cells": [
  {
   "cell_type": "markdown",
   "metadata": {},
   "source": [
    "## LSFR\n",
    "\n",
    "### Paper Way 2 (mathematischer):\n",
    "\n",
    "Dieser Weg sollte besser verständlich sein und beinhaltet alle wesentlichen Schritte.  \n",
    "\n",
    "<img src=\"img/lsfr2_1.jpg\" style=\"height:700px\">\n",
    "<img src=\"img/lsfr2_2.jpg\" style=\"height:700px\">\n",
    "<img src=\"img/lsfr2_3.jpg\" style=\"height:700px\">\n",
    "<img src=\"img/lsfr2_4.jpg\" style=\"height:700px\">\n"
   ]
  },
  {
   "cell_type": "code",
   "execution_count": null,
   "metadata": {},
   "outputs": [],
   "source": []
  }
 ],
 "metadata": {
  "kernelspec": {
   "display_name": "Python 3",
   "language": "python",
   "name": "python3"
  },
  "language_info": {
   "codemirror_mode": {
    "name": "ipython",
    "version": 3
   },
   "file_extension": ".py",
   "mimetype": "text/x-python",
   "name": "python",
   "nbconvert_exporter": "python",
   "pygments_lexer": "ipython3",
   "version": "3.7.5"
  }
 },
 "nbformat": 4,
 "nbformat_minor": 2
}
