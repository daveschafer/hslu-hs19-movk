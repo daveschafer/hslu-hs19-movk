{
 "cells": [
  {
   "cell_type": "markdown",
   "metadata": {},
   "source": [
    "# Cryptographic Utilities Exercise || I.BA_MOVK_MM, Semesterweek 04\n",
    "*Please write down to solution of the exercises in a consise but comprehensible way. Numerical results\n",
    "should be accurate to 4 digits.*"
   ]
  },
  {
   "cell_type": "markdown",
   "metadata": {},
   "source": [
    "## 1 Exercise 1: MD5, SHA1, SHA256, SHA512\n",
    "\n",
    "Generate the previsously mentioned hash values of the string $Hello World!$. Do You get the same  \n",
    "result as Your neighbour? Check the size of each hash value! What are the corresponding block sizes?  \n",
    "Make a table! How many hash values would You have to generate in order to find a collision with a  \n",
    "probability of at least 50% (90%)?  \n",
    "\n",
    "---\n",
    "\n",
    "We will use some good ol' Python for that"
   ]
  },
  {
   "cell_type": "code",
   "execution_count": 30,
   "metadata": {},
   "outputs": [
    {
     "name": "stdout",
     "output_type": "stream",
     "text": [
      "md5:  06e0e6637d27b2622ab52022db713ce2\n",
      "md5-size:  16\n",
      "md5-block-size:  64\n",
      "\n",
      "sha1:  d735871a64133ee062400659cf91b8234d1c1930\n",
      "sha1-size:  20\n",
      "sha1-block-size:  64\n",
      "\n",
      "sha256:  729e344a01e52c822bdfdec61e28d6eda02658d2e7d2b80a9b9029f41e212dde\n",
      "sha256-size:  32\n",
      "sha256-block-size:  64\n",
      "\n",
      "sha512:  c5179301e5619c392fb9b8872b90156ea45e452ea7336d9ee727d5d4a2a95df6a973ddfdeb92bbc14e01aa923591d44835ac32ccd1a71f4681f6a731fae5c238\n",
      "sha512-size:  64\n",
      "sha512-block-size:  128\n"
     ]
    }
   ],
   "source": [
    "import hashlib\n",
    "\n",
    "plaintext = b'HelloWorld!'\n",
    "\n",
    "md5hash = hashlib.md5(plaintext)\n",
    "print(\"md5: \",md5hash.hexdigest())\n",
    "print(\"md5-size: \",md5hash.digest_size)\n",
    "print(\"md5-block-size: \",md5hash.block_size)\n",
    "print()\n",
    "\n",
    "sha1hash = hashlib.sha1(plaintext)\n",
    "print(\"sha1: \",sha1hash.hexdigest())\n",
    "print(\"sha1-size: \",sha1hash.digest_size)\n",
    "print(\"sha1-block-size: \",sha1hash.block_size)\n",
    "print()\n",
    "\n",
    "\n",
    "sha256hash = hashlib.sha256(plaintext)\n",
    "print(\"sha256: \",sha256hash.hexdigest())\n",
    "print(\"sha256-size: \",sha256hash.digest_size)\n",
    "print(\"sha256-block-size: \",sha256hash.block_size)\n",
    "print()\n",
    "\n",
    "\n",
    "sha512hash = hashlib.sha512(plaintext)\n",
    "print(\"sha512: \",sha512hash.hexdigest())\n",
    "print(\"sha512-size: \",sha512hash.digest_size)\n",
    "print(\"sha512-block-size: \",sha512hash.block_size)\n"
   ]
  },
  {
   "cell_type": "markdown",
   "metadata": {},
   "source": [
    "The values are obviously the same as my neighbours, because it is a hash and not an encryption with different keys!    \n",
    "\n",
    "The Probability of a Collission is besth shown here:  \n",
    "\n",
    "<img src=\"img/md5col.png\" style=\"height:400px\">\n",
    "\n",
    "\n",
    "\n",
    "\n"
   ]
  },
  {
   "cell_type": "markdown",
   "metadata": {},
   "source": [
    "## Exercise 2: True random number generator  \n",
    "\n",
    "Check if Your computer can generate true random numbers, possibly through some special device? Find  \n",
    "out the underlying physical principle (thermal noise, etc.). How can You use the random number generator  \n",
    "in the power shell (Windows) or some shell (bash, sh, etc.) on Linux or MAC OS X?  \n",
    "How are true random numbers generated on smart cards? Do some research on the internet!  \n",
    "\n",
    "---\n",
    " \n",
    "**Windows:** https://en.wikipedia.org/wiki/CryptGenRandom  \n",
    "**True-Randomness**: Pseudorandom \n",
    "\n",
    "---\n",
    "\n",
    "**Linux**: /dev/random  \n",
    "**True-Randomness**: Verwendet den \"Noise\" von Systemtreibern (CPU clock, GPU clock, Voltage Level...)  \n",
    "**Example**: cat /dev/urandom > ~/urandom_test2   \n",
    "\n",
    "--- \n",
    "\n",
    "**Smartcard:** Almost all - if not all - smart cards have a true random number generator (TRNG) on it. Most often the TRNG depends on thermal noise or clock drift, but other entropy sources are possible. A more technical evaluation of this can be found e.g. here   \n",
    "[https://csrc.nist.gov/csrc/media/events/random-bit-generation-workshop-2016/documents/presentations/sessionvi-2-viktor-fischer-presentation.pdf])  \n",
    "**True Randomness**: Allgemein werden \"Hardware Random Number Generators\" (hrng) verwendet bei smartcards\n",
    "https://en.wikipedia.org/wiki/Hardware_random_number_generator.  \n",
    "Diese messen \"Noise\" wie Thermisches Rauschen oder den Photoelektrischen Effekt.\n"
   ]
  },
  {
   "cell_type": "markdown",
   "metadata": {},
   "source": [
    "## Exercise 3: Linear congruential random number generator\n",
    "\n",
    "Compute the period of a linear congruential number generator if $m$ = 11, $b$ = 5, $a$ = 3 and $x_{0}$ = 7 is  \n",
    "used. Write down the sequence of random number! What is the maximal size of the period? Adapt the paramters, such that the period is maximal!  \n",
    "\n",
    "---"
   ]
  },
  {
   "cell_type": "markdown",
   "metadata": {},
   "source": [
    "Formel gemäss Folie Nr 37 :\n",
    "\n",
    "$x_{0} = s_{0} = 7$\n",
    "\n",
    "$s_{i} = (a \\cdot s_{i-1} + b) \\mod m$  \n",
    "\n",
    "**Example**\n",
    "\n",
    "$s_{1} = (3 \\cdot s_{0} + 5) \\mod 11 = (3 \\cdot 7 + 5) \\mod 11 = 4$   \n",
    "\n",
    "Das Maximum können wir mittels Python berechnen:"
   ]
  },
  {
   "cell_type": "code",
   "execution_count": 42,
   "metadata": {},
   "outputs": [
    {
     "name": "stdout",
     "output_type": "stream",
     "text": [
      "4\n",
      "6\n",
      "1\n",
      "8\n",
      "7\n",
      "4\n",
      "6\n",
      "1\n",
      "8\n",
      "7\n",
      "4\n",
      "6\n",
      "1\n",
      "8\n",
      "7\n",
      "4\n",
      "6\n",
      "1\n",
      "8\n",
      "7\n",
      "4\n",
      "6\n"
     ]
    }
   ],
   "source": [
    "def lcrn(a, sx, b, m):\n",
    "    res = ((a * sx + b) % m)\n",
    "    print(res)\n",
    "    return res\n",
    "    \n",
    "\n",
    "sx = lcrn(3,7,5,11)\n",
    "x = 1\n",
    "while x<22:\n",
    "    sx = lcrn(3,sx,5,11)\n",
    "    x=x+1"
   ]
  },
  {
   "cell_type": "markdown",
   "metadata": {},
   "source": [
    "Die momentane Period ist bei **5** (nach 5 wiederholt sich das Muster.\n",
    "\n",
    "---\n",
    "\n",
    "Um die Period maximal zu machen muss folgendes gelten:  \n",
    "- gcd(b,m) = 1 (erfüllt)\n",
    "- jeder primfaktor von m dividiert a-1 (nicht erfüllt)\n",
    "- falls eine Zahl m teilt, teilt diese Zahl auch a-1 (nicht erfüllt)\n",
    "\n",
    "Um diese Bedingungen zu erfüllen müssten wir also lediglich **a** anpassen, z.B. auf 12"
   ]
  },
  {
   "cell_type": "code",
   "execution_count": 44,
   "metadata": {},
   "outputs": [
    {
     "name": "stdout",
     "output_type": "stream",
     "text": [
      "1\n",
      "6\n",
      "0\n",
      "5\n",
      "10\n",
      "4\n",
      "9\n",
      "3\n",
      "8\n",
      "2\n",
      "7\n",
      "1\n",
      "6\n",
      "0\n",
      "5\n",
      "10\n",
      "4\n",
      "9\n",
      "3\n",
      "8\n",
      "2\n",
      "7\n"
     ]
    }
   ],
   "source": [
    "sx = lcrn(12,7,5,11)\n",
    "x = 1\n",
    "while x<22:\n",
    "    sx = lcrn(12,sx,5,11)\n",
    "    x=x+1"
   ]
  },
  {
   "cell_type": "markdown",
   "metadata": {},
   "source": [
    "Mit unserer angepassten Formel erhalten wir nun eine Maximale Periode von 11!\n",
    "\n",
    "**Note von Dave:** Bin mir nicht sicher ob diese Lösung so stimmt, danke fürs kontrollieren"
   ]
  },
  {
   "cell_type": "markdown",
   "metadata": {},
   "source": [
    "## Aufgabe 4: LFSR  \n",
    "\n",
    "Construct an LFSR of length 5 which produces the sequence of bits (1, 0, 1, 1, 0, 0, 1, 0, 1, 0,...). What\n",
    "is the period of this LFSR? What is the maximal period? Try to improve this LFSR such that it has maximum period!  \n",
    "\n",
    "**Python Way**:"
   ]
  },
  {
   "cell_type": "code",
   "execution_count": 47,
   "metadata": {},
   "outputs": [
    {
     "data": {
      "text/plain": [
       "['01011',\n",
       " '00101',\n",
       " '00010',\n",
       " '00001',\n",
       " '10000',\n",
       " '11000',\n",
       " '01100',\n",
       " '00110',\n",
       " '10011',\n",
       " '01001',\n",
       " '00100',\n",
       " '10010',\n",
       " '11001',\n",
       " '11100',\n",
       " '11110',\n",
       " '11111',\n",
       " '01111',\n",
       " '10111',\n",
       " '11011',\n",
       " '11101',\n",
       " '01110',\n",
       " '00111',\n",
       " '00011',\n",
       " '10001',\n",
       " '01000',\n",
       " '10100',\n",
       " '01010',\n",
       " '10101',\n",
       " '11010',\n",
       " '01101',\n",
       " '10110']"
      ]
     },
     "execution_count": 47,
     "metadata": {},
     "output_type": "execute_result"
    }
   ],
   "source": [
    "def lfsr5(seed, taps):\n",
    "    sr, xor = seed, 0\n",
    "    while 1:\n",
    "        for t in taps:\n",
    "            xor += int(sr[t-1])\n",
    "        xor %= 2\n",
    "        sr, xor = str(xor) + sr[:-1], 0\n",
    "        yield sr\n",
    "        if sr == seed:\n",
    "            break\n",
    "                \n",
    "a = lfsr5('10110', (5,3,2,1)) #IV\n",
    "[next(a) for j in range(31)]"
   ]
  },
  {
   "cell_type": "markdown",
   "metadata": {},
   "source": [
    "Period is 15 which can be improved to 31 by adding c2 = 1 as an example! To make computations easy,\n",
    "use the following python code"
   ]
  },
  {
   "cell_type": "markdown",
   "metadata": {},
   "source": [
    "**Papier Way:**\n",
    "\n",
    "\n",
    "<img src=\"img/psol.jpg\" style=\"height:400px\">\n"
   ]
  },
  {
   "cell_type": "markdown",
   "metadata": {},
   "source": [
    "## Exercise 4:Is random really random (optional)\n",
    "\n",
    "Nope"
   ]
  },
  {
   "cell_type": "markdown",
   "metadata": {},
   "source": [
    "## Exercise 5:Probability for a collision\n",
    "\n",
    "There are 40 people in a room. You bet, that there are at least 2 people with the same birthday. What is the probability, that You win? Use the exact formula as well as the approximation\n",
    "\n"
   ]
  },
  {
   "cell_type": "code",
   "execution_count": 7,
   "metadata": {},
   "outputs": [
    {
     "data": {
      "text/latex": [
       "$\\displaystyle 0.891231809817949$"
      ],
      "text/plain": [
       "0.891231809817949"
      ]
     },
     "execution_count": 7,
     "metadata": {},
     "output_type": "execute_result"
    }
   ],
   "source": [
    "from sympy import *\n",
    "i = symbols('i',integer=True)\n",
    "p = 1 - product((365-i)/365,(i,1,39))\n",
    "p.evalf()"
   ]
  },
  {
   "cell_type": "markdown",
   "metadata": {},
   "source": [
    "**Formel:**\n",
    "\n",
    "\n",
    "$ 1 - \\frac{365!}{(365 - n)! \\cdot 365^{n}} =  1 - \\frac{365!}{(365 - 40)! \\cdot 365^{40}} = 0.891$\n",
    "  \n",
    "**Mathematischer Hintergrund**: Im **Urnenmodell** entspricht diese Annahme einer Ziehung von $n$ Kugeln mit Zurücklegen aus einer Urne, die 365 Kugeln mit der Beschriftung „1. Januar“, „2. Januar“ usw. bis „31. Dezember“ enthält. "
   ]
  },
  {
   "cell_type": "markdown",
   "metadata": {},
   "source": [
    "## Exercise 6:Probability of a collision\n",
    "\n",
    "Suppose You use a hash function of length 128 bits. How many hash values would You have to compute in order to find a collision with probability at least 90%?   Use the approximate forumula from Slide 14/58.  \n",
    "\n",
    "$n = 2^{(m+1)/2} \\cdot \\sqrt{(\\ln{(\\frac{1}{1-p})}}$  \n",
    "\n",
    "where m=128 and p=0.9."
   ]
  },
  {
   "cell_type": "code",
   "execution_count": 13,
   "metadata": {},
   "outputs": [
    {
     "name": "stdout",
     "output_type": "stream",
     "text": [
      "3.958608607783506e+19\n"
     ]
    }
   ],
   "source": [
    "import math\n",
    "import numpy as np\n",
    "m = 128\n",
    "p = 0.9\n",
    "\n",
    "n = 2**((m+1)/2) * ( math.sqrt(np.log(1/(1-p)) ) )\n",
    "print (n)"
   ]
  },
  {
   "cell_type": "markdown",
   "metadata": {},
   "source": [
    "How much storage would You need, if You need 16 bytes for each hash?"
   ]
  },
  {
   "cell_type": "code",
   "execution_count": 17,
   "metadata": {},
   "outputs": [
    {
     "name": "stdout",
     "output_type": "stream",
     "text": [
      "byte:  6.33377377245361e+20\n",
      "kilobyte:  6.185325949661728e+17\n",
      "megabyte:  604035737271653.1\n",
      "gigabyte:  589878649679.3488\n",
      "terabyte:  576053368.827489\n",
      "petabyte:  562552.1179955947\n"
     ]
    }
   ],
   "source": [
    "byte = n * 16\n",
    "kilobyte = byte/1024\n",
    "megabyte = kilobyte/1024\n",
    "gigabyte = megabyte/1024\n",
    "terabyte = gigabyte/1024\n",
    "petabyte = terabyte/1024\n",
    "exabyte = exabyte/1024\n",
    "\n",
    "\n",
    "\n",
    "print(\"byte: \",byte)\n",
    "print(\"kilobyte: \",kilobyte)\n",
    "print(\"megabyte: \",megabyte)\n",
    "print(\"gigabyte: \",gigabyte)\n",
    "print(\"terabyte: \",terabyte)\n",
    "print(\"petabyte: \",petabyte)"
   ]
  },
  {
   "cell_type": "code",
   "execution_count": null,
   "metadata": {},
   "outputs": [],
   "source": []
  }
 ],
 "metadata": {
  "kernelspec": {
   "display_name": "Python 3",
   "language": "python",
   "name": "python3"
  },
  "language_info": {
   "codemirror_mode": {
    "name": "ipython",
    "version": 3
   },
   "file_extension": ".py",
   "mimetype": "text/x-python",
   "name": "python",
   "nbconvert_exporter": "python",
   "pygments_lexer": "ipython3",
   "version": "3.7.3"
  }
 },
 "nbformat": 4,
 "nbformat_minor": 2
}
