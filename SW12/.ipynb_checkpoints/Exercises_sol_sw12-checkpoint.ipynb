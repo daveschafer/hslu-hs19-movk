{
 "cells": [
  {
   "cell_type": "markdown",
   "metadata": {},
   "source": [
    "# I.BA_MOVK_MM – Kryptographie (SW11)\n",
    "## Übung: ePayment"
   ]
  },
  {
   "cell_type": "markdown",
   "metadata": {},
   "source": [
    "## Aufgabe 1: \n",
    "\n",
    "Ein Betrüger möchte eine Bank, die Protokoll Nr. 4 benutzt, dazu bringen, blind eine 100-CHF Münze  \n",
    "zu signieren, seinem Konto aber nur einen Schweizer Franken zu belasten. Dazu erzeugt er 99 Münzen   \n",
    "vom Wert CHF 1 und eine 100-CHF-Münze.      \n",
    "\n",
    "\n",
    "<img src=\"img/protokoll4.png\" style=\"height:320px\">  \n",
    "*Note: Aufgrund des Secret Splittings braucht die bank nur $n-1$ (99) Münzen zum validieren der Identität*  \n",
    "*Wenn das geklappt hat wird die verbliebene Münze blind signiert*\n",
    "\n",
    "1) Wie gross ist die Wahrscheinlichkeit dafür, dass die Bank blind die 100-CHF-Münze signiert?  \n",
    "2) Wie kann der Bank verhindern, dass der Kunde einen Betrugsversuch unternimmt?"
   ]
  },
  {
   "cell_type": "markdown",
   "metadata": {},
   "source": [
    "**Solution**\n",
    "\n",
    "1.) Die W'keit ist $p = \\frac{1}{100} = 1\\%$\n",
    "\n",
    "2.) Am einfachsten für die Bank ist es, dem Kunden von seinem Konto immer den Höchstbetrag abzubuchen,  \n",
    "der unter den 99 geöffneten Münzen gefunden wurde. Damit werden 99 von 100 derartigen  \n",
    "Betrugsversuchen automatisch bestraft und die Bank macht auch noch Gewinne mit diesem Verfahren."
   ]
  },
  {
   "cell_type": "markdown",
   "metadata": {},
   "source": [
    "## Aufgabe 2:\n",
    "\n",
    "Das Protokoll von E-Cash entwickelt von der Firma Digicash sieht eine zufällig gewählte  \n",
    "Seriennummer S für jede eMünze vor. Sollte S zufällig gewählt werden oder sollte S wie die Zahl X im  \n",
    "Wahlzettel für eVoting (Vorlesung SW11) von einer bestimmten Struktur sein? Begründen Sie Ihre Antwort?"
   ]
  },
  {
   "cell_type": "markdown",
   "metadata": {},
   "source": [
    "**Solution**\n",
    "\n",
    "Die Seriennummer sollte nicht Random sein, da man sonst leicht einen Betrugsversuch machen könnte ala:\n",
    "\n",
    "- Mallory nimmt generiert eine zufällige Zahl $C$ und verschlüsselt mit einem Public-Key (e,d): $S=C^{e}$\n",
    "\n",
    "- Mit $ C = S^{d}$ kann die Zahl korrekt entschlüsselt werden und man könnte meinen es sei eine richtige Seriennummer.\n",
    "\n",
    "Ein Beispiel für eine gute Seriennummer Struktur wäre ein Hash von relevanten Daten der Münze (Issuer, Betrag, Gültigskeitszeitraum)\n"
   ]
  },
  {
   "cell_type": "markdown",
   "metadata": {},
   "source": [
    "## Aufgabe 3: \n",
    "\n",
    "Lesen Sie die Dokumente unter dem Link unten und beantworten Sie die folgenden Fragen:\n",
    "\n",
    "1. Was ist ein Fiatgeld?\n",
    "2. Aus welchem Grund wurde zum ersten Mal eine Währung als Fiatgeld eingeführt? Wann war das?\n",
    "3. Nennen Sie zwei weitere Beispiele für das Fiatgeld.\n",
    "\n",
    "[Link zu Fiatgeld](https://www.ig.com/ch/trading-glossar/fiatgeld-defintion)"
   ]
  },
  {
   "cell_type": "markdown",
   "metadata": {},
   "source": [
    "**Solution**  \n",
    "\n",
    "*Ist das relevant für die MEP???*\n",
    "\n",
    "1. Als Fiatgeld wird eine nationale Währung bezeichnet, die nicht an den Preis eines Rohstoffes wie Gold oder Silber gebunden ist. Der Wert des Fiatgelds basiert grösstenteils auf dem Vertrauen der Öffentlichkeit zum Herausgeber der Währung\n",
    "2. Euro, Dollar, Pfund etc. können auch schon als Fiat Geld bezeichnet werden, da die Banknoten keinen inneren Wert haben. Einführung bereits im Mittelalter (weil man keine Goldsäcke mehr rumtragen wollte?)  \n",
    "Warum macht man Fiat Geld? Vermutlich damit die Staaten die Geldpolitik besser beeinflussen können.\n",
    "3. US Dollar wurde 1971 vom Goldpreis entkoppelt und somit zum Fiatgeld. Bitcoin könnte man auch als Fiatgeld bezeichnen.\n"
   ]
  },
  {
   "cell_type": "markdown",
   "metadata": {},
   "source": [
    "## Aufgabe 4:\n",
    "\n",
    "Wie viele Bit muss die zufällig generierte Seriennummer einer E-Münze lang sein, damit die  \n",
    "Wahrscheinlichkeit für eine zufällige Übereinstimmung von zwei Nummern kleiner ist als die  \n",
    "Wahrscheinlichkeit, bei zwei aufeinander folgenden Ziehungen im Lotto (6 aus 49) sechs Richtige zu  \n",
    "tippen? Tipp: Berechnen Sie zuerst die Wahrscheinlichkeit, mit einer zufällig erzeugten Seriennummer  \n",
    "eine vorgegebene Zahl fester Länge zu treffen. Bestimmen Sie dann deren Länge **n**.\n"
   ]
  },
  {
   "cell_type": "markdown",
   "metadata": {},
   "source": [
    "**Solution**\n",
    "\n",
    "<img src=\"img/bitcsol.png\" style=\"height:400px\">"
   ]
  },
  {
   "cell_type": "markdown",
   "metadata": {},
   "source": [
    "## Aufgabe 5: Secret Splitting\n",
    "\n",
    "Sei Alices Identitätsinformation UID = 1000. Ist die folgende Gleichung korrekt?\n",
    "\n",
    "$$1000 = 9008 \\oplus 8408$$\n"
   ]
  },
  {
   "cell_type": "markdown",
   "metadata": {},
   "source": [
    "**Solution**\n",
    "\n",
    "Zahlen in Binärsystem umwandeln und XORen: \n",
    "\n",
    "8192 4096 2048 1024 512 256 128 64 32 16 8 4 2 1\n",
    "\n",
    "9008 = 1 0 0 0 1 1 0 0 1 1 0 0 0 0  \n",
    "8408 = 1 0 0 0 0 0 1 1 0 1 1 0 0 0  \n",
    "XOR  = 0 0 0 0 1 1 1 1 1 0 1 0 0 0 = 8 + 32 + 64 + 128 + 256 +512 = 100  \n",
    "\n",
    "All good!\n"
   ]
  },
  {
   "cell_type": "code",
   "execution_count": null,
   "metadata": {},
   "outputs": [],
   "source": []
  }
 ],
 "metadata": {
  "kernelspec": {
   "display_name": "Python 3",
   "language": "python",
   "name": "python3"
  },
  "language_info": {
   "codemirror_mode": {
    "name": "ipython",
    "version": 3
   },
   "file_extension": ".py",
   "mimetype": "text/x-python",
   "name": "python",
   "nbconvert_exporter": "python",
   "pygments_lexer": "ipython3",
   "version": "3.7.5"
  }
 },
 "nbformat": 4,
 "nbformat_minor": 2
}
