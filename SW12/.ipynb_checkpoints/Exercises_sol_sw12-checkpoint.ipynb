{
 "cells": [
  {
   "cell_type": "markdown",
   "metadata": {},
   "source": [
    "# I.BA_MOVK_MM – Kryptographie (SW11)\n",
    "## Übung: ePayment"
   ]
  },
  {
   "cell_type": "markdown",
   "metadata": {},
   "source": [
    "## Aufgabe 1: \n",
    "\n",
    "Ein Betrüger möchte eine Bank, die Protokoll Nr. 4 benutzt, dazu bringen, blind eine 100-CHFMünze\n",
    "zu signieren, seinem Konto aber nur einen Schweizer Franken zu belasten. Dazu erzeugt\n",
    "er 99 Münzen vom Wert CHF 1 und eine 100-CHF-Münze.  \n",
    "\n",
    "1) Wie gross ist die Wahrscheinlichkeit dafür, dass die Bank blind die 100-CHF-Münze signiert?  \n",
    "2) Wie kann der Bank verhindern, dass der Kunde einen Betrugsversuch unternimmt?"
   ]
  },
  {
   "cell_type": "markdown",
   "metadata": {},
   "source": [
    "**Solution**\n",
    "\n",
    "\n"
   ]
  },
  {
   "cell_type": "markdown",
   "metadata": {},
   "source": [
    "## Aufgabe 2:\n",
    "\n",
    "Das Protokoll von E-Cash entwickelt von der Firma Digicash sieht eine zufällig gewählte  \n",
    "Seriennummer S für jede eMünze vor. Sollte S zufällig gewählt werden oder sollte S wie die Zahl X im  \n",
    "Wahlzettel für eVoting (Vorlesung SW11) von einer bestimmten Struktur sein? Begründen Sie Ihre Antwort?"
   ]
  },
  {
   "cell_type": "markdown",
   "metadata": {},
   "source": [
    "**Solution**\n",
    "\n"
   ]
  },
  {
   "cell_type": "markdown",
   "metadata": {},
   "source": [
    "## Aufgabe 3: \n",
    "\n",
    "Lesen Sie die Dokumente unter dem Link unten und beantworten Sie die folgenden Fragen:\n",
    "\n",
    "1. Was ist ein Fiatgeld?\n",
    "2. Aus welchem Grund wurde zum ersten Mal eine Währung als Fiatgeld eingeführt? Wann war das?\n",
    "3. Nennen Sie zwei weitere Beispiele für das Fiatgeld.\n",
    "\n",
    "[Link zu Fiatgeld](https://www.ig.com/ch/trading-glossar/fiatgeld-defintion)"
   ]
  },
  {
   "cell_type": "markdown",
   "metadata": {},
   "source": [
    "**Solution**  \n",
    "\n",
    "*Ist das relevant für die MEP???*"
   ]
  },
  {
   "cell_type": "markdown",
   "metadata": {},
   "source": [
    "## Aufgabe 4:\n",
    "\n",
    "Wie viele Bit muss die zufällig generierte Seriennummer einer E-Münze lang sein, damit die  \n",
    "Wahrscheinlichkeit für eine zufällige Übereinstimmung von zwei Nummern kleiner ist als die  \n",
    "Wahrscheinlichkeit, bei zwei aufeinander folgenden Ziehungen im Lotto (6 aus 49) sechs Richtige zu  \n",
    "tippen? Tipp: Berechnen Sie zuerst die Wahrscheinlichkeit, mit einer zufällig erzeugten Seriennummer  \n",
    "eine vorgegebene Zahl fester Länge zu treffen. Bestimmen Sie dann deren Länge **n**.\n"
   ]
  },
  {
   "cell_type": "markdown",
   "metadata": {},
   "source": [
    "**Solution**\n",
    "\n"
   ]
  },
  {
   "cell_type": "markdown",
   "metadata": {},
   "source": [
    "## Aufgabe 5\n",
    "\n",
    "Sei Alices Identitätsinformation UID = 1000. Ist die folgende Gleichung korrekt?\n",
    "\n",
    "$$1000 = 9008 \\oplus 8408$$\n"
   ]
  },
  {
   "cell_type": "markdown",
   "metadata": {},
   "source": [
    "**Solution**\n",
    "\n"
   ]
  },
  {
   "cell_type": "code",
   "execution_count": null,
   "metadata": {},
   "outputs": [],
   "source": []
  }
 ],
 "metadata": {
  "kernelspec": {
   "display_name": "Python 3",
   "language": "python",
   "name": "python3"
  },
  "language_info": {
   "codemirror_mode": {
    "name": "ipython",
    "version": 3
   },
   "file_extension": ".py",
   "mimetype": "text/x-python",
   "name": "python",
   "nbconvert_exporter": "python",
   "pygments_lexer": "ipython3",
   "version": "3.7.5"
  }
 },
 "nbformat": 4,
 "nbformat_minor": 2
}
